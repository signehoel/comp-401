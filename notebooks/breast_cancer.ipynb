{
 "cells": [
  {
   "cell_type": "code",
   "execution_count": 1,
   "metadata": {},
   "outputs": [],
   "source": [
    "from multi_omics_integration.func import *\n",
    "from multi_omics_integration.classification_pipeline import *\n",
    "from multi_omics_integration.processing import *\n",
    "from multi_omics_integration.evaluation import *\n",
    "import warnings\n",
    "from pandas.errors import SettingWithCopyWarning\n",
    "from sklearn.exceptions import ConvergenceWarning\n",
    "\n",
    "warnings.simplefilter(action=\"ignore\", category=SettingWithCopyWarning)\n",
    "warnings.simplefilter(action=\"ignore\", category=FutureWarning)\n",
    "warnings.simplefilter(action=\"ignore\", category=ConvergenceWarning)"
   ]
  },
  {
   "cell_type": "code",
   "execution_count": 2,
   "metadata": {},
   "outputs": [],
   "source": [
    "datasets = {\n",
    "            'cnv': '../data/breast/CNV_processedDat.txt',\n",
    "            'mrna': '../data/breast/mRNA_processedDat.txt',\n",
    "            'prot': '../data/breast/PROT_processedDat.txt'\n",
    "}\n",
    "        \n",
    "labels = '../data/breast/TCGA_BRCA_subtypes.txt'"
   ]
  },
  {
   "cell_type": "code",
   "execution_count": 3,
   "metadata": {},
   "outputs": [],
   "source": [
    "from sklearn.pipeline import make_pipeline\n",
    "from sklearn.preprocessing import MinMaxScaler\n",
    "\n",
    "estimators = [\n",
    "    (\"logistic\", LogisticRegression(solver=\"lbfgs\", n_jobs=-1, multi_class='multinomial', max_iter=1000, random_state=0)),\n",
    "    (\"lasso\", LogisticRegression(solver=\"liblinear\", penalty=\"l1\", max_iter=1000, random_state=0)),\n",
    "    (\"elasticnet\", SGDClassifier(loss=\"log_loss\", penalty=\"elasticnet\", n_jobs=-1, random_state=0)),\n",
    "    (\"random_forest\", RandomForestClassifier(n_estimators=100, random_state=0, n_jobs=-1)),\n",
    "    (\"deep_nn\", make_pipeline(StandardScaler(), MLPClassifier(max_iter=500, random_state=0))),\n",
    "    (\"svc\", CalibratedClassifierCV(LinearSVC(dual=True, C=10, random_state=0), cv=StratifiedKFold(n_splits=3, random_state=0, shuffle=True), n_jobs=-1)),\n",
    "]"
   ]
  },
  {
   "cell_type": "code",
   "execution_count": 4,
   "metadata": {},
   "outputs": [],
   "source": [
    "merged_X, X, y = load_resize(datasets, labels, 'PAM50')"
   ]
  },
  {
   "cell_type": "markdown",
   "metadata": {},
   "source": [
    "## Preprocessing"
   ]
  },
  {
   "cell_type": "code",
   "execution_count": 26,
   "metadata": {},
   "outputs": [],
   "source": [
    "def get_skewed_columns(df):\n",
    "    \"\"\"\n",
    "    :param df: dataframe where the skewed columns need to determined\n",
    "    :return: skew_cols: dataframe with the skewed columns\n",
    "    \"\"\"\n",
    "    skew_limit = 1  # define a limit above which we will log transform\n",
    "    skew_vals = df.skew()\n",
    "    # Showing the skewed columns\n",
    "    skew_cols = (skew_vals\n",
    "                 .sort_values(ascending=False)\n",
    "                 .to_frame()\n",
    "                 .rename(columns={0: 'Skew'})\n",
    "                 .query('abs(Skew) > {}'.format(skew_limit)))\n",
    "    return skew_cols"
   ]
  },
  {
   "cell_type": "code",
   "execution_count": 27,
   "metadata": {},
   "outputs": [
    {
     "data": {
      "text/html": [
       "<div>\n",
       "<style scoped>\n",
       "    .dataframe tbody tr th:only-of-type {\n",
       "        vertical-align: middle;\n",
       "    }\n",
       "\n",
       "    .dataframe tbody tr th {\n",
       "        vertical-align: top;\n",
       "    }\n",
       "\n",
       "    .dataframe thead th {\n",
       "        text-align: right;\n",
       "    }\n",
       "</style>\n",
       "<table border=\"1\" class=\"dataframe\">\n",
       "  <thead>\n",
       "    <tr style=\"text-align: right;\">\n",
       "      <th></th>\n",
       "      <th>Skew</th>\n",
       "    </tr>\n",
       "  </thead>\n",
       "  <tbody>\n",
       "    <tr>\n",
       "      <th>LANCL2_prot</th>\n",
       "      <td>3.718915</td>\n",
       "    </tr>\n",
       "    <tr>\n",
       "      <th>FRA10AC1_prot</th>\n",
       "      <td>3.287242</td>\n",
       "    </tr>\n",
       "    <tr>\n",
       "      <th>SUMF2_prot</th>\n",
       "      <td>3.173488</td>\n",
       "    </tr>\n",
       "    <tr>\n",
       "      <th>CHGB_prot</th>\n",
       "      <td>2.994493</td>\n",
       "    </tr>\n",
       "    <tr>\n",
       "      <th>ACSM1_prot</th>\n",
       "      <td>2.994391</td>\n",
       "    </tr>\n",
       "    <tr>\n",
       "      <th>...</th>\n",
       "      <td>...</td>\n",
       "    </tr>\n",
       "    <tr>\n",
       "      <th>EBAG9_prot</th>\n",
       "      <td>-3.250215</td>\n",
       "    </tr>\n",
       "    <tr>\n",
       "      <th>BNIP1_prot</th>\n",
       "      <td>-3.320680</td>\n",
       "    </tr>\n",
       "    <tr>\n",
       "      <th>NEK1_prot</th>\n",
       "      <td>-3.333115</td>\n",
       "    </tr>\n",
       "    <tr>\n",
       "      <th>PIP5K1A_prot</th>\n",
       "      <td>-3.919619</td>\n",
       "    </tr>\n",
       "    <tr>\n",
       "      <th>CDC34_prot</th>\n",
       "      <td>-4.485872</td>\n",
       "    </tr>\n",
       "  </tbody>\n",
       "</table>\n",
       "<p>1444 rows × 1 columns</p>\n",
       "</div>"
      ],
      "text/plain": [
       "                   Skew\n",
       "LANCL2_prot    3.718915\n",
       "FRA10AC1_prot  3.287242\n",
       "SUMF2_prot     3.173488\n",
       "CHGB_prot      2.994493\n",
       "ACSM1_prot     2.994391\n",
       "...                 ...\n",
       "EBAG9_prot    -3.250215\n",
       "BNIP1_prot    -3.320680\n",
       "NEK1_prot     -3.333115\n",
       "PIP5K1A_prot  -3.919619\n",
       "CDC34_prot    -4.485872\n",
       "\n",
       "[1444 rows x 1 columns]"
      ]
     },
     "execution_count": 27,
     "metadata": {},
     "output_type": "execute_result"
    }
   ],
   "source": [
    "get_skewed_columns(X['prot'])"
   ]
  },
  {
   "cell_type": "markdown",
   "metadata": {},
   "source": [
    "### mRNA"
   ]
  },
  {
   "cell_type": "code",
   "execution_count": 10,
   "metadata": {},
   "outputs": [
    {
     "data": {
      "image/png": "[encoded data removed]",
      "text/plain": [
       "<Figure size 640x480 with 1 Axes>"
      ]
     },
     "metadata": {},
     "output_type": "display_data"
    }
   ],
   "source": [
    "plt.hist(np.mean(X['mrna']), bins=50)\n",
    "plt.show()"
   ]
  },
  {
   "cell_type": "code",
   "execution_count": 46,
   "metadata": {},
   "outputs": [],
   "source": [
    "from sklearn.preprocessing import normalize\n",
    "standard = StandardScaler()\n",
    "scaled = standard.fit_transform(X['mrna'])"
   ]
  },
  {
   "cell_type": "code",
   "execution_count": null,
   "metadata": {},
   "outputs": [],
   "source": [
    "normalize = normalize(X['mrna'], axis=0)\n",
    "data_scaled = pd.DataFrame(normalize, columns=X['mrna'].columns)"
   ]
  },
  {
   "cell_type": "code",
   "execution_count": 44,
   "metadata": {},
   "outputs": [
    {
     "data": {
      "image/png": "[encoded data removed]",
      "text/plain": [
       "<Figure size 640x480 with 1 Axes>"
      ]
     },
     "metadata": {},
     "output_type": "display_data"
    }
   ],
   "source": [
    "plt.hist(np.mean(X['mrna']), bins=50)\n",
    "plt.show()"
   ]
  },
  {
   "cell_type": "markdown",
   "metadata": {},
   "source": [
    "### Prot"
   ]
  },
  {
   "cell_type": "code",
   "execution_count": 57,
   "metadata": {},
   "outputs": [],
   "source": [
    "from sklearn.preprocessing import Normalizer\n",
    "scaler = StandardScaler()\n",
    "normalize = scaler.fit_transform(X['prot'])\n",
    "data_scaled = pd.DataFrame(normalize, columns=X['prot'].columns)"
   ]
  },
  {
   "cell_type": "code",
   "execution_count": 58,
   "metadata": {},
   "outputs": [
    {
     "data": {
      "text/html": [
       "<div>\n",
       "<style scoped>\n",
       "    .dataframe tbody tr th:only-of-type {\n",
       "        vertical-align: middle;\n",
       "    }\n",
       "\n",
       "    .dataframe tbody tr th {\n",
       "        vertical-align: top;\n",
       "    }\n",
       "\n",
       "    .dataframe thead th {\n",
       "        text-align: right;\n",
       "    }\n",
       "</style>\n",
       "<table border=\"1\" class=\"dataframe\">\n",
       "  <thead>\n",
       "    <tr style=\"text-align: right;\">\n",
       "      <th></th>\n",
       "      <th>A1BG_prot</th>\n",
       "      <th>A2M_prot</th>\n",
       "      <th>A2ML1_prot</th>\n",
       "      <th>AAAS_prot</th>\n",
       "      <th>AACS_prot</th>\n",
       "      <th>AAGAB_prot</th>\n",
       "      <th>AAK1_prot</th>\n",
       "      <th>AAMDC_prot</th>\n",
       "      <th>AAMP_prot</th>\n",
       "      <th>AAR2_prot</th>\n",
       "      <th>...</th>\n",
       "      <th>ZRSR2_prot</th>\n",
       "      <th>ZSCAN18_prot</th>\n",
       "      <th>ZSWIM8_prot</th>\n",
       "      <th>ZW10_prot</th>\n",
       "      <th>ZWILCH_prot</th>\n",
       "      <th>ZWINT_prot</th>\n",
       "      <th>ZYG11B_prot</th>\n",
       "      <th>ZYX_prot</th>\n",
       "      <th>ZZEF1_prot</th>\n",
       "      <th>ZZZ3_prot</th>\n",
       "    </tr>\n",
       "  </thead>\n",
       "  <tbody>\n",
       "    <tr>\n",
       "      <th>0</th>\n",
       "      <td>-0.956485</td>\n",
       "      <td>-0.397222</td>\n",
       "      <td>1.857197</td>\n",
       "      <td>-0.429462</td>\n",
       "      <td>-1.508858</td>\n",
       "      <td>-0.828228</td>\n",
       "      <td>-0.840309</td>\n",
       "      <td>0.378944</td>\n",
       "      <td>-0.804719</td>\n",
       "      <td>-0.099497</td>\n",
       "      <td>...</td>\n",
       "      <td>0.228694</td>\n",
       "      <td>-0.139183</td>\n",
       "      <td>0.270112</td>\n",
       "      <td>0.013868</td>\n",
       "      <td>0.100375</td>\n",
       "      <td>-0.120801</td>\n",
       "      <td>-0.858608</td>\n",
       "      <td>0.090639</td>\n",
       "      <td>-0.285804</td>\n",
       "      <td>-0.218359</td>\n",
       "    </tr>\n",
       "    <tr>\n",
       "      <th>1</th>\n",
       "      <td>0.665383</td>\n",
       "      <td>0.852401</td>\n",
       "      <td>-1.899045</td>\n",
       "      <td>2.679871</td>\n",
       "      <td>-0.111891</td>\n",
       "      <td>-0.366473</td>\n",
       "      <td>-0.756184</td>\n",
       "      <td>-1.760515</td>\n",
       "      <td>-1.366699</td>\n",
       "      <td>2.865395</td>\n",
       "      <td>...</td>\n",
       "      <td>-1.532916</td>\n",
       "      <td>-1.769399</td>\n",
       "      <td>1.858999</td>\n",
       "      <td>0.822321</td>\n",
       "      <td>0.952063</td>\n",
       "      <td>-1.034434</td>\n",
       "      <td>2.245140</td>\n",
       "      <td>-1.442913</td>\n",
       "      <td>0.154830</td>\n",
       "      <td>2.644577</td>\n",
       "    </tr>\n",
       "    <tr>\n",
       "      <th>2</th>\n",
       "      <td>1.667063</td>\n",
       "      <td>1.615182</td>\n",
       "      <td>0.238230</td>\n",
       "      <td>1.850420</td>\n",
       "      <td>-1.125776</td>\n",
       "      <td>1.527736</td>\n",
       "      <td>2.642638</td>\n",
       "      <td>-1.820165</td>\n",
       "      <td>-0.630282</td>\n",
       "      <td>0.195015</td>\n",
       "      <td>...</td>\n",
       "      <td>1.223733</td>\n",
       "      <td>0.540032</td>\n",
       "      <td>0.120865</td>\n",
       "      <td>1.693876</td>\n",
       "      <td>3.024765</td>\n",
       "      <td>2.607282</td>\n",
       "      <td>2.888155</td>\n",
       "      <td>-2.188022</td>\n",
       "      <td>-1.175469</td>\n",
       "      <td>-1.495259</td>\n",
       "    </tr>\n",
       "    <tr>\n",
       "      <th>3</th>\n",
       "      <td>-0.504858</td>\n",
       "      <td>-0.330119</td>\n",
       "      <td>-0.046327</td>\n",
       "      <td>0.251593</td>\n",
       "      <td>-0.898547</td>\n",
       "      <td>-0.710808</td>\n",
       "      <td>-0.751625</td>\n",
       "      <td>-0.101347</td>\n",
       "      <td>-0.292410</td>\n",
       "      <td>-0.141792</td>\n",
       "      <td>...</td>\n",
       "      <td>0.539006</td>\n",
       "      <td>0.139091</td>\n",
       "      <td>0.439650</td>\n",
       "      <td>0.869904</td>\n",
       "      <td>1.010408</td>\n",
       "      <td>1.096530</td>\n",
       "      <td>0.010266</td>\n",
       "      <td>1.176367</td>\n",
       "      <td>-0.511520</td>\n",
       "      <td>0.379874</td>\n",
       "    </tr>\n",
       "    <tr>\n",
       "      <th>4</th>\n",
       "      <td>-0.607927</td>\n",
       "      <td>-0.286130</td>\n",
       "      <td>-0.326793</td>\n",
       "      <td>-0.152620</td>\n",
       "      <td>0.648835</td>\n",
       "      <td>-0.106283</td>\n",
       "      <td>-0.531853</td>\n",
       "      <td>1.626288</td>\n",
       "      <td>-0.566506</td>\n",
       "      <td>-0.473666</td>\n",
       "      <td>...</td>\n",
       "      <td>-0.086265</td>\n",
       "      <td>-0.462997</td>\n",
       "      <td>0.269182</td>\n",
       "      <td>-0.475448</td>\n",
       "      <td>-0.198871</td>\n",
       "      <td>0.202065</td>\n",
       "      <td>-0.706124</td>\n",
       "      <td>-0.303169</td>\n",
       "      <td>0.457469</td>\n",
       "      <td>0.059646</td>\n",
       "    </tr>\n",
       "    <tr>\n",
       "      <th>...</th>\n",
       "      <td>...</td>\n",
       "      <td>...</td>\n",
       "      <td>...</td>\n",
       "      <td>...</td>\n",
       "      <td>...</td>\n",
       "      <td>...</td>\n",
       "      <td>...</td>\n",
       "      <td>...</td>\n",
       "      <td>...</td>\n",
       "      <td>...</td>\n",
       "      <td>...</td>\n",
       "      <td>...</td>\n",
       "      <td>...</td>\n",
       "      <td>...</td>\n",
       "      <td>...</td>\n",
       "      <td>...</td>\n",
       "      <td>...</td>\n",
       "      <td>...</td>\n",
       "      <td>...</td>\n",
       "      <td>...</td>\n",
       "      <td>...</td>\n",
       "    </tr>\n",
       "    <tr>\n",
       "      <th>98</th>\n",
       "      <td>1.363396</td>\n",
       "      <td>1.175113</td>\n",
       "      <td>2.508876</td>\n",
       "      <td>2.347449</td>\n",
       "      <td>0.712634</td>\n",
       "      <td>-0.675912</td>\n",
       "      <td>1.428126</td>\n",
       "      <td>-2.086839</td>\n",
       "      <td>-2.267467</td>\n",
       "      <td>1.649196</td>\n",
       "      <td>...</td>\n",
       "      <td>-4.856804</td>\n",
       "      <td>-0.957751</td>\n",
       "      <td>-2.553074</td>\n",
       "      <td>0.981134</td>\n",
       "      <td>1.937417</td>\n",
       "      <td>-0.284238</td>\n",
       "      <td>2.211484</td>\n",
       "      <td>-1.220857</td>\n",
       "      <td>-1.624340</td>\n",
       "      <td>0.903917</td>\n",
       "    </tr>\n",
       "    <tr>\n",
       "      <th>99</th>\n",
       "      <td>0.136158</td>\n",
       "      <td>0.004591</td>\n",
       "      <td>-1.588187</td>\n",
       "      <td>0.057478</td>\n",
       "      <td>-0.641052</td>\n",
       "      <td>0.005476</td>\n",
       "      <td>0.154986</td>\n",
       "      <td>0.616327</td>\n",
       "      <td>0.323433</td>\n",
       "      <td>-0.157827</td>\n",
       "      <td>...</td>\n",
       "      <td>0.626745</td>\n",
       "      <td>-0.447138</td>\n",
       "      <td>0.390254</td>\n",
       "      <td>-0.246632</td>\n",
       "      <td>-0.097350</td>\n",
       "      <td>-0.533602</td>\n",
       "      <td>-0.295617</td>\n",
       "      <td>-0.246731</td>\n",
       "      <td>1.539182</td>\n",
       "      <td>0.117355</td>\n",
       "    </tr>\n",
       "    <tr>\n",
       "      <th>100</th>\n",
       "      <td>-2.104845</td>\n",
       "      <td>-1.866432</td>\n",
       "      <td>2.765003</td>\n",
       "      <td>0.010475</td>\n",
       "      <td>-0.739295</td>\n",
       "      <td>-1.391143</td>\n",
       "      <td>0.263542</td>\n",
       "      <td>1.039824</td>\n",
       "      <td>-0.826123</td>\n",
       "      <td>-1.567381</td>\n",
       "      <td>...</td>\n",
       "      <td>0.201965</td>\n",
       "      <td>0.178477</td>\n",
       "      <td>0.638473</td>\n",
       "      <td>-0.660906</td>\n",
       "      <td>-0.223820</td>\n",
       "      <td>-1.025770</td>\n",
       "      <td>-1.373172</td>\n",
       "      <td>-0.049661</td>\n",
       "      <td>-1.860173</td>\n",
       "      <td>-0.149556</td>\n",
       "    </tr>\n",
       "    <tr>\n",
       "      <th>101</th>\n",
       "      <td>0.651186</td>\n",
       "      <td>0.575454</td>\n",
       "      <td>3.549817</td>\n",
       "      <td>1.502756</td>\n",
       "      <td>-1.940724</td>\n",
       "      <td>-0.954508</td>\n",
       "      <td>-0.334183</td>\n",
       "      <td>-1.601486</td>\n",
       "      <td>-2.653125</td>\n",
       "      <td>2.824596</td>\n",
       "      <td>...</td>\n",
       "      <td>2.174193</td>\n",
       "      <td>-0.566389</td>\n",
       "      <td>1.664854</td>\n",
       "      <td>-0.869796</td>\n",
       "      <td>1.304328</td>\n",
       "      <td>1.179343</td>\n",
       "      <td>2.719321</td>\n",
       "      <td>-0.486156</td>\n",
       "      <td>-1.889857</td>\n",
       "      <td>-1.061120</td>\n",
       "    </tr>\n",
       "    <tr>\n",
       "      <th>102</th>\n",
       "      <td>-1.085937</td>\n",
       "      <td>-0.352185</td>\n",
       "      <td>0.461825</td>\n",
       "      <td>-0.637123</td>\n",
       "      <td>0.328713</td>\n",
       "      <td>0.766182</td>\n",
       "      <td>-0.706175</td>\n",
       "      <td>1.187193</td>\n",
       "      <td>0.816698</td>\n",
       "      <td>-0.234166</td>\n",
       "      <td>...</td>\n",
       "      <td>-0.161926</td>\n",
       "      <td>-0.565870</td>\n",
       "      <td>0.675066</td>\n",
       "      <td>-0.558514</td>\n",
       "      <td>-0.335087</td>\n",
       "      <td>-0.191578</td>\n",
       "      <td>-0.861726</td>\n",
       "      <td>0.048880</td>\n",
       "      <td>0.468297</td>\n",
       "      <td>-0.857776</td>\n",
       "    </tr>\n",
       "  </tbody>\n",
       "</table>\n",
       "<p>103 rows × 8092 columns</p>\n",
       "</div>"
      ],
      "text/plain": [
       "     A1BG_prot  A2M_prot  A2ML1_prot  AAAS_prot  AACS_prot  AAGAB_prot  \\\n",
       "0    -0.956485 -0.397222    1.857197  -0.429462  -1.508858   -0.828228   \n",
       "1     0.665383  0.852401   -1.899045   2.679871  -0.111891   -0.366473   \n",
       "2     1.667063  1.615182    0.238230   1.850420  -1.125776    1.527736   \n",
       "3    -0.504858 -0.330119   -0.046327   0.251593  -0.898547   -0.710808   \n",
       "4    -0.607927 -0.286130   -0.326793  -0.152620   0.648835   -0.106283   \n",
       "..         ...       ...         ...        ...        ...         ...   \n",
       "98    1.363396  1.175113    2.508876   2.347449   0.712634   -0.675912   \n",
       "99    0.136158  0.004591   -1.588187   0.057478  -0.641052    0.005476   \n",
       "100  -2.104845 -1.866432    2.765003   0.010475  -0.739295   -1.391143   \n",
       "101   0.651186  0.575454    3.549817   1.502756  -1.940724   -0.954508   \n",
       "102  -1.085937 -0.352185    0.461825  -0.637123   0.328713    0.766182   \n",
       "\n",
       "     AAK1_prot  AAMDC_prot  AAMP_prot  AAR2_prot  ...  ZRSR2_prot  \\\n",
       "0    -0.840309    0.378944  -0.804719  -0.099497  ...    0.228694   \n",
       "1    -0.756184   -1.760515  -1.366699   2.865395  ...   -1.532916   \n",
       "2     2.642638   -1.820165  -0.630282   0.195015  ...    1.223733   \n",
       "3    -0.751625   -0.101347  -0.292410  -0.141792  ...    0.539006   \n",
       "4    -0.531853    1.626288  -0.566506  -0.473666  ...   -0.086265   \n",
       "..         ...         ...        ...        ...  ...         ...   \n",
       "98    1.428126   -2.086839  -2.267467   1.649196  ...   -4.856804   \n",
       "99    0.154986    0.616327   0.323433  -0.157827  ...    0.626745   \n",
       "100   0.263542    1.039824  -0.826123  -1.567381  ...    0.201965   \n",
       "101  -0.334183   -1.601486  -2.653125   2.824596  ...    2.174193   \n",
       "102  -0.706175    1.187193   0.816698  -0.234166  ...   -0.161926   \n",
       "\n",
       "     ZSCAN18_prot  ZSWIM8_prot  ZW10_prot  ZWILCH_prot  ZWINT_prot  \\\n",
       "0       -0.139183     0.270112   0.013868     0.100375   -0.120801   \n",
       "1       -1.769399     1.858999   0.822321     0.952063   -1.034434   \n",
       "2        0.540032     0.120865   1.693876     3.024765    2.607282   \n",
       "3        0.139091     0.439650   0.869904     1.010408    1.096530   \n",
       "4       -0.462997     0.269182  -0.475448    -0.198871    0.202065   \n",
       "..            ...          ...        ...          ...         ...   \n",
       "98      -0.957751    -2.553074   0.981134     1.937417   -0.284238   \n",
       "99      -0.447138     0.390254  -0.246632    -0.097350   -0.533602   \n",
       "100      0.178477     0.638473  -0.660906    -0.223820   -1.025770   \n",
       "101     -0.566389     1.664854  -0.869796     1.304328    1.179343   \n",
       "102     -0.565870     0.675066  -0.558514    -0.335087   -0.191578   \n",
       "\n",
       "     ZYG11B_prot  ZYX_prot  ZZEF1_prot  ZZZ3_prot  \n",
       "0      -0.858608  0.090639   -0.285804  -0.218359  \n",
       "1       2.245140 -1.442913    0.154830   2.644577  \n",
       "2       2.888155 -2.188022   -1.175469  -1.495259  \n",
       "3       0.010266  1.176367   -0.511520   0.379874  \n",
       "4      -0.706124 -0.303169    0.457469   0.059646  \n",
       "..           ...       ...         ...        ...  \n",
       "98      2.211484 -1.220857   -1.624340   0.903917  \n",
       "99     -0.295617 -0.246731    1.539182   0.117355  \n",
       "100    -1.373172 -0.049661   -1.860173  -0.149556  \n",
       "101     2.719321 -0.486156   -1.889857  -1.061120  \n",
       "102    -0.861726  0.048880    0.468297  -0.857776  \n",
       "\n",
       "[103 rows x 8092 columns]"
      ]
     },
     "execution_count": 58,
     "metadata": {},
     "output_type": "execute_result"
    }
   ],
   "source": [
    "data_scaled"
   ]
  },
  {
   "cell_type": "code",
   "execution_count": 29,
   "metadata": {},
   "outputs": [
    {
     "data": {
      "image/png": "[encoded data removed]",
      "text/plain": [
       "<Figure size 640x480 with 1 Axes>"
      ]
     },
     "metadata": {},
     "output_type": "display_data"
    }
   ],
   "source": [
    "plt.hist(np.mean(X['prot']), bins=50)\n",
    "plt.show()"
   ]
  },
  {
   "cell_type": "code",
   "execution_count": 59,
   "metadata": {},
   "outputs": [
    {
     "data": {
      "image/png": "[encoded data removed]",
      "text/plain": [
       "<Figure size 640x480 with 1 Axes>"
      ]
     },
     "metadata": {},
     "output_type": "display_data"
    }
   ],
   "source": [
    "plt.hist(np.mean(data_scaled), bins=50)\n",
    "plt.show()"
   ]
  },
  {
   "cell_type": "code",
   "execution_count": 65,
   "metadata": {},
   "outputs": [
    {
     "data": {
      "image/png": "[encoded data removed]",
      "text/plain": [
       "<Figure size 640x480 with 1 Axes>"
      ]
     },
     "metadata": {},
     "output_type": "display_data"
    }
   ],
   "source": [
    "plt.hist(data_scaled['LANCL2_prot'], bins=50)\n",
    "plt.show()"
   ]
  },
  {
   "cell_type": "code",
   "execution_count": 64,
   "metadata": {},
   "outputs": [
    {
     "data": {
      "text/html": [
       "<div>\n",
       "<style scoped>\n",
       "    .dataframe tbody tr th:only-of-type {\n",
       "        vertical-align: middle;\n",
       "    }\n",
       "\n",
       "    .dataframe tbody tr th {\n",
       "        vertical-align: top;\n",
       "    }\n",
       "\n",
       "    .dataframe thead th {\n",
       "        text-align: right;\n",
       "    }\n",
       "</style>\n",
       "<table border=\"1\" class=\"dataframe\">\n",
       "  <thead>\n",
       "    <tr style=\"text-align: right;\">\n",
       "      <th></th>\n",
       "      <th>Skew</th>\n",
       "    </tr>\n",
       "  </thead>\n",
       "  <tbody>\n",
       "    <tr>\n",
       "      <th>LANCL2_prot</th>\n",
       "      <td>3.718915</td>\n",
       "    </tr>\n",
       "    <tr>\n",
       "      <th>FRA10AC1_prot</th>\n",
       "      <td>3.287242</td>\n",
       "    </tr>\n",
       "    <tr>\n",
       "      <th>SUMF2_prot</th>\n",
       "      <td>3.173488</td>\n",
       "    </tr>\n",
       "    <tr>\n",
       "      <th>CHGB_prot</th>\n",
       "      <td>2.994493</td>\n",
       "    </tr>\n",
       "    <tr>\n",
       "      <th>ACSM1_prot</th>\n",
       "      <td>2.994391</td>\n",
       "    </tr>\n",
       "    <tr>\n",
       "      <th>...</th>\n",
       "      <td>...</td>\n",
       "    </tr>\n",
       "    <tr>\n",
       "      <th>EBAG9_prot</th>\n",
       "      <td>-3.250215</td>\n",
       "    </tr>\n",
       "    <tr>\n",
       "      <th>BNIP1_prot</th>\n",
       "      <td>-3.320680</td>\n",
       "    </tr>\n",
       "    <tr>\n",
       "      <th>NEK1_prot</th>\n",
       "      <td>-3.333115</td>\n",
       "    </tr>\n",
       "    <tr>\n",
       "      <th>PIP5K1A_prot</th>\n",
       "      <td>-3.919619</td>\n",
       "    </tr>\n",
       "    <tr>\n",
       "      <th>CDC34_prot</th>\n",
       "      <td>-4.485872</td>\n",
       "    </tr>\n",
       "  </tbody>\n",
       "</table>\n",
       "<p>1444 rows × 1 columns</p>\n",
       "</div>"
      ],
      "text/plain": [
       "                   Skew\n",
       "LANCL2_prot    3.718915\n",
       "FRA10AC1_prot  3.287242\n",
       "SUMF2_prot     3.173488\n",
       "CHGB_prot      2.994493\n",
       "ACSM1_prot     2.994391\n",
       "...                 ...\n",
       "EBAG9_prot    -3.250215\n",
       "BNIP1_prot    -3.320680\n",
       "NEK1_prot     -3.333115\n",
       "PIP5K1A_prot  -3.919619\n",
       "CDC34_prot    -4.485872\n",
       "\n",
       "[1444 rows x 1 columns]"
      ]
     },
     "execution_count": 64,
     "metadata": {},
     "output_type": "execute_result"
    }
   ],
   "source": [
    "get_skewed_columns(data_scaled)"
   ]
  },
  {
   "cell_type": "code",
   "execution_count": 30,
   "metadata": {},
   "outputs": [
    {
     "name": "stderr",
     "output_type": "stream",
     "text": [
      "/Users/signehoel/comp401/sklearn-venv/lib/python3.8/site-packages/sklearn/preprocessing/_data.py:2623: UserWarning: n_quantiles (1000) is greater than the total number of samples (103). n_quantiles is set to n_samples.\n",
      "  warnings.warn(\n"
     ]
    }
   ],
   "source": [
    "from sklearn.preprocessing import QuantileTransformer\n",
    "\n",
    "qt = QuantileTransformer(random_state=0, output_distribution='normal')\n",
    "transformed = qt.fit_transform(X['prot'])"
   ]
  },
  {
   "cell_type": "code",
   "execution_count": 34,
   "metadata": {},
   "outputs": [
    {
     "data": {
      "text/html": [
       "<div>\n",
       "<style scoped>\n",
       "    .dataframe tbody tr th:only-of-type {\n",
       "        vertical-align: middle;\n",
       "    }\n",
       "\n",
       "    .dataframe tbody tr th {\n",
       "        vertical-align: top;\n",
       "    }\n",
       "\n",
       "    .dataframe thead th {\n",
       "        text-align: right;\n",
       "    }\n",
       "</style>\n",
       "<table border=\"1\" class=\"dataframe\">\n",
       "  <thead>\n",
       "    <tr style=\"text-align: right;\">\n",
       "      <th></th>\n",
       "      <th>0</th>\n",
       "      <th>1</th>\n",
       "      <th>2</th>\n",
       "      <th>3</th>\n",
       "      <th>4</th>\n",
       "      <th>5</th>\n",
       "      <th>6</th>\n",
       "      <th>7</th>\n",
       "      <th>8</th>\n",
       "      <th>9</th>\n",
       "      <th>...</th>\n",
       "      <th>8082</th>\n",
       "      <th>8083</th>\n",
       "      <th>8084</th>\n",
       "      <th>8085</th>\n",
       "      <th>8086</th>\n",
       "      <th>8087</th>\n",
       "      <th>8088</th>\n",
       "      <th>8089</th>\n",
       "      <th>8090</th>\n",
       "      <th>8091</th>\n",
       "    </tr>\n",
       "  </thead>\n",
       "  <tbody>\n",
       "    <tr>\n",
       "      <th>0</th>\n",
       "      <td>-0.928899</td>\n",
       "      <td>-0.377392</td>\n",
       "      <td>1.654435</td>\n",
       "      <td>-0.172881</td>\n",
       "      <td>-1.759861</td>\n",
       "      <td>-0.820792</td>\n",
       "      <td>-0.855712</td>\n",
       "      <td>0.325110</td>\n",
       "      <td>-0.820792</td>\n",
       "      <td>0.223008</td>\n",
       "      <td>...</td>\n",
       "      <td>0.299307</td>\n",
       "      <td>-0.147987</td>\n",
       "      <td>0.197882</td>\n",
       "      <td>0.147987</td>\n",
       "      <td>0.248275</td>\n",
       "      <td>0.049169</td>\n",
       "      <td>-1.138523</td>\n",
       "      <td>-0.024577</td>\n",
       "      <td>-0.248275</td>\n",
       "      <td>-0.299307</td>\n",
       "    </tr>\n",
       "    <tr>\n",
       "      <th>1</th>\n",
       "      <td>0.786845</td>\n",
       "      <td>0.721522</td>\n",
       "      <td>-5.199338</td>\n",
       "      <td>2.333769</td>\n",
       "      <td>0.000000</td>\n",
       "      <td>-0.325110</td>\n",
       "      <td>-0.753782</td>\n",
       "      <td>-1.486092</td>\n",
       "      <td>-1.486092</td>\n",
       "      <td>2.061917</td>\n",
       "      <td>...</td>\n",
       "      <td>-1.654435</td>\n",
       "      <td>-1.654435</td>\n",
       "      <td>5.199338</td>\n",
       "      <td>0.689997</td>\n",
       "      <td>0.820792</td>\n",
       "      <td>-1.351702</td>\n",
       "      <td>1.654435</td>\n",
       "      <td>-1.486092</td>\n",
       "      <td>0.147987</td>\n",
       "      <td>2.061917</td>\n",
       "    </tr>\n",
       "    <tr>\n",
       "      <th>2</th>\n",
       "      <td>1.292805</td>\n",
       "      <td>1.759861</td>\n",
       "      <td>0.599230</td>\n",
       "      <td>1.654435</td>\n",
       "      <td>-1.292805</td>\n",
       "      <td>1.654435</td>\n",
       "      <td>2.333769</td>\n",
       "      <td>-1.654435</td>\n",
       "      <td>-0.753782</td>\n",
       "      <td>0.541395</td>\n",
       "      <td>...</td>\n",
       "      <td>1.486092</td>\n",
       "      <td>0.570074</td>\n",
       "      <td>0.000000</td>\n",
       "      <td>1.759861</td>\n",
       "      <td>5.199338</td>\n",
       "      <td>2.333769</td>\n",
       "      <td>5.199338</td>\n",
       "      <td>-2.061917</td>\n",
       "      <td>-1.238080</td>\n",
       "      <td>-1.564726</td>\n",
       "    </tr>\n",
       "    <tr>\n",
       "      <th>3</th>\n",
       "      <td>-0.457852</td>\n",
       "      <td>-0.248275</td>\n",
       "      <td>0.248275</td>\n",
       "      <td>0.513155</td>\n",
       "      <td>-0.891709</td>\n",
       "      <td>-0.689997</td>\n",
       "      <td>-0.721522</td>\n",
       "      <td>-0.403916</td>\n",
       "      <td>-0.273702</td>\n",
       "      <td>0.197882</td>\n",
       "      <td>...</td>\n",
       "      <td>0.855712</td>\n",
       "      <td>0.123185</td>\n",
       "      <td>0.403916</td>\n",
       "      <td>0.786845</td>\n",
       "      <td>0.855712</td>\n",
       "      <td>1.186831</td>\n",
       "      <td>0.325110</td>\n",
       "      <td>1.292805</td>\n",
       "      <td>-0.485318</td>\n",
       "      <td>0.721522</td>\n",
       "    </tr>\n",
       "    <tr>\n",
       "      <th>4</th>\n",
       "      <td>-0.599230</td>\n",
       "      <td>-0.223008</td>\n",
       "      <td>-0.147987</td>\n",
       "      <td>0.172881</td>\n",
       "      <td>0.753782</td>\n",
       "      <td>-0.098458</td>\n",
       "      <td>-0.485318</td>\n",
       "      <td>2.061917</td>\n",
       "      <td>-0.628904</td>\n",
       "      <td>-0.273702</td>\n",
       "      <td>...</td>\n",
       "      <td>-0.513155</td>\n",
       "      <td>-0.599230</td>\n",
       "      <td>0.172881</td>\n",
       "      <td>-0.485318</td>\n",
       "      <td>-0.073791</td>\n",
       "      <td>0.351131</td>\n",
       "      <td>-0.721522</td>\n",
       "      <td>-0.377392</td>\n",
       "      <td>0.513155</td>\n",
       "      <td>0.197882</td>\n",
       "    </tr>\n",
       "    <tr>\n",
       "      <th>...</th>\n",
       "      <td>...</td>\n",
       "      <td>...</td>\n",
       "      <td>...</td>\n",
       "      <td>...</td>\n",
       "      <td>...</td>\n",
       "      <td>...</td>\n",
       "      <td>...</td>\n",
       "      <td>...</td>\n",
       "      <td>...</td>\n",
       "      <td>...</td>\n",
       "      <td>...</td>\n",
       "      <td>...</td>\n",
       "      <td>...</td>\n",
       "      <td>...</td>\n",
       "      <td>...</td>\n",
       "      <td>...</td>\n",
       "      <td>...</td>\n",
       "      <td>...</td>\n",
       "      <td>...</td>\n",
       "      <td>...</td>\n",
       "      <td>...</td>\n",
       "    </tr>\n",
       "    <tr>\n",
       "      <th>98</th>\n",
       "      <td>1.238080</td>\n",
       "      <td>1.238080</td>\n",
       "      <td>1.759861</td>\n",
       "      <td>1.889510</td>\n",
       "      <td>0.855712</td>\n",
       "      <td>-0.628904</td>\n",
       "      <td>1.415702</td>\n",
       "      <td>-2.333769</td>\n",
       "      <td>-2.333769</td>\n",
       "      <td>1.351702</td>\n",
       "      <td>...</td>\n",
       "      <td>-5.199338</td>\n",
       "      <td>-0.967422</td>\n",
       "      <td>-2.333769</td>\n",
       "      <td>1.049131</td>\n",
       "      <td>1.889510</td>\n",
       "      <td>-0.197882</td>\n",
       "      <td>1.564726</td>\n",
       "      <td>-1.238080</td>\n",
       "      <td>-1.654435</td>\n",
       "      <td>1.138523</td>\n",
       "    </tr>\n",
       "    <tr>\n",
       "      <th>99</th>\n",
       "      <td>0.172881</td>\n",
       "      <td>0.024577</td>\n",
       "      <td>-2.333769</td>\n",
       "      <td>0.403916</td>\n",
       "      <td>-0.513155</td>\n",
       "      <td>0.123185</td>\n",
       "      <td>0.073791</td>\n",
       "      <td>0.599230</td>\n",
       "      <td>0.325110</td>\n",
       "      <td>0.123185</td>\n",
       "      <td>...</td>\n",
       "      <td>1.138523</td>\n",
       "      <td>-0.541395</td>\n",
       "      <td>0.377392</td>\n",
       "      <td>-0.197882</td>\n",
       "      <td>0.000000</td>\n",
       "      <td>-0.628904</td>\n",
       "      <td>0.024577</td>\n",
       "      <td>-0.299307</td>\n",
       "      <td>1.486092</td>\n",
       "      <td>0.325110</td>\n",
       "    </tr>\n",
       "    <tr>\n",
       "      <th>100</th>\n",
       "      <td>-2.333769</td>\n",
       "      <td>-2.333769</td>\n",
       "      <td>2.061917</td>\n",
       "      <td>0.377392</td>\n",
       "      <td>-0.689997</td>\n",
       "      <td>-2.333769</td>\n",
       "      <td>0.172881</td>\n",
       "      <td>1.138523</td>\n",
       "      <td>-0.855712</td>\n",
       "      <td>-2.333769</td>\n",
       "      <td>...</td>\n",
       "      <td>0.273702</td>\n",
       "      <td>0.172881</td>\n",
       "      <td>0.541395</td>\n",
       "      <td>-0.689997</td>\n",
       "      <td>-0.123185</td>\n",
       "      <td>-1.292805</td>\n",
       "      <td>-2.333769</td>\n",
       "      <td>-0.123185</td>\n",
       "      <td>-1.889510</td>\n",
       "      <td>-0.147987</td>\n",
       "    </tr>\n",
       "    <tr>\n",
       "      <th>101</th>\n",
       "      <td>0.721522</td>\n",
       "      <td>0.430727</td>\n",
       "      <td>5.199338</td>\n",
       "      <td>1.186831</td>\n",
       "      <td>-5.199338</td>\n",
       "      <td>-0.928899</td>\n",
       "      <td>-0.351131</td>\n",
       "      <td>-1.415702</td>\n",
       "      <td>-5.199338</td>\n",
       "      <td>1.889510</td>\n",
       "      <td>...</td>\n",
       "      <td>2.061917</td>\n",
       "      <td>-0.689997</td>\n",
       "      <td>1.759861</td>\n",
       "      <td>-0.891709</td>\n",
       "      <td>1.238080</td>\n",
       "      <td>1.292805</td>\n",
       "      <td>2.333769</td>\n",
       "      <td>-0.570074</td>\n",
       "      <td>-2.061917</td>\n",
       "      <td>-1.415702</td>\n",
       "    </tr>\n",
       "    <tr>\n",
       "      <th>102</th>\n",
       "      <td>-1.049131</td>\n",
       "      <td>-0.299307</td>\n",
       "      <td>0.721522</td>\n",
       "      <td>-0.599230</td>\n",
       "      <td>0.403916</td>\n",
       "      <td>0.928899</td>\n",
       "      <td>-0.659143</td>\n",
       "      <td>1.292805</td>\n",
       "      <td>0.855712</td>\n",
       "      <td>0.049169</td>\n",
       "      <td>...</td>\n",
       "      <td>-0.599230</td>\n",
       "      <td>-0.659143</td>\n",
       "      <td>0.628904</td>\n",
       "      <td>-0.628904</td>\n",
       "      <td>-0.197882</td>\n",
       "      <td>-0.049169</td>\n",
       "      <td>-1.186831</td>\n",
       "      <td>-0.049169</td>\n",
       "      <td>0.541395</td>\n",
       "      <td>-1.092736</td>\n",
       "    </tr>\n",
       "  </tbody>\n",
       "</table>\n",
       "<p>103 rows × 8092 columns</p>\n",
       "</div>"
      ],
      "text/plain": [
       "         0         1         2         3         4         5         6     \\\n",
       "0   -0.928899 -0.377392  1.654435 -0.172881 -1.759861 -0.820792 -0.855712   \n",
       "1    0.786845  0.721522 -5.199338  2.333769  0.000000 -0.325110 -0.753782   \n",
       "2    1.292805  1.759861  0.599230  1.654435 -1.292805  1.654435  2.333769   \n",
       "3   -0.457852 -0.248275  0.248275  0.513155 -0.891709 -0.689997 -0.721522   \n",
       "4   -0.599230 -0.223008 -0.147987  0.172881  0.753782 -0.098458 -0.485318   \n",
       "..        ...       ...       ...       ...       ...       ...       ...   \n",
       "98   1.238080  1.238080  1.759861  1.889510  0.855712 -0.628904  1.415702   \n",
       "99   0.172881  0.024577 -2.333769  0.403916 -0.513155  0.123185  0.073791   \n",
       "100 -2.333769 -2.333769  2.061917  0.377392 -0.689997 -2.333769  0.172881   \n",
       "101  0.721522  0.430727  5.199338  1.186831 -5.199338 -0.928899 -0.351131   \n",
       "102 -1.049131 -0.299307  0.721522 -0.599230  0.403916  0.928899 -0.659143   \n",
       "\n",
       "         7         8         9     ...      8082      8083      8084  \\\n",
       "0    0.325110 -0.820792  0.223008  ...  0.299307 -0.147987  0.197882   \n",
       "1   -1.486092 -1.486092  2.061917  ... -1.654435 -1.654435  5.199338   \n",
       "2   -1.654435 -0.753782  0.541395  ...  1.486092  0.570074  0.000000   \n",
       "3   -0.403916 -0.273702  0.197882  ...  0.855712  0.123185  0.403916   \n",
       "4    2.061917 -0.628904 -0.273702  ... -0.513155 -0.599230  0.172881   \n",
       "..        ...       ...       ...  ...       ...       ...       ...   \n",
       "98  -2.333769 -2.333769  1.351702  ... -5.199338 -0.967422 -2.333769   \n",
       "99   0.599230  0.325110  0.123185  ...  1.138523 -0.541395  0.377392   \n",
       "100  1.138523 -0.855712 -2.333769  ...  0.273702  0.172881  0.541395   \n",
       "101 -1.415702 -5.199338  1.889510  ...  2.061917 -0.689997  1.759861   \n",
       "102  1.292805  0.855712  0.049169  ... -0.599230 -0.659143  0.628904   \n",
       "\n",
       "         8085      8086      8087      8088      8089      8090      8091  \n",
       "0    0.147987  0.248275  0.049169 -1.138523 -0.024577 -0.248275 -0.299307  \n",
       "1    0.689997  0.820792 -1.351702  1.654435 -1.486092  0.147987  2.061917  \n",
       "2    1.759861  5.199338  2.333769  5.199338 -2.061917 -1.238080 -1.564726  \n",
       "3    0.786845  0.855712  1.186831  0.325110  1.292805 -0.485318  0.721522  \n",
       "4   -0.485318 -0.073791  0.351131 -0.721522 -0.377392  0.513155  0.197882  \n",
       "..        ...       ...       ...       ...       ...       ...       ...  \n",
       "98   1.049131  1.889510 -0.197882  1.564726 -1.238080 -1.654435  1.138523  \n",
       "99  -0.197882  0.000000 -0.628904  0.024577 -0.299307  1.486092  0.325110  \n",
       "100 -0.689997 -0.123185 -1.292805 -2.333769 -0.123185 -1.889510 -0.147987  \n",
       "101 -0.891709  1.238080  1.292805  2.333769 -0.570074 -2.061917 -1.415702  \n",
       "102 -0.628904 -0.197882 -0.049169 -1.186831 -0.049169  0.541395 -1.092736  \n",
       "\n",
       "[103 rows x 8092 columns]"
      ]
     },
     "execution_count": 34,
     "metadata": {},
     "output_type": "execute_result"
    }
   ],
   "source": [
    "pd.DataFrame(transformed)"
   ]
  },
  {
   "cell_type": "code",
   "execution_count": 68,
   "metadata": {},
   "outputs": [],
   "source": [
    "estimators = [\n",
    "    (\"logistic\", LogisticRegression(solver=\"lbfgs\", n_jobs=-1, multi_class='multinomial', max_iter=1000, random_state=0)),\n",
    "    (\"lasso\", LogisticRegression(solver=\"liblinear\", penalty=\"l1\", max_iter=1000, random_state=0)),\n",
    "    (\"elasticnet\", SGDClassifier(loss=\"log_loss\", penalty=\"elasticnet\", n_jobs=-1, random_state=0)),\n",
    "    (\"random_forest\", RandomForestClassifier(n_estimators=100, random_state=0, n_jobs=-1)),\n",
    "    (\"deep_nn\", make_pipeline(StandardScaler(), MLPClassifier(max_iter=500, random_state=0))),\n",
    "    (\"svc\", CalibratedClassifierCV(LinearSVC(dual=True, random_state=0), cv=StratifiedKFold(n_splits=3, random_state=0, shuffle=True), n_jobs=-1)),\n",
    "]"
   ]
  },
  {
   "cell_type": "code",
   "execution_count": 69,
   "metadata": {},
   "outputs": [
    {
     "name": "stderr",
     "output_type": "stream",
     "text": [
      "100%|██████████| 6/6 [00:20<00:00,  3.40s/it]\n"
     ]
    }
   ],
   "source": [
    "metrics_df = pd.DataFrame()\n",
    "metrics_df_train = pd.DataFrame()\n",
    "scores = []\n",
    "   \n",
    "for name, clf in tqdm(estimators):\n",
    "      score, df, train_df = get_cross_metrics(clf, data_scaled, y, name, return_train_score=True)\n",
    "   \n",
    "      metrics_df = pd.concat([metrics_df, df])\n",
    "      metrics_df_train = pd.concat([metrics_df_train, train_df])\n",
    "      scores.append(score)"
   ]
  },
  {
   "cell_type": "code",
   "execution_count": 70,
   "metadata": {},
   "outputs": [
    {
     "data": {
      "text/html": [
       "<div>\n",
       "<style scoped>\n",
       "    .dataframe tbody tr th:only-of-type {\n",
       "        vertical-align: middle;\n",
       "    }\n",
       "\n",
       "    .dataframe tbody tr th {\n",
       "        vertical-align: top;\n",
       "    }\n",
       "\n",
       "    .dataframe thead th {\n",
       "        text-align: right;\n",
       "    }\n",
       "</style>\n",
       "<table border=\"1\" class=\"dataframe\">\n",
       "  <thead>\n",
       "    <tr style=\"text-align: right;\">\n",
       "      <th></th>\n",
       "      <th>f1</th>\n",
       "      <th>accuracy</th>\n",
       "    </tr>\n",
       "  </thead>\n",
       "  <tbody>\n",
       "    <tr>\n",
       "      <th>logistic</th>\n",
       "      <td>0.648 +/- 0.119</td>\n",
       "      <td>0.658 +/- 0.115</td>\n",
       "    </tr>\n",
       "    <tr>\n",
       "      <th>lasso</th>\n",
       "      <td>0.658 +/- 0.126</td>\n",
       "      <td>0.667 +/- 0.121</td>\n",
       "    </tr>\n",
       "    <tr>\n",
       "      <th>elasticnet</th>\n",
       "      <td>0.589 +/- 0.059</td>\n",
       "      <td>0.601 +/- 0.059</td>\n",
       "    </tr>\n",
       "    <tr>\n",
       "      <th>random_forest</th>\n",
       "      <td>0.606 +/- 0.083</td>\n",
       "      <td>0.620 +/- 0.081</td>\n",
       "    </tr>\n",
       "    <tr>\n",
       "      <th>deep_nn</th>\n",
       "      <td>0.530 +/- 0.127</td>\n",
       "      <td>0.561 +/- 0.110</td>\n",
       "    </tr>\n",
       "    <tr>\n",
       "      <th>svc</th>\n",
       "      <td>0.581 +/- 0.121</td>\n",
       "      <td>0.629 +/- 0.125</td>\n",
       "    </tr>\n",
       "  </tbody>\n",
       "</table>\n",
       "</div>"
      ],
      "text/plain": [
       "                            f1         accuracy\n",
       "logistic       0.648 +/- 0.119  0.658 +/- 0.115\n",
       "lasso          0.658 +/- 0.126  0.667 +/- 0.121\n",
       "elasticnet     0.589 +/- 0.059  0.601 +/- 0.059\n",
       "random_forest  0.606 +/- 0.083  0.620 +/- 0.081\n",
       "deep_nn        0.530 +/- 0.127  0.561 +/- 0.110\n",
       "svc            0.581 +/- 0.121  0.629 +/- 0.125"
      ]
     },
     "execution_count": 70,
     "metadata": {},
     "output_type": "execute_result"
    }
   ],
   "source": [
    "metrics_df"
   ]
  },
  {
   "cell_type": "markdown",
   "metadata": {},
   "source": [
    "## Individual Models"
   ]
  },
  {
   "cell_type": "code",
   "execution_count": 115,
   "metadata": {},
   "outputs": [
    {
     "name": "stderr",
     "output_type": "stream",
     "text": [
      "  0%|          | 0/6 [00:00<?, ?it/s]"
     ]
    },
    {
     "name": "stderr",
     "output_type": "stream",
     "text": [
      "100%|██████████| 6/6 [00:36<00:00,  6.16s/it]\n",
      "100%|██████████| 6/6 [00:46<00:00,  7.67s/it]\n",
      "100%|██████████| 6/6 [00:16<00:00,  2.76s/it]\n"
     ]
    }
   ],
   "source": [
    "base_scores = {}\n",
    "base_metrics_df = {}\n",
    "base_metrics_df_train = {}\n",
    "\n",
    "for modality in datasets:\n",
    "   base_metrics_df[modality] = pd.DataFrame()\n",
    "   base_metrics_df_train[modality] = pd.DataFrame()\n",
    "   base_scores[modality] = []\n",
    "   \n",
    "   for name, clf in tqdm(estimators):\n",
    "      score, df, train_df = get_cross_metrics(clf, X[modality], y, name, return_train_score=True)\n",
    "   \n",
    "      base_metrics_df[modality] = pd.concat([base_metrics_df[modality], df])\n",
    "      base_metrics_df_train[modality] = pd.concat([base_metrics_df_train[modality], train_df])\n",
    "      base_scores[modality].append(score)"
   ]
  },
  {
   "cell_type": "code",
   "execution_count": 6,
   "metadata": {},
   "outputs": [],
   "source": [
    "from sklearn.metrics import confusion_matrix\n",
    "import seaborn as sns\n",
    "\n",
    "def plot_confusion_matrix(actual_classes, predicted_classes, sorted_labels, show=False):\n",
    "\n",
    "    cm = confusion_matrix(actual_classes, predicted_classes)\n",
    "    # Normalise\n",
    "    cmn = cm.astype('float') / cm.sum(axis=1)[:, np.newaxis]\n",
    "    fig, ax = plt.subplots(figsize=(10,10))\n",
    "    sns.heatmap(cmn, annot=True, fmt='.2f', xticklabels=sorted_labels, yticklabels=sorted_labels)\n",
    "    plt.ylabel('Actual')\n",
    "    plt.xlabel('Predicted')\n",
    "    if show:\n",
    "        plt.show(block=False)\n",
    "    return plt\n",
    "    "
   ]
  },
  {
   "cell_type": "code",
   "execution_count": null,
   "metadata": {},
   "outputs": [],
   "source": [
    "def get_cross_metrics(\n",
    "    estimator,\n",
    "    X,\n",
    "    y,\n",
    "    name=\"Model\",\n",
    "    cv=5,\n",
    "    scoring={\"f1\": make_scorer(f1_score, average=\"weighted\"), \"accuracy\": \"accuracy\"},\n",
    "    n_jobs=-1,\n",
    "    verbose=0,\n",
    "    fit_params=None,\n",
    "    return_train_score=False,\n",
    "):\n",
    "    metrics = {}\n",
    "    train_metrics = {}\n",
    "\n",
    "    for scorer in scoring:\n",
    "        metrics[scorer] = []\n",
    "        train_metrics[scorer] = []\n",
    "\n",
    "    skf = StratifiedKFold(n_splits=cv, random_state=0, shuffle=True)\n",
    "    '''scores = cross_validate(\n",
    "        estimator,\n",
    "        X,\n",
    "        y,\n",
    "        scoring=scoring,\n",
    "        cv=skf,\n",
    "        n_jobs=n_jobs,\n",
    "        verbose=verbose,\n",
    "        fit_params=fit_params,\n",
    "        return_train_score=return_train_score,\n",
    "        error_score=\"raise\",\n",
    "    )'''\n",
    "    \n",
    "    for i, (train_index, test_index) in enumerate(skf.split(X, y)):\n",
    "        X_train, X_test, y_train, y_test = X[train_index], X[test_index], y[train_index], y[test_index]\n",
    "            \n",
    "    for scorer in scoring:\n",
    "        metrics[scorer].append(\n",
    "            \"%0.3f +/- %0.3f\"\n",
    "            % (scores[\"test_%s\" % scorer].mean(), scores[\"test_%s\" % scorer].std())\n",
    "        )\n",
    "        if return_train_score:\n",
    "            train_metrics[scorer].append(\n",
    "                \"%0.3f +/- %0.3f\"\n",
    "                % (\n",
    "                    scores[\"train_%s\" % scorer].mean(),\n",
    "                    scores[\"train_%s\" % scorer].std(),\n",
    "                )\n",
    "            )\n",
    "\n",
    "    if return_train_score:\n",
    "        df = pd.DataFrame(metrics, index=[name])\n",
    "        train_df = pd.DataFrame(train_metrics, index=[f\"{name} - train\"])\n",
    "\n",
    "        return scores, df, train_df\n",
    "\n",
    "    df = pd.DataFrame(metrics, index=[name])\n",
    "    return scores, df"
   ]
  },
  {
   "cell_type": "code",
   "execution_count": 14,
   "metadata": {},
   "outputs": [],
   "source": [
    "def recall_multiclass(y_test, y_pred, label):\n",
    "    return recall_score(y_test, y_pred, average=None)[label]"
   ]
  },
  {
   "cell_type": "code",
   "execution_count": 15,
   "metadata": {},
   "outputs": [
    {
     "name": "stderr",
     "output_type": "stream",
     "text": [
      "100%|██████████| 6/6 [00:55<00:00,  9.24s/it]\n",
      "100%|██████████| 6/6 [00:57<00:00,  9.66s/it]\n",
      "100%|██████████| 6/6 [00:19<00:00,  3.24s/it]\n"
     ]
    }
   ],
   "source": [
    "base_scores = {}\n",
    "base_metrics_df = {}\n",
    "base_metrics_df_train = {}\n",
    "\n",
    "for modality in datasets:\n",
    "   base_metrics_df[modality] = pd.DataFrame()\n",
    "   base_metrics_df_train[modality] = pd.DataFrame()\n",
    "   base_scores[modality] = []\n",
    "   \n",
    "   for name, clf in tqdm(estimators):\n",
    "      score, df, train_df = get_cross_metrics(clf, X[modality], y, name, scoring={\"accuracy\": \"accuracy\", \"f1\": make_scorer(f1_score, average='weighted'), 'recall (0)': make_scorer(recall_multiclass, label=0), 'recall (1)': make_scorer(recall_multiclass, label=1), 'recall (2)': make_scorer(recall_multiclass, label=2), 'recall (3)': make_scorer(recall_multiclass, label=3)}, return_train_score=True)\n",
    "   \n",
    "      base_metrics_df[modality] = pd.concat([base_metrics_df[modality], df])\n",
    "      base_metrics_df_train[modality] = pd.concat([base_metrics_df_train[modality], train_df])\n",
    "      base_scores[modality].append(score)"
   ]
  },
  {
   "cell_type": "markdown",
   "metadata": {},
   "source": [
    "### Plots"
   ]
  },
  {
   "cell_type": "code",
   "execution_count": 16,
   "metadata": {},
   "outputs": [
    {
     "data": {
      "text/html": [
       "<div>\n",
       "<style scoped>\n",
       "    .dataframe tbody tr th:only-of-type {\n",
       "        vertical-align: middle;\n",
       "    }\n",
       "\n",
       "    .dataframe tbody tr th {\n",
       "        vertical-align: top;\n",
       "    }\n",
       "\n",
       "    .dataframe thead th {\n",
       "        text-align: right;\n",
       "    }\n",
       "</style>\n",
       "<table border=\"1\" class=\"dataframe\">\n",
       "  <thead>\n",
       "    <tr style=\"text-align: right;\">\n",
       "      <th></th>\n",
       "      <th>accuracy</th>\n",
       "      <th>f1</th>\n",
       "      <th>recall (0)</th>\n",
       "      <th>recall (1)</th>\n",
       "      <th>recall (2)</th>\n",
       "      <th>recall (3)</th>\n",
       "    </tr>\n",
       "  </thead>\n",
       "  <tbody>\n",
       "    <tr>\n",
       "      <th>logistic</th>\n",
       "      <td>0.650 +/- 0.069</td>\n",
       "      <td>0.635 +/- 0.078</td>\n",
       "      <td>0.960 +/- 0.080</td>\n",
       "      <td>0.417 +/- 0.247</td>\n",
       "      <td>0.767 +/- 0.200</td>\n",
       "      <td>0.448 +/- 0.146</td>\n",
       "    </tr>\n",
       "    <tr>\n",
       "      <th>lasso</th>\n",
       "      <td>0.699 +/- 0.116</td>\n",
       "      <td>0.695 +/- 0.125</td>\n",
       "      <td>0.840 +/- 0.233</td>\n",
       "      <td>0.750 +/- 0.247</td>\n",
       "      <td>0.687 +/- 0.131</td>\n",
       "      <td>0.567 +/- 0.158</td>\n",
       "    </tr>\n",
       "    <tr>\n",
       "      <th>elasticnet</th>\n",
       "      <td>0.601 +/- 0.054</td>\n",
       "      <td>0.598 +/- 0.051</td>\n",
       "      <td>0.960 +/- 0.080</td>\n",
       "      <td>0.433 +/- 0.082</td>\n",
       "      <td>0.547 +/- 0.148</td>\n",
       "      <td>0.471 +/- 0.111</td>\n",
       "    </tr>\n",
       "    <tr>\n",
       "      <th>random_forest</th>\n",
       "      <td>0.620 +/- 0.061</td>\n",
       "      <td>0.587 +/- 0.078</td>\n",
       "      <td>0.920 +/- 0.098</td>\n",
       "      <td>0.217 +/- 0.194</td>\n",
       "      <td>0.793 +/- 0.124</td>\n",
       "      <td>0.462 +/- 0.184</td>\n",
       "    </tr>\n",
       "    <tr>\n",
       "      <th>deep_nn</th>\n",
       "      <td>0.601 +/- 0.059</td>\n",
       "      <td>0.573 +/- 0.060</td>\n",
       "      <td>0.960 +/- 0.080</td>\n",
       "      <td>0.300 +/- 0.367</td>\n",
       "      <td>0.733 +/- 0.226</td>\n",
       "      <td>0.414 +/- 0.149</td>\n",
       "    </tr>\n",
       "    <tr>\n",
       "      <th>svc</th>\n",
       "      <td>0.592 +/- 0.051</td>\n",
       "      <td>0.575 +/- 0.055</td>\n",
       "      <td>0.840 +/- 0.080</td>\n",
       "      <td>0.217 +/- 0.113</td>\n",
       "      <td>0.667 +/- 0.211</td>\n",
       "      <td>0.581 +/- 0.285</td>\n",
       "    </tr>\n",
       "  </tbody>\n",
       "</table>\n",
       "</div>"
      ],
      "text/plain": [
       "                      accuracy               f1       recall (0)  \\\n",
       "logistic       0.650 +/- 0.069  0.635 +/- 0.078  0.960 +/- 0.080   \n",
       "lasso          0.699 +/- 0.116  0.695 +/- 0.125  0.840 +/- 0.233   \n",
       "elasticnet     0.601 +/- 0.054  0.598 +/- 0.051  0.960 +/- 0.080   \n",
       "random_forest  0.620 +/- 0.061  0.587 +/- 0.078  0.920 +/- 0.098   \n",
       "deep_nn        0.601 +/- 0.059  0.573 +/- 0.060  0.960 +/- 0.080   \n",
       "svc            0.592 +/- 0.051  0.575 +/- 0.055  0.840 +/- 0.080   \n",
       "\n",
       "                    recall (1)       recall (2)       recall (3)  \n",
       "logistic       0.417 +/- 0.247  0.767 +/- 0.200  0.448 +/- 0.146  \n",
       "lasso          0.750 +/- 0.247  0.687 +/- 0.131  0.567 +/- 0.158  \n",
       "elasticnet     0.433 +/- 0.082  0.547 +/- 0.148  0.471 +/- 0.111  \n",
       "random_forest  0.217 +/- 0.194  0.793 +/- 0.124  0.462 +/- 0.184  \n",
       "deep_nn        0.300 +/- 0.367  0.733 +/- 0.226  0.414 +/- 0.149  \n",
       "svc            0.217 +/- 0.113  0.667 +/- 0.211  0.581 +/- 0.285  "
      ]
     },
     "metadata": {},
     "output_type": "display_data"
    },
    {
     "data": {
      "text/html": [
       "<div>\n",
       "<style scoped>\n",
       "    .dataframe tbody tr th:only-of-type {\n",
       "        vertical-align: middle;\n",
       "    }\n",
       "\n",
       "    .dataframe tbody tr th {\n",
       "        vertical-align: top;\n",
       "    }\n",
       "\n",
       "    .dataframe thead th {\n",
       "        text-align: right;\n",
       "    }\n",
       "</style>\n",
       "<table border=\"1\" class=\"dataframe\">\n",
       "  <thead>\n",
       "    <tr style=\"text-align: right;\">\n",
       "      <th></th>\n",
       "      <th>accuracy</th>\n",
       "      <th>f1</th>\n",
       "      <th>recall (0)</th>\n",
       "      <th>recall (1)</th>\n",
       "      <th>recall (2)</th>\n",
       "      <th>recall (3)</th>\n",
       "    </tr>\n",
       "  </thead>\n",
       "  <tbody>\n",
       "    <tr>\n",
       "      <th>logistic</th>\n",
       "      <td>0.804 +/- 0.119</td>\n",
       "      <td>0.801 +/- 0.116</td>\n",
       "      <td>0.920 +/- 0.098</td>\n",
       "      <td>0.633 +/- 0.261</td>\n",
       "      <td>0.867 +/- 0.163</td>\n",
       "      <td>0.743 +/- 0.224</td>\n",
       "    </tr>\n",
       "    <tr>\n",
       "      <th>lasso</th>\n",
       "      <td>0.786 +/- 0.091</td>\n",
       "      <td>0.780 +/- 0.089</td>\n",
       "      <td>0.920 +/- 0.098</td>\n",
       "      <td>0.750 +/- 0.247</td>\n",
       "      <td>0.760 +/- 0.131</td>\n",
       "      <td>0.710 +/- 0.220</td>\n",
       "    </tr>\n",
       "    <tr>\n",
       "      <th>elasticnet</th>\n",
       "      <td>0.727 +/- 0.088</td>\n",
       "      <td>0.715 +/- 0.078</td>\n",
       "      <td>0.880 +/- 0.160</td>\n",
       "      <td>0.483 +/- 0.220</td>\n",
       "      <td>0.700 +/- 0.306</td>\n",
       "      <td>0.781 +/- 0.210</td>\n",
       "    </tr>\n",
       "    <tr>\n",
       "      <th>random_forest</th>\n",
       "      <td>0.825 +/- 0.069</td>\n",
       "      <td>0.820 +/- 0.065</td>\n",
       "      <td>0.960 +/- 0.080</td>\n",
       "      <td>0.650 +/- 0.226</td>\n",
       "      <td>0.827 +/- 0.150</td>\n",
       "      <td>0.810 +/- 0.156</td>\n",
       "    </tr>\n",
       "    <tr>\n",
       "      <th>deep_nn</th>\n",
       "      <td>0.803 +/- 0.132</td>\n",
       "      <td>0.775 +/- 0.167</td>\n",
       "      <td>1.000 +/- 0.000</td>\n",
       "      <td>0.583 +/- 0.258</td>\n",
       "      <td>0.867 +/- 0.163</td>\n",
       "      <td>0.705 +/- 0.373</td>\n",
       "    </tr>\n",
       "    <tr>\n",
       "      <th>svc</th>\n",
       "      <td>0.805 +/- 0.090</td>\n",
       "      <td>0.800 +/- 0.089</td>\n",
       "      <td>0.920 +/- 0.098</td>\n",
       "      <td>0.633 +/- 0.261</td>\n",
       "      <td>0.827 +/- 0.150</td>\n",
       "      <td>0.776 +/- 0.196</td>\n",
       "    </tr>\n",
       "  </tbody>\n",
       "</table>\n",
       "</div>"
      ],
      "text/plain": [
       "                      accuracy               f1       recall (0)  \\\n",
       "logistic       0.804 +/- 0.119  0.801 +/- 0.116  0.920 +/- 0.098   \n",
       "lasso          0.786 +/- 0.091  0.780 +/- 0.089  0.920 +/- 0.098   \n",
       "elasticnet     0.727 +/- 0.088  0.715 +/- 0.078  0.880 +/- 0.160   \n",
       "random_forest  0.825 +/- 0.069  0.820 +/- 0.065  0.960 +/- 0.080   \n",
       "deep_nn        0.803 +/- 0.132  0.775 +/- 0.167  1.000 +/- 0.000   \n",
       "svc            0.805 +/- 0.090  0.800 +/- 0.089  0.920 +/- 0.098   \n",
       "\n",
       "                    recall (1)       recall (2)       recall (3)  \n",
       "logistic       0.633 +/- 0.261  0.867 +/- 0.163  0.743 +/- 0.224  \n",
       "lasso          0.750 +/- 0.247  0.760 +/- 0.131  0.710 +/- 0.220  \n",
       "elasticnet     0.483 +/- 0.220  0.700 +/- 0.306  0.781 +/- 0.210  \n",
       "random_forest  0.650 +/- 0.226  0.827 +/- 0.150  0.810 +/- 0.156  \n",
       "deep_nn        0.583 +/- 0.258  0.867 +/- 0.163  0.705 +/- 0.373  \n",
       "svc            0.633 +/- 0.261  0.827 +/- 0.150  0.776 +/- 0.196  "
      ]
     },
     "metadata": {},
     "output_type": "display_data"
    },
    {
     "data": {
      "text/html": [
       "<div>\n",
       "<style scoped>\n",
       "    .dataframe tbody tr th:only-of-type {\n",
       "        vertical-align: middle;\n",
       "    }\n",
       "\n",
       "    .dataframe tbody tr th {\n",
       "        vertical-align: top;\n",
       "    }\n",
       "\n",
       "    .dataframe thead th {\n",
       "        text-align: right;\n",
       "    }\n",
       "</style>\n",
       "<table border=\"1\" class=\"dataframe\">\n",
       "  <thead>\n",
       "    <tr style=\"text-align: right;\">\n",
       "      <th></th>\n",
       "      <th>accuracy</th>\n",
       "      <th>f1</th>\n",
       "      <th>recall (0)</th>\n",
       "      <th>recall (1)</th>\n",
       "      <th>recall (2)</th>\n",
       "      <th>recall (3)</th>\n",
       "    </tr>\n",
       "  </thead>\n",
       "  <tbody>\n",
       "    <tr>\n",
       "      <th>logistic</th>\n",
       "      <td>0.638 +/- 0.122</td>\n",
       "      <td>0.627 +/- 0.127</td>\n",
       "      <td>0.880 +/- 0.098</td>\n",
       "      <td>0.367 +/- 0.194</td>\n",
       "      <td>0.587 +/- 0.224</td>\n",
       "      <td>0.648 +/- 0.202</td>\n",
       "    </tr>\n",
       "    <tr>\n",
       "      <th>lasso</th>\n",
       "      <td>0.630 +/- 0.056</td>\n",
       "      <td>0.625 +/- 0.054</td>\n",
       "      <td>0.830 +/- 0.087</td>\n",
       "      <td>0.433 +/- 0.178</td>\n",
       "      <td>0.553 +/- 0.164</td>\n",
       "      <td>0.652 +/- 0.079</td>\n",
       "    </tr>\n",
       "    <tr>\n",
       "      <th>elasticnet</th>\n",
       "      <td>0.639 +/- 0.096</td>\n",
       "      <td>0.617 +/- 0.103</td>\n",
       "      <td>0.870 +/- 0.108</td>\n",
       "      <td>0.367 +/- 0.251</td>\n",
       "      <td>0.587 +/- 0.247</td>\n",
       "      <td>0.652 +/- 0.132</td>\n",
       "    </tr>\n",
       "    <tr>\n",
       "      <th>random_forest</th>\n",
       "      <td>0.620 +/- 0.081</td>\n",
       "      <td>0.606 +/- 0.083</td>\n",
       "      <td>0.800 +/- 0.126</td>\n",
       "      <td>0.317 +/- 0.186</td>\n",
       "      <td>0.693 +/- 0.242</td>\n",
       "      <td>0.590 +/- 0.137</td>\n",
       "    </tr>\n",
       "    <tr>\n",
       "      <th>deep_nn</th>\n",
       "      <td>0.561 +/- 0.110</td>\n",
       "      <td>0.530 +/- 0.127</td>\n",
       "      <td>0.830 +/- 0.087</td>\n",
       "      <td>0.267 +/- 0.226</td>\n",
       "      <td>0.347 +/- 0.185</td>\n",
       "      <td>0.710 +/- 0.171</td>\n",
       "    </tr>\n",
       "    <tr>\n",
       "      <th>svc</th>\n",
       "      <td>0.657 +/- 0.132</td>\n",
       "      <td>0.647 +/- 0.138</td>\n",
       "      <td>0.880 +/- 0.098</td>\n",
       "      <td>0.317 +/- 0.186</td>\n",
       "      <td>0.653 +/- 0.185</td>\n",
       "      <td>0.676 +/- 0.219</td>\n",
       "    </tr>\n",
       "  </tbody>\n",
       "</table>\n",
       "</div>"
      ],
      "text/plain": [
       "                      accuracy               f1       recall (0)  \\\n",
       "logistic       0.638 +/- 0.122  0.627 +/- 0.127  0.880 +/- 0.098   \n",
       "lasso          0.630 +/- 0.056  0.625 +/- 0.054  0.830 +/- 0.087   \n",
       "elasticnet     0.639 +/- 0.096  0.617 +/- 0.103  0.870 +/- 0.108   \n",
       "random_forest  0.620 +/- 0.081  0.606 +/- 0.083  0.800 +/- 0.126   \n",
       "deep_nn        0.561 +/- 0.110  0.530 +/- 0.127  0.830 +/- 0.087   \n",
       "svc            0.657 +/- 0.132  0.647 +/- 0.138  0.880 +/- 0.098   \n",
       "\n",
       "                    recall (1)       recall (2)       recall (3)  \n",
       "logistic       0.367 +/- 0.194  0.587 +/- 0.224  0.648 +/- 0.202  \n",
       "lasso          0.433 +/- 0.178  0.553 +/- 0.164  0.652 +/- 0.079  \n",
       "elasticnet     0.367 +/- 0.251  0.587 +/- 0.247  0.652 +/- 0.132  \n",
       "random_forest  0.317 +/- 0.186  0.693 +/- 0.242  0.590 +/- 0.137  \n",
       "deep_nn        0.267 +/- 0.226  0.347 +/- 0.185  0.710 +/- 0.171  \n",
       "svc            0.317 +/- 0.186  0.653 +/- 0.185  0.676 +/- 0.219  "
      ]
     },
     "metadata": {},
     "output_type": "display_data"
    },
    {
     "data": {
      "text/plain": [
       "(None, None, None)"
      ]
     },
     "execution_count": 16,
     "metadata": {},
     "output_type": "execute_result"
    }
   ],
   "source": [
    "display(base_metrics_df['cnv']), display(base_metrics_df['mrna']), display(base_metrics_df['prot'])"
   ]
  },
  {
   "cell_type": "code",
   "execution_count": 116,
   "metadata": {},
   "outputs": [
    {
     "data": {
      "text/html": [
       "<div>\n",
       "<style scoped>\n",
       "    .dataframe tbody tr th:only-of-type {\n",
       "        vertical-align: middle;\n",
       "    }\n",
       "\n",
       "    .dataframe tbody tr th {\n",
       "        vertical-align: top;\n",
       "    }\n",
       "\n",
       "    .dataframe thead th {\n",
       "        text-align: right;\n",
       "    }\n",
       "</style>\n",
       "<table border=\"1\" class=\"dataframe\">\n",
       "  <thead>\n",
       "    <tr style=\"text-align: right;\">\n",
       "      <th></th>\n",
       "      <th>f1</th>\n",
       "      <th>accuracy</th>\n",
       "    </tr>\n",
       "  </thead>\n",
       "  <tbody>\n",
       "    <tr>\n",
       "      <th>logistic</th>\n",
       "      <td>0.635 +/- 0.078</td>\n",
       "      <td>0.650 +/- 0.069</td>\n",
       "    </tr>\n",
       "    <tr>\n",
       "      <th>lasso</th>\n",
       "      <td>0.695 +/- 0.125</td>\n",
       "      <td>0.699 +/- 0.116</td>\n",
       "    </tr>\n",
       "    <tr>\n",
       "      <th>elasticnet</th>\n",
       "      <td>0.598 +/- 0.051</td>\n",
       "      <td>0.601 +/- 0.054</td>\n",
       "    </tr>\n",
       "    <tr>\n",
       "      <th>random_forest</th>\n",
       "      <td>0.587 +/- 0.078</td>\n",
       "      <td>0.620 +/- 0.061</td>\n",
       "    </tr>\n",
       "    <tr>\n",
       "      <th>deep_nn</th>\n",
       "      <td>0.573 +/- 0.060</td>\n",
       "      <td>0.601 +/- 0.059</td>\n",
       "    </tr>\n",
       "    <tr>\n",
       "      <th>svc</th>\n",
       "      <td>0.575 +/- 0.055</td>\n",
       "      <td>0.592 +/- 0.051</td>\n",
       "    </tr>\n",
       "  </tbody>\n",
       "</table>\n",
       "</div>"
      ],
      "text/plain": [
       "                            f1         accuracy\n",
       "logistic       0.635 +/- 0.078  0.650 +/- 0.069\n",
       "lasso          0.695 +/- 0.125  0.699 +/- 0.116\n",
       "elasticnet     0.598 +/- 0.051  0.601 +/- 0.054\n",
       "random_forest  0.587 +/- 0.078  0.620 +/- 0.061\n",
       "deep_nn        0.573 +/- 0.060  0.601 +/- 0.059\n",
       "svc            0.575 +/- 0.055  0.592 +/- 0.051"
      ]
     },
     "metadata": {},
     "output_type": "display_data"
    },
    {
     "data": {
      "text/html": [
       "<div>\n",
       "<style scoped>\n",
       "    .dataframe tbody tr th:only-of-type {\n",
       "        vertical-align: middle;\n",
       "    }\n",
       "\n",
       "    .dataframe tbody tr th {\n",
       "        vertical-align: top;\n",
       "    }\n",
       "\n",
       "    .dataframe thead th {\n",
       "        text-align: right;\n",
       "    }\n",
       "</style>\n",
       "<table border=\"1\" class=\"dataframe\">\n",
       "  <thead>\n",
       "    <tr style=\"text-align: right;\">\n",
       "      <th></th>\n",
       "      <th>f1</th>\n",
       "      <th>accuracy</th>\n",
       "    </tr>\n",
       "  </thead>\n",
       "  <tbody>\n",
       "    <tr>\n",
       "      <th>logistic</th>\n",
       "      <td>0.801 +/- 0.116</td>\n",
       "      <td>0.804 +/- 0.119</td>\n",
       "    </tr>\n",
       "    <tr>\n",
       "      <th>lasso</th>\n",
       "      <td>0.780 +/- 0.089</td>\n",
       "      <td>0.786 +/- 0.091</td>\n",
       "    </tr>\n",
       "    <tr>\n",
       "      <th>elasticnet</th>\n",
       "      <td>0.715 +/- 0.078</td>\n",
       "      <td>0.727 +/- 0.088</td>\n",
       "    </tr>\n",
       "    <tr>\n",
       "      <th>random_forest</th>\n",
       "      <td>0.820 +/- 0.065</td>\n",
       "      <td>0.825 +/- 0.069</td>\n",
       "    </tr>\n",
       "    <tr>\n",
       "      <th>deep_nn</th>\n",
       "      <td>0.775 +/- 0.167</td>\n",
       "      <td>0.803 +/- 0.132</td>\n",
       "    </tr>\n",
       "    <tr>\n",
       "      <th>svc</th>\n",
       "      <td>0.800 +/- 0.089</td>\n",
       "      <td>0.805 +/- 0.090</td>\n",
       "    </tr>\n",
       "  </tbody>\n",
       "</table>\n",
       "</div>"
      ],
      "text/plain": [
       "                            f1         accuracy\n",
       "logistic       0.801 +/- 0.116  0.804 +/- 0.119\n",
       "lasso          0.780 +/- 0.089  0.786 +/- 0.091\n",
       "elasticnet     0.715 +/- 0.078  0.727 +/- 0.088\n",
       "random_forest  0.820 +/- 0.065  0.825 +/- 0.069\n",
       "deep_nn        0.775 +/- 0.167  0.803 +/- 0.132\n",
       "svc            0.800 +/- 0.089  0.805 +/- 0.090"
      ]
     },
     "metadata": {},
     "output_type": "display_data"
    },
    {
     "data": {
      "text/html": [
       "<div>\n",
       "<style scoped>\n",
       "    .dataframe tbody tr th:only-of-type {\n",
       "        vertical-align: middle;\n",
       "    }\n",
       "\n",
       "    .dataframe tbody tr th {\n",
       "        vertical-align: top;\n",
       "    }\n",
       "\n",
       "    .dataframe thead th {\n",
       "        text-align: right;\n",
       "    }\n",
       "</style>\n",
       "<table border=\"1\" class=\"dataframe\">\n",
       "  <thead>\n",
       "    <tr style=\"text-align: right;\">\n",
       "      <th></th>\n",
       "      <th>f1</th>\n",
       "      <th>accuracy</th>\n",
       "    </tr>\n",
       "  </thead>\n",
       "  <tbody>\n",
       "    <tr>\n",
       "      <th>logistic</th>\n",
       "      <td>0.627 +/- 0.127</td>\n",
       "      <td>0.638 +/- 0.122</td>\n",
       "    </tr>\n",
       "    <tr>\n",
       "      <th>lasso</th>\n",
       "      <td>0.625 +/- 0.054</td>\n",
       "      <td>0.630 +/- 0.056</td>\n",
       "    </tr>\n",
       "    <tr>\n",
       "      <th>elasticnet</th>\n",
       "      <td>0.617 +/- 0.103</td>\n",
       "      <td>0.639 +/- 0.096</td>\n",
       "    </tr>\n",
       "    <tr>\n",
       "      <th>random_forest</th>\n",
       "      <td>0.606 +/- 0.083</td>\n",
       "      <td>0.620 +/- 0.081</td>\n",
       "    </tr>\n",
       "    <tr>\n",
       "      <th>deep_nn</th>\n",
       "      <td>0.530 +/- 0.127</td>\n",
       "      <td>0.561 +/- 0.110</td>\n",
       "    </tr>\n",
       "    <tr>\n",
       "      <th>svc</th>\n",
       "      <td>0.647 +/- 0.138</td>\n",
       "      <td>0.657 +/- 0.132</td>\n",
       "    </tr>\n",
       "  </tbody>\n",
       "</table>\n",
       "</div>"
      ],
      "text/plain": [
       "                            f1         accuracy\n",
       "logistic       0.627 +/- 0.127  0.638 +/- 0.122\n",
       "lasso          0.625 +/- 0.054  0.630 +/- 0.056\n",
       "elasticnet     0.617 +/- 0.103  0.639 +/- 0.096\n",
       "random_forest  0.606 +/- 0.083  0.620 +/- 0.081\n",
       "deep_nn        0.530 +/- 0.127  0.561 +/- 0.110\n",
       "svc            0.647 +/- 0.138  0.657 +/- 0.132"
      ]
     },
     "metadata": {},
     "output_type": "display_data"
    },
    {
     "data": {
      "text/plain": [
       "(None, None, None)"
      ]
     },
     "execution_count": 116,
     "metadata": {},
     "output_type": "execute_result"
    }
   ],
   "source": [
    "display(base_metrics_df['cnv']), display(base_metrics_df['mrna']), display(base_metrics_df['prot'])"
   ]
  },
  {
   "cell_type": "code",
   "execution_count": 117,
   "metadata": {},
   "outputs": [],
   "source": [
    "estimator_names = [\n",
    "    \"logistic\",\n",
    "    \"lasso\",\n",
    "    \"elasticnet\",\n",
    "    \"random_forest\",\n",
    "    \"deep_nn\",\n",
    "    \"svc\"\n",
    "]"
   ]
  },
  {
   "cell_type": "code",
   "execution_count": 27,
   "metadata": {},
   "outputs": [],
   "source": [
    "def plot_scores(estimator_names, scorers, metrics=[\"f1\", \"accuracy\"]):\n",
    "    score_lists = {}\n",
    "    for metric in metrics:\n",
    "        score_lists[metric] = [score[\"test_\" + metric] for score in scorers]\n",
    "\n",
    "    for i, (title, _list) in enumerate(score_lists.items()):\n",
    "        plt.figure(i)\n",
    "        sns.boxplot(data=_list, showmeans=True, meanprops={'marker':'o', 'markerfacecolor':'white', \n",
    "                       'markeredgecolor':'black',\n",
    "                       'markersize':'8'}).set_xticklabels(estimator_names, rotation=45)\n",
    "        plt.title(title)"
   ]
  },
  {
   "cell_type": "code",
   "execution_count": 170,
   "metadata": {},
   "outputs": [
    {
     "data": {
      "image/png": "[encoded data removed]",
      "text/plain": [
       "<Figure size 640x480 with 1 Axes>"
      ]
     },
     "metadata": {},
     "output_type": "display_data"
    },
    {
     "data": {
      "image/png": "[encoded data removed]",
      "text/plain": [
       "<Figure size 640x480 with 1 Axes>"
      ]
     },
     "metadata": {},
     "output_type": "display_data"
    }
   ],
   "source": [
    "plot_scores(estimator_names, base_scores['cnv'])"
   ]
  },
  {
   "cell_type": "code",
   "execution_count": 171,
   "metadata": {},
   "outputs": [
    {
     "data": {
      "image/png": "[encoded data removed]",
      "text/plain": [
       "<Figure size 640x480 with 1 Axes>"
      ]
     },
     "metadata": {},
     "output_type": "display_data"
    },
    {
     "data": {
      "image/png": "[encoded data removed]",
      "text/plain": [
       "<Figure size 640x480 with 1 Axes>"
      ]
     },
     "metadata": {},
     "output_type": "display_data"
    }
   ],
   "source": [
    "plot_scores(estimator_names, base_scores['mrna'])"
   ]
  },
  {
   "cell_type": "code",
   "execution_count": 172,
   "metadata": {},
   "outputs": [
    {
     "data": {
      "image/png": "[encoded data removed]",
      "text/plain": [
       "<Figure size 640x480 with 1 Axes>"
      ]
     },
     "metadata": {},
     "output_type": "display_data"
    },
    {
     "data": {
      "image/png": "[encoded data removed]",
      "text/plain": [
       "<Figure size 640x480 with 1 Axes>"
      ]
     },
     "metadata": {},
     "output_type": "display_data"
    }
   ],
   "source": [
    "plot_scores(estimator_names, base_scores['prot'])"
   ]
  },
  {
   "cell_type": "markdown",
   "metadata": {},
   "source": [
    "### Analysis"
   ]
  },
  {
   "cell_type": "code",
   "execution_count": 37,
   "metadata": {},
   "outputs": [
    {
     "name": "stderr",
     "output_type": "stream",
     "text": [
      "  0%|          | 0/3 [00:00<?, ?it/s]"
     ]
    },
    {
     "name": "stderr",
     "output_type": "stream",
     "text": [
      " 33%|███▎      | 1/3 [00:05<00:11,  5.61s/it]"
     ]
    },
    {
     "name": "stdout",
     "output_type": "stream",
     "text": [
      "cnv\n",
      "              precision    recall  f1-score   support\n",
      "\n",
      "           0       0.85      0.96      0.90        24\n",
      "           1       0.71      0.67      0.69        18\n",
      "           2       0.67      0.69      0.68        29\n",
      "           3       0.48      0.44      0.46        32\n",
      "\n",
      "    accuracy                           0.67       103\n",
      "   macro avg       0.68      0.69      0.68       103\n",
      "weighted avg       0.66      0.67      0.66       103\n",
      "\n"
     ]
    },
    {
     "name": "stderr",
     "output_type": "stream",
     "text": [
      " 67%|██████▋   | 2/3 [01:11<00:41, 41.15s/it]"
     ]
    },
    {
     "name": "stdout",
     "output_type": "stream",
     "text": [
      "mrna\n",
      "              precision    recall  f1-score   support\n",
      "\n",
      "           0       0.96      0.96      0.96        24\n",
      "           1       0.86      0.67      0.75        18\n",
      "           2       0.83      0.86      0.85        29\n",
      "           3       0.77      0.84      0.81        32\n",
      "\n",
      "    accuracy                           0.84       103\n",
      "   macro avg       0.86      0.83      0.84       103\n",
      "weighted avg       0.85      0.84      0.84       103\n",
      "\n"
     ]
    },
    {
     "name": "stderr",
     "output_type": "stream",
     "text": [
      "100%|██████████| 3/3 [01:25<00:00, 28.57s/it]"
     ]
    },
    {
     "name": "stdout",
     "output_type": "stream",
     "text": [
      "prot\n",
      "              precision    recall  f1-score   support\n",
      "\n",
      "           0       0.88      0.92      0.90        24\n",
      "           1       0.50      0.44      0.47        18\n",
      "           2       0.64      0.62      0.63        29\n",
      "           3       0.56      0.59      0.58        32\n",
      "\n",
      "    accuracy                           0.65       103\n",
      "   macro avg       0.65      0.64      0.64       103\n",
      "weighted avg       0.65      0.65      0.65       103\n",
      "\n"
     ]
    },
    {
     "name": "stderr",
     "output_type": "stream",
     "text": [
      "\n"
     ]
    }
   ],
   "source": [
    "# Let's look at the classification report from the top estimator for each modality\n",
    "cv = StratifiedKFold(n_splits=5, random_state=1, shuffle=True)\n",
    "y_preds = {}\n",
    "\n",
    "mapping = {\n",
    "    'cnv': \"lasso\",\n",
    "    'mrna': \"svc\",\n",
    "    'prot': \"logistic\"\n",
    "}\n",
    "\n",
    "for modality in tqdm(datasets):\n",
    "    y_preds[modality] = cross_val_predict(base_pipes[modality][mapping[modality]], X[modality], y[modality], method='predict', cv=cv)\n",
    "    print(modality)\n",
    "    print(classification_report(y[modality], y_preds[modality]))"
   ]
  },
  {
   "cell_type": "code",
   "execution_count": null,
   "metadata": {},
   "outputs": [],
   "source": [
    "# Let's look at the classification report from the top estimator for each modality\n",
    "cv = StratifiedKFold(n_splits=5, random_state=1, shuffle=True)\n",
    "y_preds = {}\n",
    "\n",
    "for name, estimator in base_pipes['mrna'].items():\n",
    "    print(name)\n",
    "    y_preds[name] = cross_val_predict(estimator, X['mrna'], y['mrna'], method='predict', cv=cv)\n",
    "    print(classification_report(y['mrna'], y_preds[name]))"
   ]
  },
  {
   "cell_type": "code",
   "execution_count": 23,
   "metadata": {},
   "outputs": [
    {
     "name": "stdout",
     "output_type": "stream",
     "text": [
      "logistic\n",
      "              precision    recall  f1-score   support\n",
      "\n",
      "           0       0.96      0.96      0.96        24\n",
      "           1       0.75      0.67      0.71        18\n",
      "           2       0.83      0.83      0.83        29\n",
      "           3       0.74      0.78      0.76        32\n",
      "\n",
      "    accuracy                           0.82       103\n",
      "   macro avg       0.82      0.81      0.81       103\n",
      "weighted avg       0.82      0.82      0.82       103\n",
      "\n",
      "lasso\n",
      "              precision    recall  f1-score   support\n",
      "\n",
      "           0       1.00      0.92      0.96        24\n",
      "           1       0.84      0.89      0.86        18\n",
      "           2       0.69      0.62      0.65        29\n",
      "           3       0.64      0.72      0.68        32\n",
      "\n",
      "    accuracy                           0.77       103\n",
      "   macro avg       0.79      0.79      0.79       103\n",
      "weighted avg       0.77      0.77      0.77       103\n",
      "\n",
      "elasticnet\n",
      "              precision    recall  f1-score   support\n",
      "\n",
      "           0       1.00      0.88      0.93        24\n",
      "           1       0.75      0.67      0.71        18\n",
      "           2       0.74      0.90      0.81        29\n",
      "           3       0.74      0.72      0.73        32\n",
      "\n",
      "    accuracy                           0.80       103\n",
      "   macro avg       0.81      0.79      0.80       103\n",
      "weighted avg       0.80      0.80      0.80       103\n",
      "\n",
      "random_forest\n",
      "              precision    recall  f1-score   support\n",
      "\n",
      "           0       1.00      1.00      1.00        24\n",
      "           1       0.92      0.67      0.77        18\n",
      "           2       0.77      0.79      0.78        29\n",
      "           3       0.69      0.78      0.74        32\n",
      "\n",
      "    accuracy                           0.82       103\n",
      "   macro avg       0.85      0.81      0.82       103\n",
      "weighted avg       0.83      0.82      0.82       103\n",
      "\n",
      "deep_nn\n",
      "              precision    recall  f1-score   support\n",
      "\n",
      "           0       0.52      1.00      0.69        24\n",
      "           1       1.00      0.11      0.20        18\n",
      "           2       0.76      0.76      0.76        29\n",
      "           3       0.73      0.59      0.66        32\n",
      "\n",
      "    accuracy                           0.65       103\n",
      "   macro avg       0.75      0.62      0.57       103\n",
      "weighted avg       0.74      0.65      0.61       103\n",
      "\n",
      "svc\n",
      "              precision    recall  f1-score   support\n",
      "\n",
      "           0       0.96      0.96      0.96        24\n",
      "           1       0.86      0.67      0.75        18\n",
      "           2       0.83      0.86      0.85        29\n",
      "           3       0.77      0.84      0.81        32\n",
      "\n",
      "    accuracy                           0.84       103\n",
      "   macro avg       0.86      0.83      0.84       103\n",
      "weighted avg       0.85      0.84      0.84       103\n",
      "\n"
     ]
    }
   ],
   "source": [
    "for name, pred in y_preds.items():\n",
    "    print(name)\n",
    "    print(classification_report(y['mrna'], y_preds[name]))"
   ]
  },
  {
   "cell_type": "markdown",
   "metadata": {},
   "source": [
    "Looks like class 0 has very high recall for all modalities/classifiers. However, we see that CNV is really bad at classifying class 3, and prot is poorest at identifying class 1. Seems like they are better at different things, and could benefit from combination!"
   ]
  },
  {
   "cell_type": "markdown",
   "metadata": {},
   "source": [
    "### Trying to Reduce Overfitting"
   ]
  },
  {
   "cell_type": "code",
   "execution_count": 32,
   "metadata": {},
   "outputs": [
    {
     "data": {
      "text/html": [
       "<div>\n",
       "<style scoped>\n",
       "    .dataframe tbody tr th:only-of-type {\n",
       "        vertical-align: middle;\n",
       "    }\n",
       "\n",
       "    .dataframe tbody tr th {\n",
       "        vertical-align: top;\n",
       "    }\n",
       "\n",
       "    .dataframe thead th {\n",
       "        text-align: right;\n",
       "    }\n",
       "</style>\n",
       "<table border=\"1\" class=\"dataframe\">\n",
       "  <thead>\n",
       "    <tr style=\"text-align: right;\">\n",
       "      <th></th>\n",
       "      <th>f1</th>\n",
       "      <th>accuracy</th>\n",
       "    </tr>\n",
       "  </thead>\n",
       "  <tbody>\n",
       "    <tr>\n",
       "      <th>logistic - train</th>\n",
       "      <td>1.000 +/- 0.000</td>\n",
       "      <td>1.000 +/- 0.000</td>\n",
       "    </tr>\n",
       "    <tr>\n",
       "      <th>lasso - train</th>\n",
       "      <td>0.969 +/- 0.006</td>\n",
       "      <td>0.968 +/- 0.006</td>\n",
       "    </tr>\n",
       "    <tr>\n",
       "      <th>elasticnet - train</th>\n",
       "      <td>0.993 +/- 0.006</td>\n",
       "      <td>0.993 +/- 0.006</td>\n",
       "    </tr>\n",
       "    <tr>\n",
       "      <th>random_forest - train</th>\n",
       "      <td>1.000 +/- 0.000</td>\n",
       "      <td>1.000 +/- 0.000</td>\n",
       "    </tr>\n",
       "    <tr>\n",
       "      <th>deep_nn - train</th>\n",
       "      <td>1.000 +/- 0.000</td>\n",
       "      <td>1.000 +/- 0.000</td>\n",
       "    </tr>\n",
       "    <tr>\n",
       "      <th>svc - train</th>\n",
       "      <td>0.954 +/- 0.032</td>\n",
       "      <td>0.954 +/- 0.032</td>\n",
       "    </tr>\n",
       "  </tbody>\n",
       "</table>\n",
       "</div>"
      ],
      "text/plain": [
       "                                    f1         accuracy\n",
       "logistic - train       1.000 +/- 0.000  1.000 +/- 0.000\n",
       "lasso - train          0.969 +/- 0.006  0.968 +/- 0.006\n",
       "elasticnet - train     0.993 +/- 0.006  0.993 +/- 0.006\n",
       "random_forest - train  1.000 +/- 0.000  1.000 +/- 0.000\n",
       "deep_nn - train        1.000 +/- 0.000  1.000 +/- 0.000\n",
       "svc - train            0.954 +/- 0.032  0.954 +/- 0.032"
      ]
     },
     "metadata": {},
     "output_type": "display_data"
    },
    {
     "data": {
      "text/html": [
       "<div>\n",
       "<style scoped>\n",
       "    .dataframe tbody tr th:only-of-type {\n",
       "        vertical-align: middle;\n",
       "    }\n",
       "\n",
       "    .dataframe tbody tr th {\n",
       "        vertical-align: top;\n",
       "    }\n",
       "\n",
       "    .dataframe thead th {\n",
       "        text-align: right;\n",
       "    }\n",
       "</style>\n",
       "<table border=\"1\" class=\"dataframe\">\n",
       "  <thead>\n",
       "    <tr style=\"text-align: right;\">\n",
       "      <th></th>\n",
       "      <th>f1</th>\n",
       "      <th>accuracy</th>\n",
       "    </tr>\n",
       "  </thead>\n",
       "  <tbody>\n",
       "    <tr>\n",
       "      <th>logistic</th>\n",
       "      <td>0.635 +/- 0.078</td>\n",
       "      <td>0.650 +/- 0.069</td>\n",
       "    </tr>\n",
       "    <tr>\n",
       "      <th>lasso</th>\n",
       "      <td>0.695 +/- 0.125</td>\n",
       "      <td>0.699 +/- 0.116</td>\n",
       "    </tr>\n",
       "    <tr>\n",
       "      <th>elasticnet</th>\n",
       "      <td>0.640 +/- 0.066</td>\n",
       "      <td>0.650 +/- 0.058</td>\n",
       "    </tr>\n",
       "    <tr>\n",
       "      <th>random_forest</th>\n",
       "      <td>0.587 +/- 0.078</td>\n",
       "      <td>0.620 +/- 0.061</td>\n",
       "    </tr>\n",
       "    <tr>\n",
       "      <th>deep_nn</th>\n",
       "      <td>0.501 +/- 0.096</td>\n",
       "      <td>0.522 +/- 0.102</td>\n",
       "    </tr>\n",
       "    <tr>\n",
       "      <th>svc</th>\n",
       "      <td>0.575 +/- 0.055</td>\n",
       "      <td>0.592 +/- 0.051</td>\n",
       "    </tr>\n",
       "  </tbody>\n",
       "</table>\n",
       "</div>"
      ],
      "text/plain": [
       "                            f1         accuracy\n",
       "logistic       0.635 +/- 0.078  0.650 +/- 0.069\n",
       "lasso          0.695 +/- 0.125  0.699 +/- 0.116\n",
       "elasticnet     0.640 +/- 0.066  0.650 +/- 0.058\n",
       "random_forest  0.587 +/- 0.078  0.620 +/- 0.061\n",
       "deep_nn        0.501 +/- 0.096  0.522 +/- 0.102\n",
       "svc            0.575 +/- 0.055  0.592 +/- 0.051"
      ]
     },
     "metadata": {},
     "output_type": "display_data"
    }
   ],
   "source": [
    "display(base_metrics_df_train['cnv'], base_metrics_df['cnv'])"
   ]
  },
  {
   "cell_type": "code",
   "execution_count": 33,
   "metadata": {},
   "outputs": [
    {
     "data": {
      "text/html": [
       "<div>\n",
       "<style scoped>\n",
       "    .dataframe tbody tr th:only-of-type {\n",
       "        vertical-align: middle;\n",
       "    }\n",
       "\n",
       "    .dataframe tbody tr th {\n",
       "        vertical-align: top;\n",
       "    }\n",
       "\n",
       "    .dataframe thead th {\n",
       "        text-align: right;\n",
       "    }\n",
       "</style>\n",
       "<table border=\"1\" class=\"dataframe\">\n",
       "  <thead>\n",
       "    <tr style=\"text-align: right;\">\n",
       "      <th></th>\n",
       "      <th>f1</th>\n",
       "      <th>accuracy</th>\n",
       "    </tr>\n",
       "  </thead>\n",
       "  <tbody>\n",
       "    <tr>\n",
       "      <th>logistic - train</th>\n",
       "      <td>1.000 +/- 0.000</td>\n",
       "      <td>1.000 +/- 0.000</td>\n",
       "    </tr>\n",
       "    <tr>\n",
       "      <th>lasso - train</th>\n",
       "      <td>1.000 +/- 0.000</td>\n",
       "      <td>1.000 +/- 0.000</td>\n",
       "    </tr>\n",
       "    <tr>\n",
       "      <th>elasticnet - train</th>\n",
       "      <td>1.000 +/- 0.000</td>\n",
       "      <td>1.000 +/- 0.000</td>\n",
       "    </tr>\n",
       "    <tr>\n",
       "      <th>random_forest - train</th>\n",
       "      <td>1.000 +/- 0.000</td>\n",
       "      <td>1.000 +/- 0.000</td>\n",
       "    </tr>\n",
       "    <tr>\n",
       "      <th>deep_nn - train</th>\n",
       "      <td>0.599 +/- 0.102</td>\n",
       "      <td>0.662 +/- 0.106</td>\n",
       "    </tr>\n",
       "    <tr>\n",
       "      <th>svc - train</th>\n",
       "      <td>1.000 +/- 0.000</td>\n",
       "      <td>1.000 +/- 0.000</td>\n",
       "    </tr>\n",
       "  </tbody>\n",
       "</table>\n",
       "</div>"
      ],
      "text/plain": [
       "                                    f1         accuracy\n",
       "logistic - train       1.000 +/- 0.000  1.000 +/- 0.000\n",
       "lasso - train          1.000 +/- 0.000  1.000 +/- 0.000\n",
       "elasticnet - train     1.000 +/- 0.000  1.000 +/- 0.000\n",
       "random_forest - train  1.000 +/- 0.000  1.000 +/- 0.000\n",
       "deep_nn - train        0.599 +/- 0.102  0.662 +/- 0.106\n",
       "svc - train            1.000 +/- 0.000  1.000 +/- 0.000"
      ]
     },
     "metadata": {},
     "output_type": "display_data"
    },
    {
     "data": {
      "text/html": [
       "<div>\n",
       "<style scoped>\n",
       "    .dataframe tbody tr th:only-of-type {\n",
       "        vertical-align: middle;\n",
       "    }\n",
       "\n",
       "    .dataframe tbody tr th {\n",
       "        vertical-align: top;\n",
       "    }\n",
       "\n",
       "    .dataframe thead th {\n",
       "        text-align: right;\n",
       "    }\n",
       "</style>\n",
       "<table border=\"1\" class=\"dataframe\">\n",
       "  <thead>\n",
       "    <tr style=\"text-align: right;\">\n",
       "      <th></th>\n",
       "      <th>f1</th>\n",
       "      <th>accuracy</th>\n",
       "    </tr>\n",
       "  </thead>\n",
       "  <tbody>\n",
       "    <tr>\n",
       "      <th>logistic</th>\n",
       "      <td>0.801 +/- 0.116</td>\n",
       "      <td>0.804 +/- 0.119</td>\n",
       "    </tr>\n",
       "    <tr>\n",
       "      <th>lasso</th>\n",
       "      <td>0.780 +/- 0.089</td>\n",
       "      <td>0.786 +/- 0.091</td>\n",
       "    </tr>\n",
       "    <tr>\n",
       "      <th>elasticnet</th>\n",
       "      <td>0.789 +/- 0.041</td>\n",
       "      <td>0.795 +/- 0.052</td>\n",
       "    </tr>\n",
       "    <tr>\n",
       "      <th>random_forest</th>\n",
       "      <td>0.820 +/- 0.065</td>\n",
       "      <td>0.825 +/- 0.069</td>\n",
       "    </tr>\n",
       "    <tr>\n",
       "      <th>deep_nn</th>\n",
       "      <td>0.515 +/- 0.111</td>\n",
       "      <td>0.601 +/- 0.082</td>\n",
       "    </tr>\n",
       "    <tr>\n",
       "      <th>svc</th>\n",
       "      <td>0.800 +/- 0.089</td>\n",
       "      <td>0.805 +/- 0.090</td>\n",
       "    </tr>\n",
       "  </tbody>\n",
       "</table>\n",
       "</div>"
      ],
      "text/plain": [
       "                            f1         accuracy\n",
       "logistic       0.801 +/- 0.116  0.804 +/- 0.119\n",
       "lasso          0.780 +/- 0.089  0.786 +/- 0.091\n",
       "elasticnet     0.789 +/- 0.041  0.795 +/- 0.052\n",
       "random_forest  0.820 +/- 0.065  0.825 +/- 0.069\n",
       "deep_nn        0.515 +/- 0.111  0.601 +/- 0.082\n",
       "svc            0.800 +/- 0.089  0.805 +/- 0.090"
      ]
     },
     "metadata": {},
     "output_type": "display_data"
    }
   ],
   "source": [
    "display(base_metrics_df_train['mrna'], base_metrics_df['mrna'])"
   ]
  },
  {
   "cell_type": "code",
   "execution_count": 34,
   "metadata": {},
   "outputs": [
    {
     "data": {
      "text/html": [
       "<div>\n",
       "<style scoped>\n",
       "    .dataframe tbody tr th:only-of-type {\n",
       "        vertical-align: middle;\n",
       "    }\n",
       "\n",
       "    .dataframe tbody tr th {\n",
       "        vertical-align: top;\n",
       "    }\n",
       "\n",
       "    .dataframe thead th {\n",
       "        text-align: right;\n",
       "    }\n",
       "</style>\n",
       "<table border=\"1\" class=\"dataframe\">\n",
       "  <thead>\n",
       "    <tr style=\"text-align: right;\">\n",
       "      <th></th>\n",
       "      <th>f1</th>\n",
       "      <th>accuracy</th>\n",
       "    </tr>\n",
       "  </thead>\n",
       "  <tbody>\n",
       "    <tr>\n",
       "      <th>logistic - train</th>\n",
       "      <td>1.000 +/- 0.000</td>\n",
       "      <td>1.000 +/- 0.000</td>\n",
       "    </tr>\n",
       "    <tr>\n",
       "      <th>lasso - train</th>\n",
       "      <td>1.000 +/- 0.000</td>\n",
       "      <td>1.000 +/- 0.000</td>\n",
       "    </tr>\n",
       "    <tr>\n",
       "      <th>elasticnet - train</th>\n",
       "      <td>1.000 +/- 0.000</td>\n",
       "      <td>1.000 +/- 0.000</td>\n",
       "    </tr>\n",
       "    <tr>\n",
       "      <th>random_forest - train</th>\n",
       "      <td>1.000 +/- 0.000</td>\n",
       "      <td>1.000 +/- 0.000</td>\n",
       "    </tr>\n",
       "    <tr>\n",
       "      <th>deep_nn - train</th>\n",
       "      <td>1.000 +/- 0.000</td>\n",
       "      <td>1.000 +/- 0.000</td>\n",
       "    </tr>\n",
       "    <tr>\n",
       "      <th>svc - train</th>\n",
       "      <td>1.000 +/- 0.000</td>\n",
       "      <td>1.000 +/- 0.000</td>\n",
       "    </tr>\n",
       "  </tbody>\n",
       "</table>\n",
       "</div>"
      ],
      "text/plain": [
       "                                    f1         accuracy\n",
       "logistic - train       1.000 +/- 0.000  1.000 +/- 0.000\n",
       "lasso - train          1.000 +/- 0.000  1.000 +/- 0.000\n",
       "elasticnet - train     1.000 +/- 0.000  1.000 +/- 0.000\n",
       "random_forest - train  1.000 +/- 0.000  1.000 +/- 0.000\n",
       "deep_nn - train        1.000 +/- 0.000  1.000 +/- 0.000\n",
       "svc - train            1.000 +/- 0.000  1.000 +/- 0.000"
      ]
     },
     "metadata": {},
     "output_type": "display_data"
    },
    {
     "data": {
      "text/html": [
       "<div>\n",
       "<style scoped>\n",
       "    .dataframe tbody tr th:only-of-type {\n",
       "        vertical-align: middle;\n",
       "    }\n",
       "\n",
       "    .dataframe tbody tr th {\n",
       "        vertical-align: top;\n",
       "    }\n",
       "\n",
       "    .dataframe thead th {\n",
       "        text-align: right;\n",
       "    }\n",
       "</style>\n",
       "<table border=\"1\" class=\"dataframe\">\n",
       "  <thead>\n",
       "    <tr style=\"text-align: right;\">\n",
       "      <th></th>\n",
       "      <th>f1</th>\n",
       "      <th>accuracy</th>\n",
       "    </tr>\n",
       "  </thead>\n",
       "  <tbody>\n",
       "    <tr>\n",
       "      <th>logistic</th>\n",
       "      <td>0.627 +/- 0.127</td>\n",
       "      <td>0.638 +/- 0.122</td>\n",
       "    </tr>\n",
       "    <tr>\n",
       "      <th>lasso</th>\n",
       "      <td>0.625 +/- 0.054</td>\n",
       "      <td>0.630 +/- 0.056</td>\n",
       "    </tr>\n",
       "    <tr>\n",
       "      <th>elasticnet</th>\n",
       "      <td>0.597 +/- 0.092</td>\n",
       "      <td>0.611 +/- 0.094</td>\n",
       "    </tr>\n",
       "    <tr>\n",
       "      <th>random_forest</th>\n",
       "      <td>0.606 +/- 0.083</td>\n",
       "      <td>0.620 +/- 0.081</td>\n",
       "    </tr>\n",
       "    <tr>\n",
       "      <th>deep_nn</th>\n",
       "      <td>0.599 +/- 0.118</td>\n",
       "      <td>0.620 +/- 0.109</td>\n",
       "    </tr>\n",
       "    <tr>\n",
       "      <th>svc</th>\n",
       "      <td>0.647 +/- 0.138</td>\n",
       "      <td>0.657 +/- 0.132</td>\n",
       "    </tr>\n",
       "  </tbody>\n",
       "</table>\n",
       "</div>"
      ],
      "text/plain": [
       "                            f1         accuracy\n",
       "logistic       0.627 +/- 0.127  0.638 +/- 0.122\n",
       "lasso          0.625 +/- 0.054  0.630 +/- 0.056\n",
       "elasticnet     0.597 +/- 0.092  0.611 +/- 0.094\n",
       "random_forest  0.606 +/- 0.083  0.620 +/- 0.081\n",
       "deep_nn        0.599 +/- 0.118  0.620 +/- 0.109\n",
       "svc            0.647 +/- 0.138  0.657 +/- 0.132"
      ]
     },
     "metadata": {},
     "output_type": "display_data"
    }
   ],
   "source": [
    "display(base_metrics_df_train['prot'], base_metrics_df['prot'])"
   ]
  },
  {
   "cell_type": "markdown",
   "metadata": {},
   "source": [
    "We can see that all these algorithms are highly overfitting the data."
   ]
  },
  {
   "cell_type": "code",
   "execution_count": 49,
   "metadata": {},
   "outputs": [],
   "source": [
    "lr_models = {\n",
    "    \"C=0.01\": LogisticRegression(solver=\"lbfgs\", n_jobs=-1, multi_class='multinomial', C=0.01, max_iter=1000, random_state=0),\n",
    "    \"C=0.1\": LogisticRegression(solver=\"lbfgs\", n_jobs=-1, multi_class='multinomial', C=0.1, max_iter=1000, random_state=0),\n",
    "    \"C=0.5\": LogisticRegression(solver=\"lbfgs\", n_jobs=-1, multi_class='multinomial', C=0.5, max_iter=1000, random_state=0),\n",
    "    \"C=1\": LogisticRegression(solver=\"lbfgs\", n_jobs=-1, multi_class='multinomial', C=1, max_iter=1000, random_state=0),\n",
    "}"
   ]
  },
  {
   "cell_type": "code",
   "execution_count": 50,
   "metadata": {},
   "outputs": [],
   "source": [
    "metrics = pd.DataFrame()\n",
    "metrics_train=pd.DataFrame()\n",
    "scores=[]\n",
    "\n",
    "for name, clf in lr_models.items():\n",
    "    score, df, train_df = get_cross_metrics(clf, X['prot'], y, name, return_train_score=True)\n",
    "    metrics = pd.concat([metrics, df])\n",
    "    metrics_train = pd.concat([metrics_train, train_df])\n",
    "    scores.append(score)"
   ]
  },
  {
   "cell_type": "code",
   "execution_count": 51,
   "metadata": {},
   "outputs": [
    {
     "data": {
      "text/html": [
       "<div>\n",
       "<style scoped>\n",
       "    .dataframe tbody tr th:only-of-type {\n",
       "        vertical-align: middle;\n",
       "    }\n",
       "\n",
       "    .dataframe tbody tr th {\n",
       "        vertical-align: top;\n",
       "    }\n",
       "\n",
       "    .dataframe thead th {\n",
       "        text-align: right;\n",
       "    }\n",
       "</style>\n",
       "<table border=\"1\" class=\"dataframe\">\n",
       "  <thead>\n",
       "    <tr style=\"text-align: right;\">\n",
       "      <th></th>\n",
       "      <th>f1</th>\n",
       "      <th>accuracy</th>\n",
       "    </tr>\n",
       "  </thead>\n",
       "  <tbody>\n",
       "    <tr>\n",
       "      <th>C=0.01 - train</th>\n",
       "      <td>1.000 +/- 0.000</td>\n",
       "      <td>1.000 +/- 0.000</td>\n",
       "    </tr>\n",
       "    <tr>\n",
       "      <th>C=0.1 - train</th>\n",
       "      <td>1.000 +/- 0.000</td>\n",
       "      <td>1.000 +/- 0.000</td>\n",
       "    </tr>\n",
       "    <tr>\n",
       "      <th>C=0.5 - train</th>\n",
       "      <td>1.000 +/- 0.000</td>\n",
       "      <td>1.000 +/- 0.000</td>\n",
       "    </tr>\n",
       "    <tr>\n",
       "      <th>C=1 - train</th>\n",
       "      <td>1.000 +/- 0.000</td>\n",
       "      <td>1.000 +/- 0.000</td>\n",
       "    </tr>\n",
       "  </tbody>\n",
       "</table>\n",
       "</div>"
      ],
      "text/plain": [
       "                             f1         accuracy\n",
       "C=0.01 - train  1.000 +/- 0.000  1.000 +/- 0.000\n",
       "C=0.1 - train   1.000 +/- 0.000  1.000 +/- 0.000\n",
       "C=0.5 - train   1.000 +/- 0.000  1.000 +/- 0.000\n",
       "C=1 - train     1.000 +/- 0.000  1.000 +/- 0.000"
      ]
     },
     "metadata": {},
     "output_type": "display_data"
    },
    {
     "data": {
      "text/html": [
       "<div>\n",
       "<style scoped>\n",
       "    .dataframe tbody tr th:only-of-type {\n",
       "        vertical-align: middle;\n",
       "    }\n",
       "\n",
       "    .dataframe tbody tr th {\n",
       "        vertical-align: top;\n",
       "    }\n",
       "\n",
       "    .dataframe thead th {\n",
       "        text-align: right;\n",
       "    }\n",
       "</style>\n",
       "<table border=\"1\" class=\"dataframe\">\n",
       "  <thead>\n",
       "    <tr style=\"text-align: right;\">\n",
       "      <th></th>\n",
       "      <th>f1</th>\n",
       "      <th>accuracy</th>\n",
       "    </tr>\n",
       "  </thead>\n",
       "  <tbody>\n",
       "    <tr>\n",
       "      <th>C=0.01</th>\n",
       "      <td>0.619 +/- 0.115</td>\n",
       "      <td>0.629 +/- 0.109</td>\n",
       "    </tr>\n",
       "    <tr>\n",
       "      <th>C=0.1</th>\n",
       "      <td>0.627 +/- 0.127</td>\n",
       "      <td>0.638 +/- 0.122</td>\n",
       "    </tr>\n",
       "    <tr>\n",
       "      <th>C=0.5</th>\n",
       "      <td>0.627 +/- 0.127</td>\n",
       "      <td>0.638 +/- 0.122</td>\n",
       "    </tr>\n",
       "    <tr>\n",
       "      <th>C=1</th>\n",
       "      <td>0.627 +/- 0.127</td>\n",
       "      <td>0.638 +/- 0.122</td>\n",
       "    </tr>\n",
       "  </tbody>\n",
       "</table>\n",
       "</div>"
      ],
      "text/plain": [
       "                     f1         accuracy\n",
       "C=0.01  0.619 +/- 0.115  0.629 +/- 0.109\n",
       "C=0.1   0.627 +/- 0.127  0.638 +/- 0.122\n",
       "C=0.5   0.627 +/- 0.127  0.638 +/- 0.122\n",
       "C=1     0.627 +/- 0.127  0.638 +/- 0.122"
      ]
     },
     "metadata": {},
     "output_type": "display_data"
    }
   ],
   "source": [
    "display(metrics_train, metrics)"
   ]
  },
  {
   "cell_type": "markdown",
   "metadata": {},
   "source": [
    "Changing C doesn't seem to have a big difference on the performance, prot is still overfitting."
   ]
  },
  {
   "cell_type": "code",
   "execution_count": 55,
   "metadata": {},
   "outputs": [],
   "source": [
    "from sklearn.feature_selection import SelectPercentile, chi2\n",
    "from sklearn.preprocessing import MinMaxScaler\n",
    "\n",
    "pipeline = Pipeline([('scaler', MinMaxScaler()), ('feature_selection', SelectPercentile(chi2, percentile=50)), ('lr', LogisticRegression(solver=\"lbfgs\", n_jobs=-1, multi_class='multinomial', max_iter=1000, random_state=0))])\n",
    "score, df, train_df = get_cross_metrics(pipeline, X['prot'], y, name, return_train_score=True, cv=10)"
   ]
  },
  {
   "cell_type": "code",
   "execution_count": 65,
   "metadata": {},
   "outputs": [],
   "source": [
    "lr_models = {\n",
    "    \"50%\": Pipeline([('scaler', MinMaxScaler()), ('feature_selection', SelectPercentile(chi2, percentile=50)), ('lr', LogisticRegression(solver=\"lbfgs\", n_jobs=-1, multi_class='multinomial', max_iter=1000, random_state=0))]),\n",
    "    \"25%\": Pipeline([('scaler', MinMaxScaler()), ('feature_selection', SelectPercentile(chi2, percentile=25)), ('lr', LogisticRegression(solver=\"lbfgs\", n_jobs=-1, multi_class='multinomial', max_iter=1000, random_state=0))]),\n",
    "    \"10%\": Pipeline([('scaler', MinMaxScaler()), ('feature_selection', SelectPercentile(chi2, percentile=10)), ('lr', LogisticRegression(solver=\"lbfgs\", n_jobs=-1, multi_class='multinomial', max_iter=1000, random_state=0))]),\n",
    "}"
   ]
  },
  {
   "cell_type": "code",
   "execution_count": 66,
   "metadata": {},
   "outputs": [],
   "source": [
    "metrics = pd.DataFrame()\n",
    "metrics_train=pd.DataFrame()\n",
    "scores=[]\n",
    "\n",
    "for name, clf in lr_models.items():\n",
    "    score, df, train_df = get_cross_metrics(clf, X['prot'], y, name, return_train_score=True, cv=10)\n",
    "    metrics = pd.concat([metrics, df])\n",
    "    metrics_train = pd.concat([metrics_train, train_df])\n",
    "    scores.append(score)"
   ]
  },
  {
   "cell_type": "code",
   "execution_count": 68,
   "metadata": {},
   "outputs": [
    {
     "data": {
      "text/html": [
       "<div>\n",
       "<style scoped>\n",
       "    .dataframe tbody tr th:only-of-type {\n",
       "        vertical-align: middle;\n",
       "    }\n",
       "\n",
       "    .dataframe tbody tr th {\n",
       "        vertical-align: top;\n",
       "    }\n",
       "\n",
       "    .dataframe thead th {\n",
       "        text-align: right;\n",
       "    }\n",
       "</style>\n",
       "<table border=\"1\" class=\"dataframe\">\n",
       "  <thead>\n",
       "    <tr style=\"text-align: right;\">\n",
       "      <th></th>\n",
       "      <th>f1</th>\n",
       "      <th>accuracy</th>\n",
       "    </tr>\n",
       "  </thead>\n",
       "  <tbody>\n",
       "    <tr>\n",
       "      <th>50%</th>\n",
       "      <td>0.677 +/- 0.181</td>\n",
       "      <td>0.695 +/- 0.173</td>\n",
       "    </tr>\n",
       "    <tr>\n",
       "      <th>25%</th>\n",
       "      <td>0.678 +/- 0.186</td>\n",
       "      <td>0.685 +/- 0.186</td>\n",
       "    </tr>\n",
       "    <tr>\n",
       "      <th>10%</th>\n",
       "      <td>0.708 +/- 0.174</td>\n",
       "      <td>0.725 +/- 0.175</td>\n",
       "    </tr>\n",
       "  </tbody>\n",
       "</table>\n",
       "</div>"
      ],
      "text/plain": [
       "                  f1         accuracy\n",
       "50%  0.677 +/- 0.181  0.695 +/- 0.173\n",
       "25%  0.678 +/- 0.186  0.685 +/- 0.186\n",
       "10%  0.708 +/- 0.174  0.725 +/- 0.175"
      ]
     },
     "metadata": {},
     "output_type": "display_data"
    },
    {
     "data": {
      "text/html": [
       "<div>\n",
       "<style scoped>\n",
       "    .dataframe tbody tr th:only-of-type {\n",
       "        vertical-align: middle;\n",
       "    }\n",
       "\n",
       "    .dataframe tbody tr th {\n",
       "        vertical-align: top;\n",
       "    }\n",
       "\n",
       "    .dataframe thead th {\n",
       "        text-align: right;\n",
       "    }\n",
       "</style>\n",
       "<table border=\"1\" class=\"dataframe\">\n",
       "  <thead>\n",
       "    <tr style=\"text-align: right;\">\n",
       "      <th></th>\n",
       "      <th>f1</th>\n",
       "      <th>accuracy</th>\n",
       "    </tr>\n",
       "  </thead>\n",
       "  <tbody>\n",
       "    <tr>\n",
       "      <th>50% - train</th>\n",
       "      <td>1.000 +/- 0.000</td>\n",
       "      <td>1.000 +/- 0.000</td>\n",
       "    </tr>\n",
       "    <tr>\n",
       "      <th>25% - train</th>\n",
       "      <td>1.000 +/- 0.000</td>\n",
       "      <td>1.000 +/- 0.000</td>\n",
       "    </tr>\n",
       "    <tr>\n",
       "      <th>10% - train</th>\n",
       "      <td>1.000 +/- 0.000</td>\n",
       "      <td>1.000 +/- 0.000</td>\n",
       "    </tr>\n",
       "  </tbody>\n",
       "</table>\n",
       "</div>"
      ],
      "text/plain": [
       "                          f1         accuracy\n",
       "50% - train  1.000 +/- 0.000  1.000 +/- 0.000\n",
       "25% - train  1.000 +/- 0.000  1.000 +/- 0.000\n",
       "10% - train  1.000 +/- 0.000  1.000 +/- 0.000"
      ]
     },
     "metadata": {},
     "output_type": "display_data"
    }
   ],
   "source": [
    "display(metrics, metrics_train)"
   ]
  },
  {
   "cell_type": "code",
   "execution_count": 85,
   "metadata": {},
   "outputs": [],
   "source": [
    "testing_estimators = [\n",
    "    (\"logistic\", LogisticRegression(solver=\"lbfgs\", n_jobs=-1, multi_class='multinomial', max_iter=1000, random_state=0)),\n",
    "    (\"lasso\", LogisticRegression(solver=\"liblinear\", penalty=\"l1\", max_iter=1000, random_state=0)),\n",
    "    #(\"elasticnet\", SGDClassifier(loss=\"log_loss\", penalty=\"elasticnet\", n_jobs=-1)),\n",
    "    #(\"random_forest\", RandomForestClassifier(random_state=0, n_jobs=-1)),\n",
    "    #(\"deep_nn\", MLPClassifier(max_iter=500, random_state=0)),\n",
    "    (\"svc\", CalibratedClassifierCV(LinearSVC(dual=True, C=10, random_state=0), cv=StratifiedKFold(n_splits=3, random_state=0, shuffle=True), n_jobs=-1)),\n",
    "]"
   ]
  },
  {
   "cell_type": "code",
   "execution_count": 86,
   "metadata": {},
   "outputs": [],
   "source": [
    "test_base_estimators = {}\n",
    "\n",
    "for modality in datasets:\n",
    "    test_base_estimators[modality] = {}\n",
    "    for name, clf in testing_estimators:\n",
    "        #test_base_estimators[modality][name] = Pipeline([('scaler', MinMaxScaler()), ('feature_selection', SelectPercentile(chi2, percentile=50)), (name, clf)])\n",
    "        test_base_estimators[modality][name] = Pipeline([('scaler', MinMaxScaler()), (name, clf)])"
   ]
  },
  {
   "cell_type": "code",
   "execution_count": 87,
   "metadata": {},
   "outputs": [
    {
     "name": "stderr",
     "output_type": "stream",
     "text": [
      "  0%|          | 0/3 [00:00<?, ?it/s]"
     ]
    },
    {
     "name": "stderr",
     "output_type": "stream",
     "text": [
      " 67%|██████▋   | 2/3 [00:25<00:11, 11.42s/it]/Users/signehoel/comp401/sklearn-venv/lib/python3.8/site-packages/sklearn/svm/_base.py:1244: ConvergenceWarning: Liblinear failed to converge, increase the number of iterations.\n",
      "  warnings.warn(\n",
      "/Users/signehoel/comp401/sklearn-venv/lib/python3.8/site-packages/sklearn/svm/_base.py:1244: ConvergenceWarning: Liblinear failed to converge, increase the number of iterations.\n",
      "  warnings.warn(\n",
      "/Users/signehoel/comp401/sklearn-venv/lib/python3.8/site-packages/sklearn/svm/_base.py:1244: ConvergenceWarning: Liblinear failed to converge, increase the number of iterations.\n",
      "  warnings.warn(\n",
      "/Users/signehoel/comp401/sklearn-venv/lib/python3.8/site-packages/sklearn/svm/_base.py:1244: ConvergenceWarning: Liblinear failed to converge, increase the number of iterations.\n",
      "  warnings.warn(\n",
      "/Users/signehoel/comp401/sklearn-venv/lib/python3.8/site-packages/sklearn/svm/_base.py:1244: ConvergenceWarning: Liblinear failed to converge, increase the number of iterations.\n",
      "  warnings.warn(\n",
      "/Users/signehoel/comp401/sklearn-venv/lib/python3.8/site-packages/sklearn/svm/_base.py:1244: ConvergenceWarning: Liblinear failed to converge, increase the number of iterations.\n",
      "  warnings.warn(\n",
      "/Users/signehoel/comp401/sklearn-venv/lib/python3.8/site-packages/sklearn/svm/_base.py:1244: ConvergenceWarning: Liblinear failed to converge, increase the number of iterations.\n",
      "  warnings.warn(\n",
      "/Users/signehoel/comp401/sklearn-venv/lib/python3.8/site-packages/sklearn/svm/_base.py:1244: ConvergenceWarning: Liblinear failed to converge, increase the number of iterations.\n",
      "  warnings.warn(\n",
      "/Users/signehoel/comp401/sklearn-venv/lib/python3.8/site-packages/sklearn/svm/_base.py:1244: ConvergenceWarning: Liblinear failed to converge, increase the number of iterations.\n",
      "  warnings.warn(\n",
      "/Users/signehoel/comp401/sklearn-venv/lib/python3.8/site-packages/sklearn/svm/_base.py:1244: ConvergenceWarning: Liblinear failed to converge, increase the number of iterations.\n",
      "  warnings.warn(\n",
      "/Users/signehoel/comp401/sklearn-venv/lib/python3.8/site-packages/sklearn/svm/_base.py:1244: ConvergenceWarning: Liblinear failed to converge, increase the number of iterations.\n",
      "  warnings.warn(\n",
      "/Users/signehoel/comp401/sklearn-venv/lib/python3.8/site-packages/sklearn/svm/_base.py:1244: ConvergenceWarning: Liblinear failed to converge, increase the number of iterations.\n",
      "  warnings.warn(\n",
      "/Users/signehoel/comp401/sklearn-venv/lib/python3.8/site-packages/sklearn/svm/_base.py:1244: ConvergenceWarning: Liblinear failed to converge, increase the number of iterations.\n",
      "  warnings.warn(\n",
      "100%|██████████| 3/3 [01:39<00:00, 33.19s/it]\n",
      "100%|██████████| 3/3 [00:43<00:00, 14.39s/it]\n",
      "100%|██████████| 3/3 [00:28<00:00,  9.39s/it]\n"
     ]
    }
   ],
   "source": [
    "test_base_scores = {}\n",
    "test_base_metrics_df = {}\n",
    "test_base_metrics_df_train = {}\n",
    "\n",
    "for modality in datasets:\n",
    "   test_base_metrics_df[modality] = pd.DataFrame()\n",
    "   test_base_metrics_df_train[modality] = pd.DataFrame()\n",
    "   test_base_scores[modality] = []\n",
    "   \n",
    "   for name, clf in tqdm(test_base_estimators[modality].items()):\n",
    "      score, df, train_df = get_cross_metrics(clf, X[modality], y, name, return_train_score=True)\n",
    "   \n",
    "      test_base_metrics_df[modality] = pd.concat([test_base_metrics_df[modality], df])\n",
    "      test_base_metrics_df_train[modality] = pd.concat([test_base_metrics_df_train[modality], train_df])\n",
    "      test_base_scores[modality].append(score)"
   ]
  },
  {
   "cell_type": "code",
   "execution_count": 90,
   "metadata": {},
   "outputs": [
    {
     "data": {
      "text/html": [
       "<div>\n",
       "<style scoped>\n",
       "    .dataframe tbody tr th:only-of-type {\n",
       "        vertical-align: middle;\n",
       "    }\n",
       "\n",
       "    .dataframe tbody tr th {\n",
       "        vertical-align: top;\n",
       "    }\n",
       "\n",
       "    .dataframe thead th {\n",
       "        text-align: right;\n",
       "    }\n",
       "</style>\n",
       "<table border=\"1\" class=\"dataframe\">\n",
       "  <thead>\n",
       "    <tr style=\"text-align: right;\">\n",
       "      <th></th>\n",
       "      <th>f1</th>\n",
       "      <th>accuracy</th>\n",
       "    </tr>\n",
       "  </thead>\n",
       "  <tbody>\n",
       "    <tr>\n",
       "      <th>logistic</th>\n",
       "      <td>0.648 +/- 0.119</td>\n",
       "      <td>0.658 +/- 0.115</td>\n",
       "    </tr>\n",
       "    <tr>\n",
       "      <th>lasso</th>\n",
       "      <td>0.698 +/- 0.111</td>\n",
       "      <td>0.707 +/- 0.116</td>\n",
       "    </tr>\n",
       "    <tr>\n",
       "      <th>svc</th>\n",
       "      <td>0.693 +/- 0.142</td>\n",
       "      <td>0.706 +/- 0.141</td>\n",
       "    </tr>\n",
       "  </tbody>\n",
       "</table>\n",
       "</div>"
      ],
      "text/plain": [
       "                       f1         accuracy\n",
       "logistic  0.648 +/- 0.119  0.658 +/- 0.115\n",
       "lasso     0.698 +/- 0.111  0.707 +/- 0.116\n",
       "svc       0.693 +/- 0.142  0.706 +/- 0.141"
      ]
     },
     "metadata": {},
     "output_type": "display_data"
    },
    {
     "data": {
      "text/html": [
       "<div>\n",
       "<style scoped>\n",
       "    .dataframe tbody tr th:only-of-type {\n",
       "        vertical-align: middle;\n",
       "    }\n",
       "\n",
       "    .dataframe tbody tr th {\n",
       "        vertical-align: top;\n",
       "    }\n",
       "\n",
       "    .dataframe thead th {\n",
       "        text-align: right;\n",
       "    }\n",
       "</style>\n",
       "<table border=\"1\" class=\"dataframe\">\n",
       "  <thead>\n",
       "    <tr style=\"text-align: right;\">\n",
       "      <th></th>\n",
       "      <th>f1</th>\n",
       "      <th>accuracy</th>\n",
       "    </tr>\n",
       "  </thead>\n",
       "  <tbody>\n",
       "    <tr>\n",
       "      <th>logistic</th>\n",
       "      <td>0.627 +/- 0.127</td>\n",
       "      <td>0.638 +/- 0.122</td>\n",
       "    </tr>\n",
       "    <tr>\n",
       "      <th>lasso</th>\n",
       "      <td>0.625 +/- 0.054</td>\n",
       "      <td>0.630 +/- 0.056</td>\n",
       "    </tr>\n",
       "    <tr>\n",
       "      <th>elasticnet</th>\n",
       "      <td>0.597 +/- 0.092</td>\n",
       "      <td>0.611 +/- 0.094</td>\n",
       "    </tr>\n",
       "    <tr>\n",
       "      <th>random_forest</th>\n",
       "      <td>0.606 +/- 0.083</td>\n",
       "      <td>0.620 +/- 0.081</td>\n",
       "    </tr>\n",
       "    <tr>\n",
       "      <th>deep_nn</th>\n",
       "      <td>0.599 +/- 0.118</td>\n",
       "      <td>0.620 +/- 0.109</td>\n",
       "    </tr>\n",
       "    <tr>\n",
       "      <th>svc</th>\n",
       "      <td>0.647 +/- 0.138</td>\n",
       "      <td>0.657 +/- 0.132</td>\n",
       "    </tr>\n",
       "  </tbody>\n",
       "</table>\n",
       "</div>"
      ],
      "text/plain": [
       "                            f1         accuracy\n",
       "logistic       0.627 +/- 0.127  0.638 +/- 0.122\n",
       "lasso          0.625 +/- 0.054  0.630 +/- 0.056\n",
       "elasticnet     0.597 +/- 0.092  0.611 +/- 0.094\n",
       "random_forest  0.606 +/- 0.083  0.620 +/- 0.081\n",
       "deep_nn        0.599 +/- 0.118  0.620 +/- 0.109\n",
       "svc            0.647 +/- 0.138  0.657 +/- 0.132"
      ]
     },
     "metadata": {},
     "output_type": "display_data"
    }
   ],
   "source": [
    "display(test_base_metrics_df['prot'], base_metrics_df['prot'])"
   ]
  },
  {
   "cell_type": "code",
   "execution_count": 81,
   "metadata": {},
   "outputs": [
    {
     "data": {
      "text/html": [
       "<div>\n",
       "<style scoped>\n",
       "    .dataframe tbody tr th:only-of-type {\n",
       "        vertical-align: middle;\n",
       "    }\n",
       "\n",
       "    .dataframe tbody tr th {\n",
       "        vertical-align: top;\n",
       "    }\n",
       "\n",
       "    .dataframe thead th {\n",
       "        text-align: right;\n",
       "    }\n",
       "</style>\n",
       "<table border=\"1\" class=\"dataframe\">\n",
       "  <thead>\n",
       "    <tr style=\"text-align: right;\">\n",
       "      <th></th>\n",
       "      <th>f1</th>\n",
       "      <th>accuracy</th>\n",
       "    </tr>\n",
       "  </thead>\n",
       "  <tbody>\n",
       "    <tr>\n",
       "      <th>logistic</th>\n",
       "      <td>0.564 +/- 0.071</td>\n",
       "      <td>0.581 +/- 0.087</td>\n",
       "    </tr>\n",
       "    <tr>\n",
       "      <th>lasso</th>\n",
       "      <td>0.612 +/- 0.115</td>\n",
       "      <td>0.630 +/- 0.105</td>\n",
       "    </tr>\n",
       "    <tr>\n",
       "      <th>elasticnet</th>\n",
       "      <td>0.531 +/- 0.149</td>\n",
       "      <td>0.572 +/- 0.138</td>\n",
       "    </tr>\n",
       "    <tr>\n",
       "      <th>random_forest</th>\n",
       "      <td>0.626 +/- 0.046</td>\n",
       "      <td>0.650 +/- 0.040</td>\n",
       "    </tr>\n",
       "    <tr>\n",
       "      <th>deep_nn</th>\n",
       "      <td>0.596 +/- 0.081</td>\n",
       "      <td>0.611 +/- 0.083</td>\n",
       "    </tr>\n",
       "    <tr>\n",
       "      <th>svc</th>\n",
       "      <td>0.494 +/- 0.089</td>\n",
       "      <td>0.524 +/- 0.081</td>\n",
       "    </tr>\n",
       "  </tbody>\n",
       "</table>\n",
       "</div>"
      ],
      "text/plain": [
       "                            f1         accuracy\n",
       "logistic       0.564 +/- 0.071  0.581 +/- 0.087\n",
       "lasso          0.612 +/- 0.115  0.630 +/- 0.105\n",
       "elasticnet     0.531 +/- 0.149  0.572 +/- 0.138\n",
       "random_forest  0.626 +/- 0.046  0.650 +/- 0.040\n",
       "deep_nn        0.596 +/- 0.081  0.611 +/- 0.083\n",
       "svc            0.494 +/- 0.089  0.524 +/- 0.081"
      ]
     },
     "metadata": {},
     "output_type": "display_data"
    },
    {
     "data": {
      "text/html": [
       "<div>\n",
       "<style scoped>\n",
       "    .dataframe tbody tr th:only-of-type {\n",
       "        vertical-align: middle;\n",
       "    }\n",
       "\n",
       "    .dataframe tbody tr th {\n",
       "        vertical-align: top;\n",
       "    }\n",
       "\n",
       "    .dataframe thead th {\n",
       "        text-align: right;\n",
       "    }\n",
       "</style>\n",
       "<table border=\"1\" class=\"dataframe\">\n",
       "  <thead>\n",
       "    <tr style=\"text-align: right;\">\n",
       "      <th></th>\n",
       "      <th>f1</th>\n",
       "      <th>accuracy</th>\n",
       "    </tr>\n",
       "  </thead>\n",
       "  <tbody>\n",
       "    <tr>\n",
       "      <th>logistic</th>\n",
       "      <td>0.635 +/- 0.078</td>\n",
       "      <td>0.650 +/- 0.069</td>\n",
       "    </tr>\n",
       "    <tr>\n",
       "      <th>lasso</th>\n",
       "      <td>0.695 +/- 0.125</td>\n",
       "      <td>0.699 +/- 0.116</td>\n",
       "    </tr>\n",
       "    <tr>\n",
       "      <th>elasticnet</th>\n",
       "      <td>0.640 +/- 0.066</td>\n",
       "      <td>0.650 +/- 0.058</td>\n",
       "    </tr>\n",
       "    <tr>\n",
       "      <th>random_forest</th>\n",
       "      <td>0.587 +/- 0.078</td>\n",
       "      <td>0.620 +/- 0.061</td>\n",
       "    </tr>\n",
       "    <tr>\n",
       "      <th>deep_nn</th>\n",
       "      <td>0.501 +/- 0.096</td>\n",
       "      <td>0.522 +/- 0.102</td>\n",
       "    </tr>\n",
       "    <tr>\n",
       "      <th>svc</th>\n",
       "      <td>0.575 +/- 0.055</td>\n",
       "      <td>0.592 +/- 0.051</td>\n",
       "    </tr>\n",
       "  </tbody>\n",
       "</table>\n",
       "</div>"
      ],
      "text/plain": [
       "                            f1         accuracy\n",
       "logistic       0.635 +/- 0.078  0.650 +/- 0.069\n",
       "lasso          0.695 +/- 0.125  0.699 +/- 0.116\n",
       "elasticnet     0.640 +/- 0.066  0.650 +/- 0.058\n",
       "random_forest  0.587 +/- 0.078  0.620 +/- 0.061\n",
       "deep_nn        0.501 +/- 0.096  0.522 +/- 0.102\n",
       "svc            0.575 +/- 0.055  0.592 +/- 0.051"
      ]
     },
     "metadata": {},
     "output_type": "display_data"
    }
   ],
   "source": [
    "display(test_base_metrics_df['cnv'], base_metrics_df['cnv'])"
   ]
  },
  {
   "cell_type": "code",
   "execution_count": 82,
   "metadata": {},
   "outputs": [
    {
     "data": {
      "text/html": [
       "<div>\n",
       "<style scoped>\n",
       "    .dataframe tbody tr th:only-of-type {\n",
       "        vertical-align: middle;\n",
       "    }\n",
       "\n",
       "    .dataframe tbody tr th {\n",
       "        vertical-align: top;\n",
       "    }\n",
       "\n",
       "    .dataframe thead th {\n",
       "        text-align: right;\n",
       "    }\n",
       "</style>\n",
       "<table border=\"1\" class=\"dataframe\">\n",
       "  <thead>\n",
       "    <tr style=\"text-align: right;\">\n",
       "      <th></th>\n",
       "      <th>f1</th>\n",
       "      <th>accuracy</th>\n",
       "    </tr>\n",
       "  </thead>\n",
       "  <tbody>\n",
       "    <tr>\n",
       "      <th>logistic</th>\n",
       "      <td>0.806 +/- 0.125</td>\n",
       "      <td>0.813 +/- 0.126</td>\n",
       "    </tr>\n",
       "    <tr>\n",
       "      <th>lasso</th>\n",
       "      <td>0.820 +/- 0.039</td>\n",
       "      <td>0.825 +/- 0.038</td>\n",
       "    </tr>\n",
       "    <tr>\n",
       "      <th>elasticnet</th>\n",
       "      <td>0.840 +/- 0.122</td>\n",
       "      <td>0.842 +/- 0.125</td>\n",
       "    </tr>\n",
       "    <tr>\n",
       "      <th>random_forest</th>\n",
       "      <td>0.830 +/- 0.078</td>\n",
       "      <td>0.834 +/- 0.082</td>\n",
       "    </tr>\n",
       "    <tr>\n",
       "      <th>deep_nn</th>\n",
       "      <td>0.814 +/- 0.125</td>\n",
       "      <td>0.823 +/- 0.120</td>\n",
       "    </tr>\n",
       "    <tr>\n",
       "      <th>svc</th>\n",
       "      <td>0.805 +/- 0.105</td>\n",
       "      <td>0.813 +/- 0.104</td>\n",
       "    </tr>\n",
       "  </tbody>\n",
       "</table>\n",
       "</div>"
      ],
      "text/plain": [
       "                            f1         accuracy\n",
       "logistic       0.806 +/- 0.125  0.813 +/- 0.126\n",
       "lasso          0.820 +/- 0.039  0.825 +/- 0.038\n",
       "elasticnet     0.840 +/- 0.122  0.842 +/- 0.125\n",
       "random_forest  0.830 +/- 0.078  0.834 +/- 0.082\n",
       "deep_nn        0.814 +/- 0.125  0.823 +/- 0.120\n",
       "svc            0.805 +/- 0.105  0.813 +/- 0.104"
      ]
     },
     "metadata": {},
     "output_type": "display_data"
    },
    {
     "data": {
      "text/html": [
       "<div>\n",
       "<style scoped>\n",
       "    .dataframe tbody tr th:only-of-type {\n",
       "        vertical-align: middle;\n",
       "    }\n",
       "\n",
       "    .dataframe tbody tr th {\n",
       "        vertical-align: top;\n",
       "    }\n",
       "\n",
       "    .dataframe thead th {\n",
       "        text-align: right;\n",
       "    }\n",
       "</style>\n",
       "<table border=\"1\" class=\"dataframe\">\n",
       "  <thead>\n",
       "    <tr style=\"text-align: right;\">\n",
       "      <th></th>\n",
       "      <th>f1</th>\n",
       "      <th>accuracy</th>\n",
       "    </tr>\n",
       "  </thead>\n",
       "  <tbody>\n",
       "    <tr>\n",
       "      <th>logistic</th>\n",
       "      <td>0.801 +/- 0.116</td>\n",
       "      <td>0.804 +/- 0.119</td>\n",
       "    </tr>\n",
       "    <tr>\n",
       "      <th>lasso</th>\n",
       "      <td>0.780 +/- 0.089</td>\n",
       "      <td>0.786 +/- 0.091</td>\n",
       "    </tr>\n",
       "    <tr>\n",
       "      <th>elasticnet</th>\n",
       "      <td>0.789 +/- 0.041</td>\n",
       "      <td>0.795 +/- 0.052</td>\n",
       "    </tr>\n",
       "    <tr>\n",
       "      <th>random_forest</th>\n",
       "      <td>0.820 +/- 0.065</td>\n",
       "      <td>0.825 +/- 0.069</td>\n",
       "    </tr>\n",
       "    <tr>\n",
       "      <th>deep_nn</th>\n",
       "      <td>0.515 +/- 0.111</td>\n",
       "      <td>0.601 +/- 0.082</td>\n",
       "    </tr>\n",
       "    <tr>\n",
       "      <th>svc</th>\n",
       "      <td>0.800 +/- 0.089</td>\n",
       "      <td>0.805 +/- 0.090</td>\n",
       "    </tr>\n",
       "  </tbody>\n",
       "</table>\n",
       "</div>"
      ],
      "text/plain": [
       "                            f1         accuracy\n",
       "logistic       0.801 +/- 0.116  0.804 +/- 0.119\n",
       "lasso          0.780 +/- 0.089  0.786 +/- 0.091\n",
       "elasticnet     0.789 +/- 0.041  0.795 +/- 0.052\n",
       "random_forest  0.820 +/- 0.065  0.825 +/- 0.069\n",
       "deep_nn        0.515 +/- 0.111  0.601 +/- 0.082\n",
       "svc            0.800 +/- 0.089  0.805 +/- 0.090"
      ]
     },
     "metadata": {},
     "output_type": "display_data"
    }
   ],
   "source": [
    "display(test_base_metrics_df['mrna'], base_metrics_df['mrna'])"
   ]
  },
  {
   "cell_type": "code",
   "execution_count": 83,
   "metadata": {},
   "outputs": [
    {
     "data": {
      "text/html": [
       "<div>\n",
       "<style scoped>\n",
       "    .dataframe tbody tr th:only-of-type {\n",
       "        vertical-align: middle;\n",
       "    }\n",
       "\n",
       "    .dataframe tbody tr th {\n",
       "        vertical-align: top;\n",
       "    }\n",
       "\n",
       "    .dataframe thead th {\n",
       "        text-align: right;\n",
       "    }\n",
       "</style>\n",
       "<table border=\"1\" class=\"dataframe\">\n",
       "  <thead>\n",
       "    <tr style=\"text-align: right;\">\n",
       "      <th></th>\n",
       "      <th>f1</th>\n",
       "      <th>accuracy</th>\n",
       "    </tr>\n",
       "  </thead>\n",
       "  <tbody>\n",
       "    <tr>\n",
       "      <th>logistic</th>\n",
       "      <td>0.658 +/- 0.127</td>\n",
       "      <td>0.667 +/- 0.121</td>\n",
       "    </tr>\n",
       "    <tr>\n",
       "      <th>lasso</th>\n",
       "      <td>0.707 +/- 0.096</td>\n",
       "      <td>0.717 +/- 0.099</td>\n",
       "    </tr>\n",
       "    <tr>\n",
       "      <th>elasticnet</th>\n",
       "      <td>0.603 +/- 0.096</td>\n",
       "      <td>0.619 +/- 0.112</td>\n",
       "    </tr>\n",
       "    <tr>\n",
       "      <th>random_forest</th>\n",
       "      <td>0.609 +/- 0.110</td>\n",
       "      <td>0.639 +/- 0.099</td>\n",
       "    </tr>\n",
       "    <tr>\n",
       "      <th>deep_nn</th>\n",
       "      <td>0.638 +/- 0.130</td>\n",
       "      <td>0.648 +/- 0.125</td>\n",
       "    </tr>\n",
       "    <tr>\n",
       "      <th>svc</th>\n",
       "      <td>0.693 +/- 0.142</td>\n",
       "      <td>0.706 +/- 0.141</td>\n",
       "    </tr>\n",
       "  </tbody>\n",
       "</table>\n",
       "</div>"
      ],
      "text/plain": [
       "                            f1         accuracy\n",
       "logistic       0.658 +/- 0.127  0.667 +/- 0.121\n",
       "lasso          0.707 +/- 0.096  0.717 +/- 0.099\n",
       "elasticnet     0.603 +/- 0.096  0.619 +/- 0.112\n",
       "random_forest  0.609 +/- 0.110  0.639 +/- 0.099\n",
       "deep_nn        0.638 +/- 0.130  0.648 +/- 0.125\n",
       "svc            0.693 +/- 0.142  0.706 +/- 0.141"
      ]
     },
     "metadata": {},
     "output_type": "display_data"
    },
    {
     "data": {
      "text/html": [
       "<div>\n",
       "<style scoped>\n",
       "    .dataframe tbody tr th:only-of-type {\n",
       "        vertical-align: middle;\n",
       "    }\n",
       "\n",
       "    .dataframe tbody tr th {\n",
       "        vertical-align: top;\n",
       "    }\n",
       "\n",
       "    .dataframe thead th {\n",
       "        text-align: right;\n",
       "    }\n",
       "</style>\n",
       "<table border=\"1\" class=\"dataframe\">\n",
       "  <thead>\n",
       "    <tr style=\"text-align: right;\">\n",
       "      <th></th>\n",
       "      <th>f1</th>\n",
       "      <th>accuracy</th>\n",
       "    </tr>\n",
       "  </thead>\n",
       "  <tbody>\n",
       "    <tr>\n",
       "      <th>logistic</th>\n",
       "      <td>0.627 +/- 0.127</td>\n",
       "      <td>0.638 +/- 0.122</td>\n",
       "    </tr>\n",
       "    <tr>\n",
       "      <th>lasso</th>\n",
       "      <td>0.625 +/- 0.054</td>\n",
       "      <td>0.630 +/- 0.056</td>\n",
       "    </tr>\n",
       "    <tr>\n",
       "      <th>elasticnet</th>\n",
       "      <td>0.597 +/- 0.092</td>\n",
       "      <td>0.611 +/- 0.094</td>\n",
       "    </tr>\n",
       "    <tr>\n",
       "      <th>random_forest</th>\n",
       "      <td>0.606 +/- 0.083</td>\n",
       "      <td>0.620 +/- 0.081</td>\n",
       "    </tr>\n",
       "    <tr>\n",
       "      <th>deep_nn</th>\n",
       "      <td>0.599 +/- 0.118</td>\n",
       "      <td>0.620 +/- 0.109</td>\n",
       "    </tr>\n",
       "    <tr>\n",
       "      <th>svc</th>\n",
       "      <td>0.647 +/- 0.138</td>\n",
       "      <td>0.657 +/- 0.132</td>\n",
       "    </tr>\n",
       "  </tbody>\n",
       "</table>\n",
       "</div>"
      ],
      "text/plain": [
       "                            f1         accuracy\n",
       "logistic       0.627 +/- 0.127  0.638 +/- 0.122\n",
       "lasso          0.625 +/- 0.054  0.630 +/- 0.056\n",
       "elasticnet     0.597 +/- 0.092  0.611 +/- 0.094\n",
       "random_forest  0.606 +/- 0.083  0.620 +/- 0.081\n",
       "deep_nn        0.599 +/- 0.118  0.620 +/- 0.109\n",
       "svc            0.647 +/- 0.138  0.657 +/- 0.132"
      ]
     },
     "metadata": {},
     "output_type": "display_data"
    }
   ],
   "source": [
    "display(test_base_metrics_df['prot'], base_metrics_df['prot'])"
   ]
  },
  {
   "cell_type": "markdown",
   "metadata": {},
   "source": [
    "# Modality Ensemble"
   ]
  },
  {
   "cell_type": "code",
   "execution_count": 42,
   "metadata": {},
   "outputs": [],
   "source": [
    "from multi_omics_integration.classification_pipeline import Debugger\n",
    "\n",
    "class ModalityPipeline(BaseEstimator, TransformerMixin):\n",
    "    def __init__(self, estimator_list=None, feature_select=None, final_estimator=LogisticRegression(random_state=0, n_jobs=-1), cv=5, n_jobs=-1, stack_method='auto'):\n",
    "        # calculating scores\n",
    "        self.cv = cv\n",
    "        self.estimator_list = estimator_list\n",
    "        self.feature_select = feature_select\n",
    "        self.final_estimator = final_estimator\n",
    "        self.n_jobs=n_jobs\n",
    "        self.stack_method = stack_method\n",
    "        \n",
    "    def _get_model(self):\n",
    "        self.cv_ = StratifiedKFold(n_splits=self.cv, random_state=0, shuffle=True)\n",
    "        self.final_estimator_ = Pipeline([('imputer', SimpleImputer(strategy='median')), ('final', self.final_estimator)])\n",
    "        \n",
    "        stacking = StackingClassifier(estimators=self.estimator_list, final_estimator=self.final_estimator_, cv=self.cv_, stack_method=self.stack_method, n_jobs=self.n_jobs)\n",
    "        \n",
    "        if self.feature_select != None:\n",
    "            model = Pipeline([('feature_selection', self.feature_select), ('clf', stacking)])\n",
    "        else:\n",
    "            model = stacking\n",
    "        \n",
    "        return model\n",
    "    \n",
    "    def fit(self, X, y):\n",
    "        self.model_ = self._get_model()\n",
    "        self.model_.fit(X, y)\n",
    "\n",
    "        return self\n",
    "    \n",
    "    def predict(self, X):\n",
    "        return self.model_.predict(X)\n",
    "    \n",
    "    def predict_proba(self, X):\n",
    "        return self.model_.predict_proba(X)\n"
   ]
  },
  {
   "cell_type": "code",
   "execution_count": 43,
   "metadata": {},
   "outputs": [],
   "source": [
    "estimator_mapping = {\n",
    "    'cnv': ['logistic', 'lasso', 'random_forest'],\n",
    "    'mrna': ['logistic', 'lasso', 'random_forest', 'svc'],\n",
    "    'prot': ['logistic', 'lasso', 'svc'],\n",
    "}\n",
    "\n",
    "classifiers = {}\n",
    "\n",
    "for modality in datasets:\n",
    "    estimator_list = [(name, estimator) for (name, estimator) in estimators if any(x for x in estimator_mapping[modality] if x == name)]\n",
    "    classifiers[modality] = ModalityPipeline(estimator_list, cv=3)"
   ]
  },
  {
   "cell_type": "code",
   "execution_count": 44,
   "metadata": {},
   "outputs": [
    {
     "name": "stderr",
     "output_type": "stream",
     "text": [
      "  0%|          | 0/3 [00:00<?, ?it/s]"
     ]
    },
    {
     "name": "stderr",
     "output_type": "stream",
     "text": [
      "100%|██████████| 3/3 [05:13<00:00, 104.45s/it]\n"
     ]
    }
   ],
   "source": [
    "modality_metrics = pd.DataFrame()\n",
    "scores = {}\n",
    "\n",
    "for modality in tqdm(datasets):\n",
    "    scores[modality], df = get_cross_metrics(classifiers[modality], X[modality], y, modality)\n",
    "    modality_metrics = pd.concat([modality_metrics, df])"
   ]
  },
  {
   "cell_type": "markdown",
   "metadata": {},
   "source": [
    "With cv=3:"
   ]
  },
  {
   "cell_type": "code",
   "execution_count": 19,
   "metadata": {},
   "outputs": [
    {
     "data": {
      "text/html": [
       "<div>\n",
       "<style scoped>\n",
       "    .dataframe tbody tr th:only-of-type {\n",
       "        vertical-align: middle;\n",
       "    }\n",
       "\n",
       "    .dataframe tbody tr th {\n",
       "        vertical-align: top;\n",
       "    }\n",
       "\n",
       "    .dataframe thead th {\n",
       "        text-align: right;\n",
       "    }\n",
       "</style>\n",
       "<table border=\"1\" class=\"dataframe\">\n",
       "  <thead>\n",
       "    <tr style=\"text-align: right;\">\n",
       "      <th></th>\n",
       "      <th>f1</th>\n",
       "      <th>accuracy</th>\n",
       "    </tr>\n",
       "  </thead>\n",
       "  <tbody>\n",
       "    <tr>\n",
       "      <th>cnv</th>\n",
       "      <td>0.744 +/- 0.064</td>\n",
       "      <td>0.747 +/- 0.065</td>\n",
       "    </tr>\n",
       "    <tr>\n",
       "      <th>mrna</th>\n",
       "      <td>0.827 +/- 0.102</td>\n",
       "      <td>0.833 +/- 0.104</td>\n",
       "    </tr>\n",
       "    <tr>\n",
       "      <th>prot</th>\n",
       "      <td>0.622 +/- 0.101</td>\n",
       "      <td>0.639 +/- 0.099</td>\n",
       "    </tr>\n",
       "  </tbody>\n",
       "</table>\n",
       "</div>"
      ],
      "text/plain": [
       "                   f1         accuracy\n",
       "cnv   0.744 +/- 0.064  0.747 +/- 0.065\n",
       "mrna  0.827 +/- 0.102  0.833 +/- 0.104\n",
       "prot  0.622 +/- 0.101  0.639 +/- 0.099"
      ]
     },
     "execution_count": 19,
     "metadata": {},
     "output_type": "execute_result"
    }
   ],
   "source": [
    "modality_metrics"
   ]
  },
  {
   "cell_type": "markdown",
   "metadata": {},
   "source": [
    "We see that stacking has increased the performance of cnv and mrna, but not prot. Let's try and see if we can increase: "
   ]
  },
  {
   "cell_type": "markdown",
   "metadata": {},
   "source": [
    "## Testing Estimator Combinations"
   ]
  },
  {
   "cell_type": "code",
   "execution_count": 130,
   "metadata": {},
   "outputs": [],
   "source": [
    "def test_combos(names, X, y, estimators=estimators):\n",
    "    modality_metrics = pd.DataFrame()\n",
    "\n",
    "    combos=[]\n",
    "    for L in range(2, len(names)+1):\n",
    "        for subset in combinations(names, L):\n",
    "            combos.append(list(subset))\n",
    "\n",
    "    for combo in tqdm(combos):\n",
    "        estimator_list = [(name, estimator) for (name, estimator) in estimators if any(x for x in combo if x == name)]\n",
    "        scores[modality], df = get_cross_metrics(ModalityPipeline(estimator_list, cv=3), X, y, str(list(combo)))\n",
    "        modality_metrics = pd.concat([modality_metrics, df])\n",
    "        print(df)\n",
    "    \n",
    "    return modality_metrics"
   ]
  },
  {
   "cell_type": "code",
   "execution_count": 131,
   "metadata": {},
   "outputs": [
    {
     "name": "stderr",
     "output_type": "stream",
     "text": [
      "  9%|▉         | 1/11 [00:09<01:39,  9.94s/it]"
     ]
    },
    {
     "name": "stdout",
     "output_type": "stream",
     "text": [
      "                                    f1         accuracy\n",
      "['logistic', 'lasso']  0.632 +/- 0.095  0.649 +/- 0.092\n"
     ]
    },
    {
     "name": "stderr",
     "output_type": "stream",
     "text": [
      " 18%|█▊        | 2/11 [00:24<01:51, 12.40s/it]"
     ]
    },
    {
     "name": "stdout",
     "output_type": "stream",
     "text": [
      "                                            f1         accuracy\n",
      "['logistic', 'random_forest']  0.627 +/- 0.122  0.638 +/- 0.114\n"
     ]
    },
    {
     "name": "stderr",
     "output_type": "stream",
     "text": [
      " 27%|██▋       | 3/11 [00:45<02:10, 16.33s/it]"
     ]
    },
    {
     "name": "stdout",
     "output_type": "stream",
     "text": [
      "                                  f1         accuracy\n",
      "['logistic', 'svc']  0.639 +/- 0.110  0.648 +/- 0.103\n"
     ]
    },
    {
     "name": "stderr",
     "output_type": "stream",
     "text": [
      " 36%|███▋      | 4/11 [00:54<01:36, 13.76s/it]"
     ]
    },
    {
     "name": "stdout",
     "output_type": "stream",
     "text": [
      "                                         f1         accuracy\n",
      "['lasso', 'random_forest']  0.618 +/- 0.097  0.629 +/- 0.093\n"
     ]
    },
    {
     "name": "stderr",
     "output_type": "stream",
     "text": [
      " 45%|████▌     | 5/11 [01:10<01:25, 14.32s/it]"
     ]
    },
    {
     "name": "stdout",
     "output_type": "stream",
     "text": [
      "                               f1         accuracy\n",
      "['lasso', 'svc']  0.623 +/- 0.090  0.639 +/- 0.087\n"
     ]
    },
    {
     "name": "stderr",
     "output_type": "stream",
     "text": [
      " 55%|█████▍    | 6/11 [01:30<01:21, 16.35s/it]"
     ]
    },
    {
     "name": "stdout",
     "output_type": "stream",
     "text": [
      "                                       f1         accuracy\n",
      "['random_forest', 'svc']  0.608 +/- 0.142  0.657 +/- 0.139\n"
     ]
    },
    {
     "name": "stderr",
     "output_type": "stream",
     "text": [
      " 64%|██████▎   | 7/11 [01:54<01:15, 18.83s/it]"
     ]
    },
    {
     "name": "stdout",
     "output_type": "stream",
     "text": [
      "                                                     f1         accuracy\n",
      "['logistic', 'lasso', 'random_forest']  0.632 +/- 0.095  0.649 +/- 0.092\n"
     ]
    },
    {
     "name": "stderr",
     "output_type": "stream",
     "text": [
      " 73%|███████▎  | 8/11 [02:27<01:09, 23.30s/it]"
     ]
    },
    {
     "name": "stdout",
     "output_type": "stream",
     "text": [
      "                                           f1         accuracy\n",
      "['logistic', 'lasso', 'svc']  0.622 +/- 0.101  0.639 +/- 0.099\n"
     ]
    },
    {
     "name": "stderr",
     "output_type": "stream",
     "text": [
      " 82%|████████▏ | 9/11 [03:02<00:53, 26.89s/it]"
     ]
    },
    {
     "name": "stdout",
     "output_type": "stream",
     "text": [
      "                                                   f1         accuracy\n",
      "['logistic', 'random_forest', 'svc']  0.627 +/- 0.122  0.638 +/- 0.114\n"
     ]
    },
    {
     "name": "stderr",
     "output_type": "stream",
     "text": [
      " 91%|█████████ | 10/11 [03:28<00:26, 26.79s/it]"
     ]
    },
    {
     "name": "stdout",
     "output_type": "stream",
     "text": [
      "                                                f1         accuracy\n",
      "['lasso', 'random_forest', 'svc']  0.640 +/- 0.091  0.659 +/- 0.088\n"
     ]
    },
    {
     "name": "stderr",
     "output_type": "stream",
     "text": [
      "100%|██████████| 11/11 [04:04<00:00, 22.20s/it]"
     ]
    },
    {
     "name": "stdout",
     "output_type": "stream",
     "text": [
      "                                                            f1  \\\n",
      "['logistic', 'lasso', 'random_forest', 'svc']  0.622 +/- 0.101   \n",
      "\n",
      "                                                      accuracy  \n",
      "['logistic', 'lasso', 'random_forest', 'svc']  0.639 +/- 0.099  \n"
     ]
    },
    {
     "name": "stderr",
     "output_type": "stream",
     "text": [
      "\n"
     ]
    }
   ],
   "source": [
    "estimator_names = ['logistic', 'lasso', 'random_forest', 'svc']\n",
    "\n",
    "stacking_metrics = test_combos(estimator_names, X['prot'], y['prot'])"
   ]
  },
  {
   "cell_type": "code",
   "execution_count": 132,
   "metadata": {},
   "outputs": [
    {
     "data": {
      "text/html": [
       "<div>\n",
       "<style scoped>\n",
       "    .dataframe tbody tr th:only-of-type {\n",
       "        vertical-align: middle;\n",
       "    }\n",
       "\n",
       "    .dataframe tbody tr th {\n",
       "        vertical-align: top;\n",
       "    }\n",
       "\n",
       "    .dataframe thead th {\n",
       "        text-align: right;\n",
       "    }\n",
       "</style>\n",
       "<table border=\"1\" class=\"dataframe\">\n",
       "  <thead>\n",
       "    <tr style=\"text-align: right;\">\n",
       "      <th></th>\n",
       "      <th>f1</th>\n",
       "      <th>accuracy</th>\n",
       "    </tr>\n",
       "  </thead>\n",
       "  <tbody>\n",
       "    <tr>\n",
       "      <th>['logistic', 'lasso']</th>\n",
       "      <td>0.632 +/- 0.095</td>\n",
       "      <td>0.649 +/- 0.092</td>\n",
       "    </tr>\n",
       "    <tr>\n",
       "      <th>['logistic', 'random_forest']</th>\n",
       "      <td>0.627 +/- 0.122</td>\n",
       "      <td>0.638 +/- 0.114</td>\n",
       "    </tr>\n",
       "    <tr>\n",
       "      <th>['logistic', 'svc']</th>\n",
       "      <td>0.639 +/- 0.110</td>\n",
       "      <td>0.648 +/- 0.103</td>\n",
       "    </tr>\n",
       "    <tr>\n",
       "      <th>['lasso', 'random_forest']</th>\n",
       "      <td>0.618 +/- 0.097</td>\n",
       "      <td>0.629 +/- 0.093</td>\n",
       "    </tr>\n",
       "    <tr>\n",
       "      <th>['lasso', 'svc']</th>\n",
       "      <td>0.623 +/- 0.090</td>\n",
       "      <td>0.639 +/- 0.087</td>\n",
       "    </tr>\n",
       "    <tr>\n",
       "      <th>['random_forest', 'svc']</th>\n",
       "      <td>0.608 +/- 0.142</td>\n",
       "      <td>0.657 +/- 0.139</td>\n",
       "    </tr>\n",
       "    <tr>\n",
       "      <th>['logistic', 'lasso', 'random_forest']</th>\n",
       "      <td>0.632 +/- 0.095</td>\n",
       "      <td>0.649 +/- 0.092</td>\n",
       "    </tr>\n",
       "    <tr>\n",
       "      <th>['logistic', 'lasso', 'svc']</th>\n",
       "      <td>0.622 +/- 0.101</td>\n",
       "      <td>0.639 +/- 0.099</td>\n",
       "    </tr>\n",
       "    <tr>\n",
       "      <th>['logistic', 'random_forest', 'svc']</th>\n",
       "      <td>0.627 +/- 0.122</td>\n",
       "      <td>0.638 +/- 0.114</td>\n",
       "    </tr>\n",
       "    <tr>\n",
       "      <th>['lasso', 'random_forest', 'svc']</th>\n",
       "      <td>0.640 +/- 0.091</td>\n",
       "      <td>0.659 +/- 0.088</td>\n",
       "    </tr>\n",
       "    <tr>\n",
       "      <th>['logistic', 'lasso', 'random_forest', 'svc']</th>\n",
       "      <td>0.622 +/- 0.101</td>\n",
       "      <td>0.639 +/- 0.099</td>\n",
       "    </tr>\n",
       "  </tbody>\n",
       "</table>\n",
       "</div>"
      ],
      "text/plain": [
       "                                                            f1  \\\n",
       "['logistic', 'lasso']                          0.632 +/- 0.095   \n",
       "['logistic', 'random_forest']                  0.627 +/- 0.122   \n",
       "['logistic', 'svc']                            0.639 +/- 0.110   \n",
       "['lasso', 'random_forest']                     0.618 +/- 0.097   \n",
       "['lasso', 'svc']                               0.623 +/- 0.090   \n",
       "['random_forest', 'svc']                       0.608 +/- 0.142   \n",
       "['logistic', 'lasso', 'random_forest']         0.632 +/- 0.095   \n",
       "['logistic', 'lasso', 'svc']                   0.622 +/- 0.101   \n",
       "['logistic', 'random_forest', 'svc']           0.627 +/- 0.122   \n",
       "['lasso', 'random_forest', 'svc']              0.640 +/- 0.091   \n",
       "['logistic', 'lasso', 'random_forest', 'svc']  0.622 +/- 0.101   \n",
       "\n",
       "                                                      accuracy  \n",
       "['logistic', 'lasso']                          0.649 +/- 0.092  \n",
       "['logistic', 'random_forest']                  0.638 +/- 0.114  \n",
       "['logistic', 'svc']                            0.648 +/- 0.103  \n",
       "['lasso', 'random_forest']                     0.629 +/- 0.093  \n",
       "['lasso', 'svc']                               0.639 +/- 0.087  \n",
       "['random_forest', 'svc']                       0.657 +/- 0.139  \n",
       "['logistic', 'lasso', 'random_forest']         0.649 +/- 0.092  \n",
       "['logistic', 'lasso', 'svc']                   0.639 +/- 0.099  \n",
       "['logistic', 'random_forest', 'svc']           0.638 +/- 0.114  \n",
       "['lasso', 'random_forest', 'svc']              0.659 +/- 0.088  \n",
       "['logistic', 'lasso', 'random_forest', 'svc']  0.639 +/- 0.099  "
      ]
     },
     "execution_count": 132,
     "metadata": {},
     "output_type": "execute_result"
    }
   ],
   "source": [
    "stacking_metrics"
   ]
  },
  {
   "cell_type": "code",
   "execution_count": 21,
   "metadata": {},
   "outputs": [],
   "source": [
    "from sklearn.feature_selection import SelectPercentile\n",
    "estimator_list = [(name, estimator) for (name, estimator) in estimators if any(x for x in ['lasso', 'random_forest', 'svc'] if x == name)]\n",
    "classifiers['prot'] = ModalityPipeline(estimator_list, feature_select=SelectPercentile(percentile=50), cv=3)\n",
    "scores['prot'], df = get_cross_metrics(classifiers['prot'], X['prot'], y, 'prot')"
   ]
  },
  {
   "cell_type": "code",
   "execution_count": 22,
   "metadata": {},
   "outputs": [
    {
     "data": {
      "text/html": [
       "<div>\n",
       "<style scoped>\n",
       "    .dataframe tbody tr th:only-of-type {\n",
       "        vertical-align: middle;\n",
       "    }\n",
       "\n",
       "    .dataframe tbody tr th {\n",
       "        vertical-align: top;\n",
       "    }\n",
       "\n",
       "    .dataframe thead th {\n",
       "        text-align: right;\n",
       "    }\n",
       "</style>\n",
       "<table border=\"1\" class=\"dataframe\">\n",
       "  <thead>\n",
       "    <tr style=\"text-align: right;\">\n",
       "      <th></th>\n",
       "      <th>f1</th>\n",
       "      <th>accuracy</th>\n",
       "    </tr>\n",
       "  </thead>\n",
       "  <tbody>\n",
       "    <tr>\n",
       "      <th>prot</th>\n",
       "      <td>0.660 +/- 0.127</td>\n",
       "      <td>0.677 +/- 0.120</td>\n",
       "    </tr>\n",
       "  </tbody>\n",
       "</table>\n",
       "</div>"
      ],
      "text/plain": [
       "                   f1         accuracy\n",
       "prot  0.660 +/- 0.127  0.677 +/- 0.120"
      ]
     },
     "execution_count": 22,
     "metadata": {},
     "output_type": "execute_result"
    }
   ],
   "source": [
    "df"
   ]
  },
  {
   "cell_type": "markdown",
   "metadata": {},
   "source": [
    "### Getting metrics"
   ]
  },
  {
   "cell_type": "code",
   "execution_count": 186,
   "metadata": {},
   "outputs": [],
   "source": [
    "estimator_names = [\n",
    "    \"logistic\",\n",
    "    \"lasso\",\n",
    "    \"elasticnet\",\n",
    "    \"random_forest\",\n",
    "    \"deep_nn\",\n",
    "    \"svc\",\n",
    "    \"stacking\"\n",
    "]"
   ]
  },
  {
   "cell_type": "code",
   "execution_count": 187,
   "metadata": {},
   "outputs": [],
   "source": [
    "all_scores = base_scores\n",
    "all_scores['cnv'].append(scores['cnv'])\n",
    "all_scores['mrna'].append(scores['mrna'])\n",
    "all_scores['prot'].append(scores['prot'])"
   ]
  },
  {
   "cell_type": "code",
   "execution_count": 161,
   "metadata": {},
   "outputs": [],
   "source": [
    "cnv_metrics = pd.concat([base_metrics_df['cnv'], modality_metrics.loc[['cnv']]])"
   ]
  },
  {
   "cell_type": "code",
   "execution_count": 188,
   "metadata": {},
   "outputs": [],
   "source": [
    "all_metrics = {}\n",
    "\n",
    "for modality in datasets:\n",
    "    all_metrics[modality] = pd.concat([base_metrics_df[modality], modality_metrics.loc[[modality]]])\n",
    "    all_metrics[modality].rename_axis(index={modality: 'stacking'}, inplace=True)"
   ]
  },
  {
   "cell_type": "code",
   "execution_count": 189,
   "metadata": {},
   "outputs": [
    {
     "data": {
      "text/html": [
       "<div>\n",
       "<style scoped>\n",
       "    .dataframe tbody tr th:only-of-type {\n",
       "        vertical-align: middle;\n",
       "    }\n",
       "\n",
       "    .dataframe tbody tr th {\n",
       "        vertical-align: top;\n",
       "    }\n",
       "\n",
       "    .dataframe thead th {\n",
       "        text-align: right;\n",
       "    }\n",
       "</style>\n",
       "<table border=\"1\" class=\"dataframe\">\n",
       "  <thead>\n",
       "    <tr style=\"text-align: right;\">\n",
       "      <th></th>\n",
       "      <th>f1</th>\n",
       "      <th>accuracy</th>\n",
       "    </tr>\n",
       "  </thead>\n",
       "  <tbody>\n",
       "    <tr>\n",
       "      <th>logistic</th>\n",
       "      <td>0.635 +/- 0.078</td>\n",
       "      <td>0.650 +/- 0.069</td>\n",
       "    </tr>\n",
       "    <tr>\n",
       "      <th>lasso</th>\n",
       "      <td>0.695 +/- 0.125</td>\n",
       "      <td>0.699 +/- 0.116</td>\n",
       "    </tr>\n",
       "    <tr>\n",
       "      <th>elasticnet</th>\n",
       "      <td>0.598 +/- 0.051</td>\n",
       "      <td>0.601 +/- 0.054</td>\n",
       "    </tr>\n",
       "    <tr>\n",
       "      <th>random_forest</th>\n",
       "      <td>0.587 +/- 0.078</td>\n",
       "      <td>0.620 +/- 0.061</td>\n",
       "    </tr>\n",
       "    <tr>\n",
       "      <th>deep_nn</th>\n",
       "      <td>0.573 +/- 0.060</td>\n",
       "      <td>0.601 +/- 0.059</td>\n",
       "    </tr>\n",
       "    <tr>\n",
       "      <th>svc</th>\n",
       "      <td>0.575 +/- 0.055</td>\n",
       "      <td>0.592 +/- 0.051</td>\n",
       "    </tr>\n",
       "    <tr>\n",
       "      <th>cnv</th>\n",
       "      <td>0.744 +/- 0.064</td>\n",
       "      <td>0.747 +/- 0.065</td>\n",
       "    </tr>\n",
       "  </tbody>\n",
       "</table>\n",
       "</div>"
      ],
      "text/plain": [
       "                            f1         accuracy\n",
       "logistic       0.635 +/- 0.078  0.650 +/- 0.069\n",
       "lasso          0.695 +/- 0.125  0.699 +/- 0.116\n",
       "elasticnet     0.598 +/- 0.051  0.601 +/- 0.054\n",
       "random_forest  0.587 +/- 0.078  0.620 +/- 0.061\n",
       "deep_nn        0.573 +/- 0.060  0.601 +/- 0.059\n",
       "svc            0.575 +/- 0.055  0.592 +/- 0.051\n",
       "cnv            0.744 +/- 0.064  0.747 +/- 0.065"
      ]
     },
     "metadata": {},
     "output_type": "display_data"
    },
    {
     "data": {
      "text/html": [
       "<div>\n",
       "<style scoped>\n",
       "    .dataframe tbody tr th:only-of-type {\n",
       "        vertical-align: middle;\n",
       "    }\n",
       "\n",
       "    .dataframe tbody tr th {\n",
       "        vertical-align: top;\n",
       "    }\n",
       "\n",
       "    .dataframe thead th {\n",
       "        text-align: right;\n",
       "    }\n",
       "</style>\n",
       "<table border=\"1\" class=\"dataframe\">\n",
       "  <thead>\n",
       "    <tr style=\"text-align: right;\">\n",
       "      <th></th>\n",
       "      <th>f1</th>\n",
       "      <th>accuracy</th>\n",
       "    </tr>\n",
       "  </thead>\n",
       "  <tbody>\n",
       "    <tr>\n",
       "      <th>logistic</th>\n",
       "      <td>0.801 +/- 0.116</td>\n",
       "      <td>0.804 +/- 0.119</td>\n",
       "    </tr>\n",
       "    <tr>\n",
       "      <th>lasso</th>\n",
       "      <td>0.780 +/- 0.089</td>\n",
       "      <td>0.786 +/- 0.091</td>\n",
       "    </tr>\n",
       "    <tr>\n",
       "      <th>elasticnet</th>\n",
       "      <td>0.715 +/- 0.078</td>\n",
       "      <td>0.727 +/- 0.088</td>\n",
       "    </tr>\n",
       "    <tr>\n",
       "      <th>random_forest</th>\n",
       "      <td>0.820 +/- 0.065</td>\n",
       "      <td>0.825 +/- 0.069</td>\n",
       "    </tr>\n",
       "    <tr>\n",
       "      <th>deep_nn</th>\n",
       "      <td>0.775 +/- 0.167</td>\n",
       "      <td>0.803 +/- 0.132</td>\n",
       "    </tr>\n",
       "    <tr>\n",
       "      <th>svc</th>\n",
       "      <td>0.800 +/- 0.089</td>\n",
       "      <td>0.805 +/- 0.090</td>\n",
       "    </tr>\n",
       "    <tr>\n",
       "      <th>mrna</th>\n",
       "      <td>0.827 +/- 0.102</td>\n",
       "      <td>0.833 +/- 0.104</td>\n",
       "    </tr>\n",
       "  </tbody>\n",
       "</table>\n",
       "</div>"
      ],
      "text/plain": [
       "                            f1         accuracy\n",
       "logistic       0.801 +/- 0.116  0.804 +/- 0.119\n",
       "lasso          0.780 +/- 0.089  0.786 +/- 0.091\n",
       "elasticnet     0.715 +/- 0.078  0.727 +/- 0.088\n",
       "random_forest  0.820 +/- 0.065  0.825 +/- 0.069\n",
       "deep_nn        0.775 +/- 0.167  0.803 +/- 0.132\n",
       "svc            0.800 +/- 0.089  0.805 +/- 0.090\n",
       "mrna           0.827 +/- 0.102  0.833 +/- 0.104"
      ]
     },
     "metadata": {},
     "output_type": "display_data"
    },
    {
     "data": {
      "text/html": [
       "<div>\n",
       "<style scoped>\n",
       "    .dataframe tbody tr th:only-of-type {\n",
       "        vertical-align: middle;\n",
       "    }\n",
       "\n",
       "    .dataframe tbody tr th {\n",
       "        vertical-align: top;\n",
       "    }\n",
       "\n",
       "    .dataframe thead th {\n",
       "        text-align: right;\n",
       "    }\n",
       "</style>\n",
       "<table border=\"1\" class=\"dataframe\">\n",
       "  <thead>\n",
       "    <tr style=\"text-align: right;\">\n",
       "      <th></th>\n",
       "      <th>f1</th>\n",
       "      <th>accuracy</th>\n",
       "    </tr>\n",
       "  </thead>\n",
       "  <tbody>\n",
       "    <tr>\n",
       "      <th>logistic</th>\n",
       "      <td>0.627 +/- 0.127</td>\n",
       "      <td>0.638 +/- 0.122</td>\n",
       "    </tr>\n",
       "    <tr>\n",
       "      <th>lasso</th>\n",
       "      <td>0.625 +/- 0.054</td>\n",
       "      <td>0.630 +/- 0.056</td>\n",
       "    </tr>\n",
       "    <tr>\n",
       "      <th>elasticnet</th>\n",
       "      <td>0.617 +/- 0.103</td>\n",
       "      <td>0.639 +/- 0.096</td>\n",
       "    </tr>\n",
       "    <tr>\n",
       "      <th>random_forest</th>\n",
       "      <td>0.606 +/- 0.083</td>\n",
       "      <td>0.620 +/- 0.081</td>\n",
       "    </tr>\n",
       "    <tr>\n",
       "      <th>deep_nn</th>\n",
       "      <td>0.530 +/- 0.127</td>\n",
       "      <td>0.561 +/- 0.110</td>\n",
       "    </tr>\n",
       "    <tr>\n",
       "      <th>svc</th>\n",
       "      <td>0.647 +/- 0.138</td>\n",
       "      <td>0.657 +/- 0.132</td>\n",
       "    </tr>\n",
       "    <tr>\n",
       "      <th>prot</th>\n",
       "      <td>0.622 +/- 0.101</td>\n",
       "      <td>0.639 +/- 0.099</td>\n",
       "    </tr>\n",
       "  </tbody>\n",
       "</table>\n",
       "</div>"
      ],
      "text/plain": [
       "                            f1         accuracy\n",
       "logistic       0.627 +/- 0.127  0.638 +/- 0.122\n",
       "lasso          0.625 +/- 0.054  0.630 +/- 0.056\n",
       "elasticnet     0.617 +/- 0.103  0.639 +/- 0.096\n",
       "random_forest  0.606 +/- 0.083  0.620 +/- 0.081\n",
       "deep_nn        0.530 +/- 0.127  0.561 +/- 0.110\n",
       "svc            0.647 +/- 0.138  0.657 +/- 0.132\n",
       "prot           0.622 +/- 0.101  0.639 +/- 0.099"
      ]
     },
     "metadata": {},
     "output_type": "display_data"
    }
   ],
   "source": [
    "display(all_metrics['cnv'], all_metrics['mrna'], all_metrics['prot'])"
   ]
  },
  {
   "cell_type": "markdown",
   "metadata": {},
   "source": [
    "## Plotting"
   ]
  },
  {
   "cell_type": "code",
   "execution_count": 191,
   "metadata": {},
   "outputs": [
    {
     "data": {
      "image/png": "[encoded data removed]",
      "text/plain": [
       "<Figure size 640x480 with 1 Axes>"
      ]
     },
     "metadata": {},
     "output_type": "display_data"
    },
    {
     "data": {
      "image/png": "[encoded data removed]",
      "text/plain": [
       "<Figure size 640x480 with 1 Axes>"
      ]
     },
     "metadata": {},
     "output_type": "display_data"
    }
   ],
   "source": [
    "plot_scores(estimator_names, base_scores['cnv'])"
   ]
  },
  {
   "cell_type": "code",
   "execution_count": 192,
   "metadata": {},
   "outputs": [
    {
     "data": {
      "image/png": "[encoded data removed]",
      "text/plain": [
       "<Figure size 640x480 with 1 Axes>"
      ]
     },
     "metadata": {},
     "output_type": "display_data"
    },
    {
     "data": {
      "image/png": "[encoded data removed]",
      "text/plain": [
       "<Figure size 640x480 with 1 Axes>"
      ]
     },
     "metadata": {},
     "output_type": "display_data"
    }
   ],
   "source": [
    "plot_scores(estimator_names, base_scores['mrna'])"
   ]
  },
  {
   "cell_type": "code",
   "execution_count": 193,
   "metadata": {},
   "outputs": [
    {
     "data": {
      "image/png": "[encoded data removed]",
      "text/plain": [
       "<Figure size 640x480 with 1 Axes>"
      ]
     },
     "metadata": {},
     "output_type": "display_data"
    },
    {
     "data": {
      "image/png": "[encoded data removed]",
      "text/plain": [
       "<Figure size 640x480 with 1 Axes>"
      ]
     },
     "metadata": {},
     "output_type": "display_data"
    }
   ],
   "source": [
    "plot_scores(estimator_names, base_scores['prot'])"
   ]
  },
  {
   "cell_type": "code",
   "execution_count": 171,
   "metadata": {},
   "outputs": [
    {
     "name": "stderr",
     "output_type": "stream",
     "text": [
      "/Users/signehoel/comp401/sklearn-venv/lib/python3.8/site-packages/sklearn/utils/validation.py:1141: DataConversionWarning: A column-vector y was passed when a 1d array was expected. Please change the shape of y to (n_samples, ), for example using ravel().\n",
      "  y = column_or_1d(y, warn=True)\n",
      "/Users/signehoel/comp401/sklearn-venv/lib/python3.8/site-packages/sklearn/preprocessing/_label.py:99: DataConversionWarning: A column-vector y was passed when a 1d array was expected. Please change the shape of y to (n_samples, ), for example using ravel().\n",
      "  y = column_or_1d(y, warn=True)\n",
      "/Users/signehoel/comp401/sklearn-venv/lib/python3.8/site-packages/sklearn/preprocessing/_label.py:134: DataConversionWarning: A column-vector y was passed when a 1d array was expected. Please change the shape of y to (n_samples, ), for example using ravel().\n",
      "  y = column_or_1d(y, dtype=self.classes_.dtype, warn=True)\n",
      "/Users/signehoel/comp401/sklearn-venv/lib/python3.8/site-packages/sklearn/utils/validation.py:1141: DataConversionWarning: A column-vector y was passed when a 1d array was expected. Please change the shape of y to (n_samples, ), for example using ravel().\n",
      "  y = column_or_1d(y, warn=True)\n",
      "/Users/signehoel/comp401/sklearn-venv/lib/python3.8/site-packages/sklearn/preprocessing/_label.py:99: DataConversionWarning: A column-vector y was passed when a 1d array was expected. Please change the shape of y to (n_samples, ), for example using ravel().\n",
      "  y = column_or_1d(y, warn=True)\n",
      "/Users/signehoel/comp401/sklearn-venv/lib/python3.8/site-packages/sklearn/preprocessing/_label.py:134: DataConversionWarning: A column-vector y was passed when a 1d array was expected. Please change the shape of y to (n_samples, ), for example using ravel().\n",
      "  y = column_or_1d(y, dtype=self.classes_.dtype, warn=True)\n",
      "/Users/signehoel/comp401/sklearn-venv/lib/python3.8/site-packages/sklearn/utils/validation.py:1141: DataConversionWarning: A column-vector y was passed when a 1d array was expected. Please change the shape of y to (n_samples, ), for example using ravel().\n",
      "  y = column_or_1d(y, warn=True)\n",
      "/Users/signehoel/comp401/sklearn-venv/lib/python3.8/site-packages/sklearn/preprocessing/_label.py:99: DataConversionWarning: A column-vector y was passed when a 1d array was expected. Please change the shape of y to (n_samples, ), for example using ravel().\n",
      "  y = column_or_1d(y, warn=True)\n",
      "/Users/signehoel/comp401/sklearn-venv/lib/python3.8/site-packages/sklearn/preprocessing/_label.py:134: DataConversionWarning: A column-vector y was passed when a 1d array was expected. Please change the shape of y to (n_samples, ), for example using ravel().\n",
      "  y = column_or_1d(y, dtype=self.classes_.dtype, warn=True)\n",
      "/Users/signehoel/comp401/sklearn-venv/lib/python3.8/site-packages/sklearn/utils/validation.py:1141: DataConversionWarning: A column-vector y was passed when a 1d array was expected. Please change the shape of y to (n_samples, ), for example using ravel().\n",
      "  y = column_or_1d(y, warn=True)\n",
      "/Users/signehoel/comp401/sklearn-venv/lib/python3.8/site-packages/sklearn/preprocessing/_label.py:99: DataConversionWarning: A column-vector y was passed when a 1d array was expected. Please change the shape of y to (n_samples, ), for example using ravel().\n",
      "  y = column_or_1d(y, warn=True)\n",
      "/Users/signehoel/comp401/sklearn-venv/lib/python3.8/site-packages/sklearn/preprocessing/_label.py:134: DataConversionWarning: A column-vector y was passed when a 1d array was expected. Please change the shape of y to (n_samples, ), for example using ravel().\n",
      "  y = column_or_1d(y, dtype=self.classes_.dtype, warn=True)\n",
      "/Users/signehoel/comp401/sklearn-venv/lib/python3.8/site-packages/sklearn/utils/validation.py:1141: DataConversionWarning: A column-vector y was passed when a 1d array was expected. Please change the shape of y to (n_samples, ), for example using ravel().\n",
      "  y = column_or_1d(y, warn=True)\n",
      "/Users/signehoel/comp401/sklearn-venv/lib/python3.8/site-packages/sklearn/preprocessing/_label.py:99: DataConversionWarning: A column-vector y was passed when a 1d array was expected. Please change the shape of y to (n_samples, ), for example using ravel().\n",
      "  y = column_or_1d(y, warn=True)\n",
      "/Users/signehoel/comp401/sklearn-venv/lib/python3.8/site-packages/sklearn/preprocessing/_label.py:134: DataConversionWarning: A column-vector y was passed when a 1d array was expected. Please change the shape of y to (n_samples, ), for example using ravel().\n",
      "  y = column_or_1d(y, dtype=self.classes_.dtype, warn=True)\n"
     ]
    }
   ],
   "source": [
    "y_preds = classifiers['prot'].cross_val_predict(X['prot'], y['prot'], method='predict', cv=5)"
   ]
  },
  {
   "cell_type": "code",
   "execution_count": 187,
   "metadata": {},
   "outputs": [
    {
     "name": "stdout",
     "output_type": "stream",
     "text": [
      "24 18 29 32\n"
     ]
    }
   ],
   "source": [
    "print(y['prot'].loc[y['prot']['PAM50_prot'] == 0].shape[0], y['prot'].loc[y['prot']['PAM50_prot'] == 1].shape[0], y['prot'].loc[y['prot']['PAM50_prot'] == 2].shape[0], y['prot'].loc[y['prot']['PAM50_prot'] == 3].shape[0])\n"
   ]
  },
  {
   "cell_type": "code",
   "execution_count": 174,
   "metadata": {},
   "outputs": [
    {
     "data": {
      "image/png": "[encoded data removed]",
      "text/plain": [
       "<Figure size 640x480 with 2 Axes>"
      ]
     },
     "metadata": {},
     "output_type": "display_data"
    }
   ],
   "source": [
    "from sklearn.metrics import confusion_matrix\n",
    "\n",
    "cm = confusion_matrix(y['prot'], y_preds)\n",
    "# Create a heatmap of the confusion matrix\n",
    "sns.heatmap(cm, annot=True, fmt=\"d\", cmap=\"Blues\")\n",
    "\n",
    "# Add labels, title, and axis ticks\n",
    "plt.xlabel(\"Predicted\")\n",
    "plt.ylabel(\"True\")\n",
    "plt.title(\"Confusion Matrix\")\n",
    "plt.show()"
   ]
  },
  {
   "attachments": {},
   "cell_type": "markdown",
   "metadata": {},
   "source": [
    "# Meta-Ensemble"
   ]
  },
  {
   "cell_type": "code",
   "execution_count": 58,
   "metadata": {},
   "outputs": [],
   "source": [
    "class Debugger(BaseEstimator, TransformerMixin):\n",
    "    def transform(self, data):\n",
    "        # Here you just print what you need + return the actual data. You're not transforming anything.\n",
    "\n",
    "        print(\"Shape of Data:\", data.shape)\n",
    "        #print(pd.DataFrame(data).head())\n",
    "        return data\n",
    "\n",
    "    def fit(self, data, y=None, **fit_params):\n",
    "        # No need to fit anything, because this is not an actual  transformation.\n",
    "\n",
    "        return self"
   ]
  },
  {
   "cell_type": "code",
   "execution_count": 29,
   "metadata": {},
   "outputs": [],
   "source": [
    "from mlxtend.feature_selection import ColumnSelector\n",
    "\n",
    "class MultiOmicsIntegrationClassifier(BaseEstimator, TransformerMixin):\n",
    "    def __init__(self, estimator_list=None, feature_select=None, l1_final_estimator=LogisticRegression(random_state=0, n_jobs=-1), l2_final_estimator=LogisticRegression(random_state=0, n_jobs=-1), l1_stack_method='auto', l2_stack_method='auto', cv=5, n_jobs=-1):\n",
    "        # calculating scores\n",
    "        self.estimator_list = estimator_list\n",
    "        self.feature_select = feature_select\n",
    "        self.l1_final_estimator = l1_final_estimator\n",
    "        self.l2_final_estimator = l2_final_estimator\n",
    "        self.l1_stack_method = l1_stack_method\n",
    "        self.l2_stack_method = l2_stack_method\n",
    "        self.cv = cv\n",
    "        self.n_jobs = n_jobs\n",
    "        \n",
    "    def _get_pipeline(self):\n",
    "        self.classifiers_ = []\n",
    "        self.cv_ = StratifiedKFold(n_splits=self.cv, random_state=0, shuffle=True)\n",
    "        self.l1_final_estimator_ = Pipeline([('imputer', SimpleImputer(strategy='median')), ('l1', self.l1_final_estimator)])\n",
    "        \n",
    "        for dataset, columns in self.column_names_.items():\n",
    "            stacking = Pipeline([('column_selector', ColumnSelector(cols=columns)), ('stacking', StackingClassifier(estimators=self.estimator_list[dataset], final_estimator=self.l1_final_estimator_, cv=self.cv_, stack_method=self.l1_stack_method, n_jobs=self.n_jobs))])\n",
    "            self.classifiers_.append((dataset, stacking))\n",
    "        \n",
    "        self.l2_final_estimator_ = Pipeline([('imputer', SimpleImputer(strategy='median')), ('l2', self.l2_final_estimator)])\n",
    "        stacking = StackingClassifier(estimators=self.classifiers_, final_estimator=self.l2_final_estimator_, cv=self.cv_, stack_method=self.l2_stack_method, n_jobs=self.n_jobs)\n",
    "        \n",
    "        return stacking\n",
    "    \n",
    "    def fit(self, X, y, column_names=None, **fit_params):\n",
    "        \n",
    "        self.column_names_ = column_names\n",
    "\n",
    "        self.pipeline_ = self._get_pipeline()\n",
    "        self.pipeline_.fit(X, y)\n",
    "\n",
    "        return self\n",
    "    \n",
    "    def predict(self, X):\n",
    "        return self.pipeline_.predict(X)\n",
    "    \n",
    "    def predict_proba(self, X):\n",
    "        return self.pipeline_.predict_proba(X)"
   ]
  },
  {
   "cell_type": "code",
   "execution_count": 40,
   "metadata": {},
   "outputs": [],
   "source": [
    "from mlxtend.feature_selection import ColumnSelector\n",
    "\n",
    "class MultiOmicsIntegrationClassifier(BaseEstimator, TransformerMixin):\n",
    "    def __init__(self, estimator_dict=None, feature_select=None, final_estimator=LogisticRegression(random_state=0, n_jobs=-1), stack_method='auto', cv=5, n_jobs=-1):\n",
    "        # calculating scores\n",
    "        self.estimator_dict = estimator_dict\n",
    "        self.feature_select = feature_select\n",
    "        self.final_estimator = final_estimator\n",
    "        self.stack_method = stack_method\n",
    "        self.cv = cv\n",
    "        self.n_jobs = n_jobs\n",
    "        \n",
    "    def _get_pipeline(self):\n",
    "        self.classifiers_ = []\n",
    "        self.cv_ = StratifiedKFold(n_splits=self.cv, random_state=0, shuffle=True)\n",
    "        \n",
    "        for dataset, columns in self.column_names_.items():\n",
    "            stacking = Pipeline([('column_selector', ColumnSelector(cols=columns)), ('modality_clf', self.estimator_dict[dataset])])\n",
    "            self.classifiers_.append((dataset, stacking))\n",
    "        \n",
    "        self.final_estimator_ = Pipeline([('imputer', SimpleImputer(strategy='median')), ('final_estimator', self.final_estimator)])\n",
    "        stacking = StackingClassifier(estimators=self.classifiers_, final_estimator=self.final_estimator_, cv=self.cv_, stack_method=self.stack_method, n_jobs=self.n_jobs)\n",
    "        \n",
    "        return stacking\n",
    "    \n",
    "    def fit(self, X, y, column_names=None, **fit_params):\n",
    "        \n",
    "        self.column_names_ = column_names\n",
    "\n",
    "        self.pipeline_ = self._get_pipeline()\n",
    "        self.pipeline_.fit(X, y)\n",
    "\n",
    "        return self\n",
    "    \n",
    "    def predict(self, X):\n",
    "        return self.pipeline_.predict(X)\n",
    "    \n",
    "    def predict_proba(self, X):\n",
    "        return self.pipeline_.predict_proba(X)"
   ]
  },
  {
   "cell_type": "code",
   "execution_count": 41,
   "metadata": {},
   "outputs": [],
   "source": [
    "estimator_mapping = {\n",
    "    'cnv': ['logistic', 'lasso', 'random_forest'],\n",
    "    'mrna': ['logistic', 'lasso', 'random_forest', 'svc'],\n",
    "    'prot': ['logistic', 'random_forest', 'svc'],\n",
    "}\n",
    "estimator_list = {}\n",
    "\n",
    "for modality in datasets:\n",
    "    estimator_list[modality] = [(name, estimator) for (name, estimator) in estimators if any(x for x in estimator_mapping[modality] if x == name)]"
   ]
  },
  {
   "cell_type": "code",
   "execution_count": null,
   "metadata": {},
   "outputs": [],
   "source": [
    "estimator_dict = {}\n",
    "\n",
    "estimator_dict['cnv'] = ModalityPipeline(estimator_list['cnv'], )"
   ]
  },
  {
   "cell_type": "code",
   "execution_count": 6,
   "metadata": {},
   "outputs": [],
   "source": [
    "estimator_mapping = {\n",
    "    'cnv': ['logistic', 'lasso', 'random_forest'],\n",
    "    'mrna': ['logistic', 'lasso', 'random_forest', 'svc'],\n",
    "    'prot': ['logistic', 'random_forest', 'svc'],\n",
    "}\n",
    "estimator_list = {}\n",
    "\n",
    "for modality in datasets:\n",
    "    estimator_list[modality] = [(name, estimator) for (name, estimator) in estimators if any(x for x in estimator_mapping[modality] if x == name)]"
   ]
  },
  {
   "cell_type": "code",
   "execution_count": 7,
   "metadata": {},
   "outputs": [],
   "source": [
    "column_names = {}\n",
    "\n",
    "for key in X.keys():\n",
    "    column_names[key] = X[key].columns"
   ]
  },
  {
   "cell_type": "code",
   "execution_count": 8,
   "metadata": {},
   "outputs": [],
   "source": [
    "meta_ensemble = MultiOmicsIntegrationClassifier(estimator_list, cv=3)"
   ]
  },
  {
   "cell_type": "code",
   "execution_count": 81,
   "metadata": {},
   "outputs": [
    {
     "name": "stderr",
     "output_type": "stream",
     "text": [
      "/Users/signehoel/comp401/sklearn-venv/lib/python3.8/site-packages/sklearn/linear_model/_sag.py:350: ConvergenceWarning: The max_iter was reached which means the coef_ did not converge\n",
      "  warnings.warn(\n",
      "/Users/signehoel/comp401/sklearn-venv/lib/python3.8/site-packages/sklearn/linear_model/_sag.py:350: ConvergenceWarning: The max_iter was reached which means the coef_ did not converge\n",
      "  warnings.warn(\n",
      "/Users/signehoel/comp401/sklearn-venv/lib/python3.8/site-packages/sklearn/linear_model/_sag.py:350: ConvergenceWarning: The max_iter was reached which means the coef_ did not converge\n",
      "  warnings.warn(\n",
      "/Users/signehoel/comp401/sklearn-venv/lib/python3.8/site-packages/sklearn/linear_model/_sag.py:350: ConvergenceWarning: The max_iter was reached which means the coef_ did not converge\n",
      "  warnings.warn(\n",
      "/Users/signehoel/comp401/sklearn-venv/lib/python3.8/site-packages/sklearn/linear_model/_sag.py:350: ConvergenceWarning: The max_iter was reached which means the coef_ did not converge\n",
      "  warnings.warn(\n",
      "/Users/signehoel/comp401/sklearn-venv/lib/python3.8/site-packages/sklearn/linear_model/_sag.py:350: ConvergenceWarning: The max_iter was reached which means the coef_ did not converge\n",
      "  warnings.warn(\n",
      "/Users/signehoel/comp401/sklearn-venv/lib/python3.8/site-packages/sklearn/linear_model/_sag.py:350: ConvergenceWarning: The max_iter was reached which means the coef_ did not converge\n",
      "  warnings.warn(\n",
      "/Users/signehoel/comp401/sklearn-venv/lib/python3.8/site-packages/sklearn/linear_model/_sag.py:350: ConvergenceWarning: The max_iter was reached which means the coef_ did not converge\n",
      "  warnings.warn(\n",
      "/Users/signehoel/comp401/sklearn-venv/lib/python3.8/site-packages/sklearn/linear_model/_sag.py:350: ConvergenceWarning: The max_iter was reached which means the coef_ did not converge\n",
      "  warnings.warn(\n",
      "/Users/signehoel/comp401/sklearn-venv/lib/python3.8/site-packages/sklearn/linear_model/_sag.py:350: ConvergenceWarning: The max_iter was reached which means the coef_ did not converge\n",
      "  warnings.warn(\n",
      "/Users/signehoel/comp401/sklearn-venv/lib/python3.8/site-packages/sklearn/linear_model/_sag.py:350: ConvergenceWarning: The max_iter was reached which means the coef_ did not converge\n",
      "  warnings.warn(\n",
      "/Users/signehoel/comp401/sklearn-venv/lib/python3.8/site-packages/sklearn/linear_model/_sag.py:350: ConvergenceWarning: The max_iter was reached which means the coef_ did not converge\n",
      "  warnings.warn(\n",
      "/Users/signehoel/comp401/sklearn-venv/lib/python3.8/site-packages/sklearn/linear_model/_sag.py:350: ConvergenceWarning: The max_iter was reached which means the coef_ did not converge\n",
      "  warnings.warn(\n",
      "/Users/signehoel/comp401/sklearn-venv/lib/python3.8/site-packages/sklearn/linear_model/_sag.py:350: ConvergenceWarning: The max_iter was reached which means the coef_ did not converge\n",
      "  warnings.warn(\n",
      "/Users/signehoel/comp401/sklearn-venv/lib/python3.8/site-packages/sklearn/linear_model/_sag.py:350: ConvergenceWarning: The max_iter was reached which means the coef_ did not converge\n",
      "  warnings.warn(\n",
      "/Users/signehoel/comp401/sklearn-venv/lib/python3.8/site-packages/sklearn/linear_model/_sag.py:350: ConvergenceWarning: The max_iter was reached which means the coef_ did not converge\n",
      "  warnings.warn(\n",
      "/Users/signehoel/comp401/sklearn-venv/lib/python3.8/site-packages/sklearn/linear_model/_sag.py:350: ConvergenceWarning: The max_iter was reached which means the coef_ did not converge\n",
      "  warnings.warn(\n",
      "/Users/signehoel/comp401/sklearn-venv/lib/python3.8/site-packages/sklearn/linear_model/_sag.py:350: ConvergenceWarning: The max_iter was reached which means the coef_ did not converge\n",
      "  warnings.warn(\n",
      "/Users/signehoel/comp401/sklearn-venv/lib/python3.8/site-packages/sklearn/linear_model/_sag.py:350: ConvergenceWarning: The max_iter was reached which means the coef_ did not converge\n",
      "  warnings.warn(\n",
      "/Users/signehoel/comp401/sklearn-venv/lib/python3.8/site-packages/sklearn/linear_model/_sag.py:350: ConvergenceWarning: The max_iter was reached which means the coef_ did not converge\n",
      "  warnings.warn(\n",
      "/Users/signehoel/comp401/sklearn-venv/lib/python3.8/site-packages/sklearn/linear_model/_sag.py:350: ConvergenceWarning: The max_iter was reached which means the coef_ did not converge\n",
      "  warnings.warn(\n",
      "/Users/signehoel/comp401/sklearn-venv/lib/python3.8/site-packages/sklearn/linear_model/_sag.py:350: ConvergenceWarning: The max_iter was reached which means the coef_ did not converge\n",
      "  warnings.warn(\n",
      "/Users/signehoel/comp401/sklearn-venv/lib/python3.8/site-packages/sklearn/linear_model/_sag.py:350: ConvergenceWarning: The max_iter was reached which means the coef_ did not converge\n",
      "  warnings.warn(\n",
      "/Users/signehoel/comp401/sklearn-venv/lib/python3.8/site-packages/sklearn/linear_model/_sag.py:350: ConvergenceWarning: The max_iter was reached which means the coef_ did not converge\n",
      "  warnings.warn(\n",
      "/Users/signehoel/comp401/sklearn-venv/lib/python3.8/site-packages/sklearn/linear_model/_sag.py:350: ConvergenceWarning: The max_iter was reached which means the coef_ did not converge\n",
      "  warnings.warn(\n",
      "/Users/signehoel/comp401/sklearn-venv/lib/python3.8/site-packages/sklearn/linear_model/_sag.py:350: ConvergenceWarning: The max_iter was reached which means the coef_ did not converge\n",
      "  warnings.warn(\n",
      "/Users/signehoel/comp401/sklearn-venv/lib/python3.8/site-packages/sklearn/linear_model/_sag.py:350: ConvergenceWarning: The max_iter was reached which means the coef_ did not converge\n",
      "  warnings.warn(\n",
      "/Users/signehoel/comp401/sklearn-venv/lib/python3.8/site-packages/sklearn/linear_model/_sag.py:350: ConvergenceWarning: The max_iter was reached which means the coef_ did not converge\n",
      "  warnings.warn(\n",
      "/Users/signehoel/comp401/sklearn-venv/lib/python3.8/site-packages/sklearn/linear_model/_sag.py:350: ConvergenceWarning: The max_iter was reached which means the coef_ did not converge\n",
      "  warnings.warn(\n",
      "/Users/signehoel/comp401/sklearn-venv/lib/python3.8/site-packages/sklearn/linear_model/_sag.py:350: ConvergenceWarning: The max_iter was reached which means the coef_ did not converge\n",
      "  warnings.warn(\n",
      "/Users/signehoel/comp401/sklearn-venv/lib/python3.8/site-packages/sklearn/linear_model/_sag.py:350: ConvergenceWarning: The max_iter was reached which means the coef_ did not converge\n",
      "  warnings.warn(\n",
      "/Users/signehoel/comp401/sklearn-venv/lib/python3.8/site-packages/sklearn/linear_model/_sag.py:350: ConvergenceWarning: The max_iter was reached which means the coef_ did not converge\n",
      "  warnings.warn(\n",
      "/Users/signehoel/comp401/sklearn-venv/lib/python3.8/site-packages/sklearn/linear_model/_sag.py:350: ConvergenceWarning: The max_iter was reached which means the coef_ did not converge\n",
      "  warnings.warn(\n",
      "/Users/signehoel/comp401/sklearn-venv/lib/python3.8/site-packages/sklearn/linear_model/_sag.py:350: ConvergenceWarning: The max_iter was reached which means the coef_ did not converge\n",
      "  warnings.warn(\n",
      "/Users/signehoel/comp401/sklearn-venv/lib/python3.8/site-packages/sklearn/linear_model/_sag.py:350: ConvergenceWarning: The max_iter was reached which means the coef_ did not converge\n",
      "  warnings.warn(\n",
      "/Users/signehoel/comp401/sklearn-venv/lib/python3.8/site-packages/sklearn/linear_model/_sag.py:350: ConvergenceWarning: The max_iter was reached which means the coef_ did not converge\n",
      "  warnings.warn(\n",
      "/Users/signehoel/comp401/sklearn-venv/lib/python3.8/site-packages/sklearn/linear_model/_sag.py:350: ConvergenceWarning: The max_iter was reached which means the coef_ did not converge\n",
      "  warnings.warn(\n",
      "/Users/signehoel/comp401/sklearn-venv/lib/python3.8/site-packages/sklearn/linear_model/_sag.py:350: ConvergenceWarning: The max_iter was reached which means the coef_ did not converge\n",
      "  warnings.warn(\n",
      "/Users/signehoel/comp401/sklearn-venv/lib/python3.8/site-packages/sklearn/linear_model/_sag.py:350: ConvergenceWarning: The max_iter was reached which means the coef_ did not converge\n",
      "  warnings.warn(\n",
      "/Users/signehoel/comp401/sklearn-venv/lib/python3.8/site-packages/sklearn/linear_model/_sag.py:350: ConvergenceWarning: The max_iter was reached which means the coef_ did not converge\n",
      "  warnings.warn(\n",
      "/Users/signehoel/comp401/sklearn-venv/lib/python3.8/site-packages/sklearn/linear_model/_sag.py:350: ConvergenceWarning: The max_iter was reached which means the coef_ did not converge\n",
      "  warnings.warn(\n",
      "/Users/signehoel/comp401/sklearn-venv/lib/python3.8/site-packages/sklearn/linear_model/_sag.py:350: ConvergenceWarning: The max_iter was reached which means the coef_ did not converge\n",
      "  warnings.warn(\n",
      "/Users/signehoel/comp401/sklearn-venv/lib/python3.8/site-packages/sklearn/linear_model/_sag.py:350: ConvergenceWarning: The max_iter was reached which means the coef_ did not converge\n",
      "  warnings.warn(\n",
      "/Users/signehoel/comp401/sklearn-venv/lib/python3.8/site-packages/sklearn/linear_model/_sag.py:350: ConvergenceWarning: The max_iter was reached which means the coef_ did not converge\n",
      "  warnings.warn(\n",
      "/Users/signehoel/comp401/sklearn-venv/lib/python3.8/site-packages/sklearn/linear_model/_sag.py:350: ConvergenceWarning: The max_iter was reached which means the coef_ did not converge\n",
      "  warnings.warn(\n",
      "/Users/signehoel/comp401/sklearn-venv/lib/python3.8/site-packages/sklearn/linear_model/_sag.py:350: ConvergenceWarning: The max_iter was reached which means the coef_ did not converge\n",
      "  warnings.warn(\n",
      "/Users/signehoel/comp401/sklearn-venv/lib/python3.8/site-packages/sklearn/linear_model/_sag.py:350: ConvergenceWarning: The max_iter was reached which means the coef_ did not converge\n",
      "  warnings.warn(\n",
      "/Users/signehoel/comp401/sklearn-venv/lib/python3.8/site-packages/sklearn/linear_model/_sag.py:350: ConvergenceWarning: The max_iter was reached which means the coef_ did not converge\n",
      "  warnings.warn(\n"
     ]
    },
    {
     "data": {
      "text/html": [
       "<style>#sk-container-id-1 {color: black;background-color: white;}#sk-container-id-1 pre{padding: 0;}#sk-container-id-1 div.sk-toggleable {background-color: white;}#sk-container-id-1 label.sk-toggleable__label {cursor: pointer;display: block;width: 100%;margin-bottom: 0;padding: 0.3em;box-sizing: border-box;text-align: center;}#sk-container-id-1 label.sk-toggleable__label-arrow:before {content: \"▸\";float: left;margin-right: 0.25em;color: #696969;}#sk-container-id-1 label.sk-toggleable__label-arrow:hover:before {color: black;}#sk-container-id-1 div.sk-estimator:hover label.sk-toggleable__label-arrow:before {color: black;}#sk-container-id-1 div.sk-toggleable__content {max-height: 0;max-width: 0;overflow: hidden;text-align: left;background-color: #f0f8ff;}#sk-container-id-1 div.sk-toggleable__content pre {margin: 0.2em;color: black;border-radius: 0.25em;background-color: #f0f8ff;}#sk-container-id-1 input.sk-toggleable__control:checked~div.sk-toggleable__content {max-height: 200px;max-width: 100%;overflow: auto;}#sk-container-id-1 input.sk-toggleable__control:checked~label.sk-toggleable__label-arrow:before {content: \"▾\";}#sk-container-id-1 div.sk-estimator input.sk-toggleable__control:checked~label.sk-toggleable__label {background-color: #d4ebff;}#sk-container-id-1 div.sk-label input.sk-toggleable__control:checked~label.sk-toggleable__label {background-color: #d4ebff;}#sk-container-id-1 input.sk-hidden--visually {border: 0;clip: rect(1px 1px 1px 1px);clip: rect(1px, 1px, 1px, 1px);height: 1px;margin: -1px;overflow: hidden;padding: 0;position: absolute;width: 1px;}#sk-container-id-1 div.sk-estimator {font-family: monospace;background-color: #f0f8ff;border: 1px dotted black;border-radius: 0.25em;box-sizing: border-box;margin-bottom: 0.5em;}#sk-container-id-1 div.sk-estimator:hover {background-color: #d4ebff;}#sk-container-id-1 div.sk-parallel-item::after {content: \"\";width: 100%;border-bottom: 1px solid gray;flex-grow: 1;}#sk-container-id-1 div.sk-label:hover label.sk-toggleable__label {background-color: #d4ebff;}#sk-container-id-1 div.sk-serial::before {content: \"\";position: absolute;border-left: 1px solid gray;box-sizing: border-box;top: 0;bottom: 0;left: 50%;z-index: 0;}#sk-container-id-1 div.sk-serial {display: flex;flex-direction: column;align-items: center;background-color: white;padding-right: 0.2em;padding-left: 0.2em;position: relative;}#sk-container-id-1 div.sk-item {position: relative;z-index: 1;}#sk-container-id-1 div.sk-parallel {display: flex;align-items: stretch;justify-content: center;background-color: white;position: relative;}#sk-container-id-1 div.sk-item::before, #sk-container-id-1 div.sk-parallel-item::before {content: \"\";position: absolute;border-left: 1px solid gray;box-sizing: border-box;top: 0;bottom: 0;left: 50%;z-index: -1;}#sk-container-id-1 div.sk-parallel-item {display: flex;flex-direction: column;z-index: 1;position: relative;background-color: white;}#sk-container-id-1 div.sk-parallel-item:first-child::after {align-self: flex-end;width: 50%;}#sk-container-id-1 div.sk-parallel-item:last-child::after {align-self: flex-start;width: 50%;}#sk-container-id-1 div.sk-parallel-item:only-child::after {width: 0;}#sk-container-id-1 div.sk-dashed-wrapped {border: 1px dashed gray;margin: 0 0.4em 0.5em 0.4em;box-sizing: border-box;padding-bottom: 0.4em;background-color: white;}#sk-container-id-1 div.sk-label label {font-family: monospace;font-weight: bold;display: inline-block;line-height: 1.2em;}#sk-container-id-1 div.sk-label-container {text-align: center;}#sk-container-id-1 div.sk-container {/* jupyter's `normalize.less` sets `[hidden] { display: none; }` but bootstrap.min.css set `[hidden] { display: none !important; }` so we also need the `!important` here to be able to override the default hidden behavior on the sphinx rendered scikit-learn.org. See: https://github.com/scikit-learn/scikit-learn/issues/21755 */display: inline-block !important;position: relative;}#sk-container-id-1 div.sk-text-repr-fallback {display: none;}</style><div id=\"sk-container-id-1\" class=\"sk-top-container\"><div class=\"sk-text-repr-fallback\"><pre>MultiOmicsIntegrationClassifier(cv=3,\n",
       "                                estimator_list={&#x27;cnv&#x27;: [(&#x27;logistic&#x27;,\n",
       "                                                         LogisticRegression(multi_class=&#x27;multinomial&#x27;,\n",
       "                                                                            solver=&#x27;saga&#x27;)),\n",
       "                                                        (&#x27;lasso&#x27;,\n",
       "                                                         LogisticRegression(penalty=&#x27;l1&#x27;,\n",
       "                                                                            solver=&#x27;liblinear&#x27;)),\n",
       "                                                        (&#x27;random_forest&#x27;,\n",
       "                                                         RandomForestClassifier(random_state=0))],\n",
       "                                                &#x27;mrna&#x27;: [(&#x27;logistic&#x27;,\n",
       "                                                          LogisticRegression(multi_class=&#x27;multinomial&#x27;,\n",
       "                                                                             solver=&#x27;saga&#x27;)),\n",
       "                                                         (&#x27;lasso&#x27;,\n",
       "                                                          Logisti...n(penalty=&#x27;l1&#x27;,\n",
       "                                                                             solver=&#x27;liblinear&#x27;)),\n",
       "                                                         (&#x27;random_forest&#x27;,\n",
       "                                                          RandomForestClassifier(random_state=0)),\n",
       "                                                         (&#x27;svc&#x27;,\n",
       "                                                          CalibratedClassifierCV(estimator=LinearSVC(C=10)))],\n",
       "                                                &#x27;prot&#x27;: [(&#x27;logistic&#x27;,\n",
       "                                                          LogisticRegression(multi_class=&#x27;multinomial&#x27;,\n",
       "                                                                             solver=&#x27;saga&#x27;)),\n",
       "                                                         (&#x27;random_forest&#x27;,\n",
       "                                                          RandomForestClassifier(random_state=0)),\n",
       "                                                         (&#x27;svc&#x27;,\n",
       "                                                          CalibratedClassifierCV(estimator=LinearSVC(C=10)))]})</pre><b>In a Jupyter environment, please rerun this cell to show the HTML representation or trust the notebook. <br />On GitHub, the HTML representation is unable to render, please try loading this page with nbviewer.org.</b></div><div class=\"sk-container\" hidden><div class=\"sk-item sk-dashed-wrapped\"><div class=\"sk-label-container\"><div class=\"sk-label sk-toggleable\"><input class=\"sk-toggleable__control sk-hidden--visually\" id=\"sk-estimator-id-1\" type=\"checkbox\" ><label for=\"sk-estimator-id-1\" class=\"sk-toggleable__label sk-toggleable__label-arrow\">MultiOmicsIntegrationClassifier</label><div class=\"sk-toggleable__content\"><pre>MultiOmicsIntegrationClassifier(cv=3,\n",
       "                                estimator_list={&#x27;cnv&#x27;: [(&#x27;logistic&#x27;,\n",
       "                                                         LogisticRegression(multi_class=&#x27;multinomial&#x27;,\n",
       "                                                                            solver=&#x27;saga&#x27;)),\n",
       "                                                        (&#x27;lasso&#x27;,\n",
       "                                                         LogisticRegression(penalty=&#x27;l1&#x27;,\n",
       "                                                                            solver=&#x27;liblinear&#x27;)),\n",
       "                                                        (&#x27;random_forest&#x27;,\n",
       "                                                         RandomForestClassifier(random_state=0))],\n",
       "                                                &#x27;mrna&#x27;: [(&#x27;logistic&#x27;,\n",
       "                                                          LogisticRegression(multi_class=&#x27;multinomial&#x27;,\n",
       "                                                                             solver=&#x27;saga&#x27;)),\n",
       "                                                         (&#x27;lasso&#x27;,\n",
       "                                                          Logisti...n(penalty=&#x27;l1&#x27;,\n",
       "                                                                             solver=&#x27;liblinear&#x27;)),\n",
       "                                                         (&#x27;random_forest&#x27;,\n",
       "                                                          RandomForestClassifier(random_state=0)),\n",
       "                                                         (&#x27;svc&#x27;,\n",
       "                                                          CalibratedClassifierCV(estimator=LinearSVC(C=10)))],\n",
       "                                                &#x27;prot&#x27;: [(&#x27;logistic&#x27;,\n",
       "                                                          LogisticRegression(multi_class=&#x27;multinomial&#x27;,\n",
       "                                                                             solver=&#x27;saga&#x27;)),\n",
       "                                                         (&#x27;random_forest&#x27;,\n",
       "                                                          RandomForestClassifier(random_state=0)),\n",
       "                                                         (&#x27;svc&#x27;,\n",
       "                                                          CalibratedClassifierCV(estimator=LinearSVC(C=10)))]})</pre></div></div></div><div class=\"sk-parallel\"><div class=\"sk-parallel-item\"><div class=\"sk-item\"><div class=\"sk-label-container\"><div class=\"sk-label sk-toggleable\"><input class=\"sk-toggleable__control sk-hidden--visually\" id=\"sk-estimator-id-2\" type=\"checkbox\" ><label for=\"sk-estimator-id-2\" class=\"sk-toggleable__label sk-toggleable__label-arrow\">l1_final_estimator: LogisticRegression</label><div class=\"sk-toggleable__content\"><pre>LogisticRegression(n_jobs=-1, random_state=0)</pre></div></div></div><div class=\"sk-serial\"><div class=\"sk-item\"><div class=\"sk-estimator sk-toggleable\"><input class=\"sk-toggleable__control sk-hidden--visually\" id=\"sk-estimator-id-3\" type=\"checkbox\" ><label for=\"sk-estimator-id-3\" class=\"sk-toggleable__label sk-toggleable__label-arrow\">LogisticRegression</label><div class=\"sk-toggleable__content\"><pre>LogisticRegression(n_jobs=-1, random_state=0)</pre></div></div></div></div></div></div><div class=\"sk-parallel-item\"><div class=\"sk-item\"><div class=\"sk-label-container\"><div class=\"sk-label sk-toggleable\"><input class=\"sk-toggleable__control sk-hidden--visually\" id=\"sk-estimator-id-4\" type=\"checkbox\" ><label for=\"sk-estimator-id-4\" class=\"sk-toggleable__label sk-toggleable__label-arrow\">l2_final_estimator: LogisticRegression</label><div class=\"sk-toggleable__content\"><pre>LogisticRegression(n_jobs=-1, random_state=0)</pre></div></div></div><div class=\"sk-serial\"><div class=\"sk-item\"><div class=\"sk-estimator sk-toggleable\"><input class=\"sk-toggleable__control sk-hidden--visually\" id=\"sk-estimator-id-5\" type=\"checkbox\" ><label for=\"sk-estimator-id-5\" class=\"sk-toggleable__label sk-toggleable__label-arrow\">LogisticRegression</label><div class=\"sk-toggleable__content\"><pre>LogisticRegression(n_jobs=-1, random_state=0)</pre></div></div></div></div></div></div></div></div></div></div>"
      ],
      "text/plain": [
       "MultiOmicsIntegrationClassifier(cv=3,\n",
       "                                estimator_list={'cnv': [('logistic',\n",
       "                                                         LogisticRegression(multi_class='multinomial',\n",
       "                                                                            solver='saga')),\n",
       "                                                        ('lasso',\n",
       "                                                         LogisticRegression(penalty='l1',\n",
       "                                                                            solver='liblinear')),\n",
       "                                                        ('random_forest',\n",
       "                                                         RandomForestClassifier(random_state=0))],\n",
       "                                                'mrna': [('logistic',\n",
       "                                                          LogisticRegression(multi_class='multinomial',\n",
       "                                                                             solver='saga')),\n",
       "                                                         ('lasso',\n",
       "                                                          Logisti...n(penalty='l1',\n",
       "                                                                             solver='liblinear')),\n",
       "                                                         ('random_forest',\n",
       "                                                          RandomForestClassifier(random_state=0)),\n",
       "                                                         ('svc',\n",
       "                                                          CalibratedClassifierCV(estimator=LinearSVC(C=10)))],\n",
       "                                                'prot': [('logistic',\n",
       "                                                          LogisticRegression(multi_class='multinomial',\n",
       "                                                                             solver='saga')),\n",
       "                                                         ('random_forest',\n",
       "                                                          RandomForestClassifier(random_state=0)),\n",
       "                                                         ('svc',\n",
       "                                                          CalibratedClassifierCV(estimator=LinearSVC(C=10)))]})"
      ]
     },
     "execution_count": 81,
     "metadata": {},
     "output_type": "execute_result"
    }
   ],
   "source": [
    "meta_ensemble.fit(merged_X, y, column_names=column_names)"
   ]
  },
  {
   "cell_type": "code",
   "execution_count": 82,
   "metadata": {},
   "outputs": [
    {
     "data": {
      "text/html": [
       "<style>#sk-container-id-2 {color: black;background-color: white;}#sk-container-id-2 pre{padding: 0;}#sk-container-id-2 div.sk-toggleable {background-color: white;}#sk-container-id-2 label.sk-toggleable__label {cursor: pointer;display: block;width: 100%;margin-bottom: 0;padding: 0.3em;box-sizing: border-box;text-align: center;}#sk-container-id-2 label.sk-toggleable__label-arrow:before {content: \"▸\";float: left;margin-right: 0.25em;color: #696969;}#sk-container-id-2 label.sk-toggleable__label-arrow:hover:before {color: black;}#sk-container-id-2 div.sk-estimator:hover label.sk-toggleable__label-arrow:before {color: black;}#sk-container-id-2 div.sk-toggleable__content {max-height: 0;max-width: 0;overflow: hidden;text-align: left;background-color: #f0f8ff;}#sk-container-id-2 div.sk-toggleable__content pre {margin: 0.2em;color: black;border-radius: 0.25em;background-color: #f0f8ff;}#sk-container-id-2 input.sk-toggleable__control:checked~div.sk-toggleable__content {max-height: 200px;max-width: 100%;overflow: auto;}#sk-container-id-2 input.sk-toggleable__control:checked~label.sk-toggleable__label-arrow:before {content: \"▾\";}#sk-container-id-2 div.sk-estimator input.sk-toggleable__control:checked~label.sk-toggleable__label {background-color: #d4ebff;}#sk-container-id-2 div.sk-label input.sk-toggleable__control:checked~label.sk-toggleable__label {background-color: #d4ebff;}#sk-container-id-2 input.sk-hidden--visually {border: 0;clip: rect(1px 1px 1px 1px);clip: rect(1px, 1px, 1px, 1px);height: 1px;margin: -1px;overflow: hidden;padding: 0;position: absolute;width: 1px;}#sk-container-id-2 div.sk-estimator {font-family: monospace;background-color: #f0f8ff;border: 1px dotted black;border-radius: 0.25em;box-sizing: border-box;margin-bottom: 0.5em;}#sk-container-id-2 div.sk-estimator:hover {background-color: #d4ebff;}#sk-container-id-2 div.sk-parallel-item::after {content: \"\";width: 100%;border-bottom: 1px solid gray;flex-grow: 1;}#sk-container-id-2 div.sk-label:hover label.sk-toggleable__label {background-color: #d4ebff;}#sk-container-id-2 div.sk-serial::before {content: \"\";position: absolute;border-left: 1px solid gray;box-sizing: border-box;top: 0;bottom: 0;left: 50%;z-index: 0;}#sk-container-id-2 div.sk-serial {display: flex;flex-direction: column;align-items: center;background-color: white;padding-right: 0.2em;padding-left: 0.2em;position: relative;}#sk-container-id-2 div.sk-item {position: relative;z-index: 1;}#sk-container-id-2 div.sk-parallel {display: flex;align-items: stretch;justify-content: center;background-color: white;position: relative;}#sk-container-id-2 div.sk-item::before, #sk-container-id-2 div.sk-parallel-item::before {content: \"\";position: absolute;border-left: 1px solid gray;box-sizing: border-box;top: 0;bottom: 0;left: 50%;z-index: -1;}#sk-container-id-2 div.sk-parallel-item {display: flex;flex-direction: column;z-index: 1;position: relative;background-color: white;}#sk-container-id-2 div.sk-parallel-item:first-child::after {align-self: flex-end;width: 50%;}#sk-container-id-2 div.sk-parallel-item:last-child::after {align-self: flex-start;width: 50%;}#sk-container-id-2 div.sk-parallel-item:only-child::after {width: 0;}#sk-container-id-2 div.sk-dashed-wrapped {border: 1px dashed gray;margin: 0 0.4em 0.5em 0.4em;box-sizing: border-box;padding-bottom: 0.4em;background-color: white;}#sk-container-id-2 div.sk-label label {font-family: monospace;font-weight: bold;display: inline-block;line-height: 1.2em;}#sk-container-id-2 div.sk-label-container {text-align: center;}#sk-container-id-2 div.sk-container {/* jupyter's `normalize.less` sets `[hidden] { display: none; }` but bootstrap.min.css set `[hidden] { display: none !important; }` so we also need the `!important` here to be able to override the default hidden behavior on the sphinx rendered scikit-learn.org. See: https://github.com/scikit-learn/scikit-learn/issues/21755 */display: inline-block !important;position: relative;}#sk-container-id-2 div.sk-text-repr-fallback {display: none;}</style><div id=\"sk-container-id-2\" class=\"sk-top-container\"><div class=\"sk-text-repr-fallback\"><pre>StackingClassifier(cv=StratifiedKFold(n_splits=3, random_state=0, shuffle=True),\n",
       "                   estimators=[(&#x27;cnv&#x27;,\n",
       "                                Pipeline(steps=[(&#x27;column_selector&#x27;,\n",
       "                                                 ColumnSelector(cols=Index([&#x27;A1BG_cnv&#x27;, &#x27;A2M_cnv&#x27;, &#x27;NAT1_cnv&#x27;, &#x27;NAT2_cnv&#x27;, &#x27;SERPINA3_cnv&#x27;,\n",
       "       &#x27;AADAC_cnv&#x27;, &#x27;AAMP_cnv&#x27;, &#x27;AANAT_cnv&#x27;, &#x27;AARS_cnv&#x27;, &#x27;ABAT_cnv&#x27;,\n",
       "       ...\n",
       "       &#x27;LOC105376430_cnv&#x27;, &#x27;LOC105376575_cnv&#x27;, &#x27;LOC105376887_cnv&#x27;,\n",
       "       &#x27;LOC105376948_cn...\n",
       "                                                                                 RandomForestClassifier(random_state=0)),\n",
       "                                                                                (&#x27;svc&#x27;,\n",
       "                                                                                 CalibratedClassifierCV(estimator=LinearSVC(C=10)))],\n",
       "                                                                    final_estimator=Pipeline(steps=[(&#x27;imputer&#x27;,\n",
       "                                                                                                     SimpleImputer(strategy=&#x27;median&#x27;)),\n",
       "                                                                                                    (&#x27;l1&#x27;,\n",
       "                                                                                                     LogisticRegression(n_jobs=-1,\n",
       "                                                                                                                        random_state=0))]),\n",
       "                                                                    n_jobs=-1))]))],\n",
       "                   final_estimator=Pipeline(steps=[(&#x27;imputer&#x27;,\n",
       "                                                    SimpleImputer(strategy=&#x27;median&#x27;)),\n",
       "                                                   (&#x27;l2&#x27;,\n",
       "                                                    LogisticRegression(n_jobs=-1,\n",
       "                                                                       random_state=0))]),\n",
       "                   n_jobs=-1)</pre><b>In a Jupyter environment, please rerun this cell to show the HTML representation or trust the notebook. <br />On GitHub, the HTML representation is unable to render, please try loading this page with nbviewer.org.</b></div><div class=\"sk-container\" hidden><div class=\"sk-item sk-dashed-wrapped\"><div class=\"sk-label-container\"><div class=\"sk-label sk-toggleable\"><input class=\"sk-toggleable__control sk-hidden--visually\" id=\"sk-estimator-id-6\" type=\"checkbox\" ><label for=\"sk-estimator-id-6\" class=\"sk-toggleable__label sk-toggleable__label-arrow\">StackingClassifier</label><div class=\"sk-toggleable__content\"><pre>StackingClassifier(cv=StratifiedKFold(n_splits=3, random_state=0, shuffle=True),\n",
       "                   estimators=[(&#x27;cnv&#x27;,\n",
       "                                Pipeline(steps=[(&#x27;column_selector&#x27;,\n",
       "                                                 ColumnSelector(cols=Index([&#x27;A1BG_cnv&#x27;, &#x27;A2M_cnv&#x27;, &#x27;NAT1_cnv&#x27;, &#x27;NAT2_cnv&#x27;, &#x27;SERPINA3_cnv&#x27;,\n",
       "       &#x27;AADAC_cnv&#x27;, &#x27;AAMP_cnv&#x27;, &#x27;AANAT_cnv&#x27;, &#x27;AARS_cnv&#x27;, &#x27;ABAT_cnv&#x27;,\n",
       "       ...\n",
       "       &#x27;LOC105376430_cnv&#x27;, &#x27;LOC105376575_cnv&#x27;, &#x27;LOC105376887_cnv&#x27;,\n",
       "       &#x27;LOC105376948_cn...\n",
       "                                                                                 RandomForestClassifier(random_state=0)),\n",
       "                                                                                (&#x27;svc&#x27;,\n",
       "                                                                                 CalibratedClassifierCV(estimator=LinearSVC(C=10)))],\n",
       "                                                                    final_estimator=Pipeline(steps=[(&#x27;imputer&#x27;,\n",
       "                                                                                                     SimpleImputer(strategy=&#x27;median&#x27;)),\n",
       "                                                                                                    (&#x27;l1&#x27;,\n",
       "                                                                                                     LogisticRegression(n_jobs=-1,\n",
       "                                                                                                                        random_state=0))]),\n",
       "                                                                    n_jobs=-1))]))],\n",
       "                   final_estimator=Pipeline(steps=[(&#x27;imputer&#x27;,\n",
       "                                                    SimpleImputer(strategy=&#x27;median&#x27;)),\n",
       "                                                   (&#x27;l2&#x27;,\n",
       "                                                    LogisticRegression(n_jobs=-1,\n",
       "                                                                       random_state=0))]),\n",
       "                   n_jobs=-1)</pre></div></div></div><div class=\"sk-serial\"><div class=\"sk-item\"><div class=\"sk-parallel\"><div class=\"sk-parallel-item\"><div class=\"sk-item\"><div class=\"sk-label-container\"><div class=\"sk-label sk-toggleable\"><label>cnv</label></div></div><div class=\"sk-serial\"><div class=\"sk-item\"><div class=\"sk-serial\"><div class=\"sk-item\"><div class=\"sk-estimator sk-toggleable\"><input class=\"sk-toggleable__control sk-hidden--visually\" id=\"sk-estimator-id-7\" type=\"checkbox\" ><label for=\"sk-estimator-id-7\" class=\"sk-toggleable__label sk-toggleable__label-arrow\">ColumnSelector</label><div class=\"sk-toggleable__content\"><pre>ColumnSelector(cols=Index([&#x27;A1BG_cnv&#x27;, &#x27;A2M_cnv&#x27;, &#x27;NAT1_cnv&#x27;, &#x27;NAT2_cnv&#x27;, &#x27;SERPINA3_cnv&#x27;,\n",
       "       &#x27;AADAC_cnv&#x27;, &#x27;AAMP_cnv&#x27;, &#x27;AANAT_cnv&#x27;, &#x27;AARS_cnv&#x27;, &#x27;ABAT_cnv&#x27;,\n",
       "       ...\n",
       "       &#x27;LOC105376430_cnv&#x27;, &#x27;LOC105376575_cnv&#x27;, &#x27;LOC105376887_cnv&#x27;,\n",
       "       &#x27;LOC105376948_cnv&#x27;, &#x27;LOC105377751_cnv&#x27;, &#x27;LOC105378220_cnv&#x27;, &#x27;KLF18_cnv&#x27;,\n",
       "       &#x27;LOC105379861_cnv&#x27;, &#x27;BUB1B-PAK6_cnv&#x27;, &#x27;TBC1D7-LOC100130357_cnv&#x27;],\n",
       "      dtype=&#x27;object&#x27;, length=18799))</pre></div></div></div><div class=\"sk-item\"><div class=\"sk-label-container\"><div class=\"sk-label sk-toggleable\"><input class=\"sk-toggleable__control sk-hidden--visually\" id=\"sk-estimator-id-8\" type=\"checkbox\" ><label for=\"sk-estimator-id-8\" class=\"sk-toggleable__label sk-toggleable__label-arrow\">stacking: StackingClassifier</label><div class=\"sk-toggleable__content\"><pre>StackingClassifier(cv=StratifiedKFold(n_splits=3, random_state=0, shuffle=True),\n",
       "                   estimators=[(&#x27;logistic&#x27;,\n",
       "                                LogisticRegression(multi_class=&#x27;multinomial&#x27;,\n",
       "                                                   solver=&#x27;saga&#x27;)),\n",
       "                               (&#x27;lasso&#x27;,\n",
       "                                LogisticRegression(penalty=&#x27;l1&#x27;,\n",
       "                                                   solver=&#x27;liblinear&#x27;)),\n",
       "                               (&#x27;random_forest&#x27;,\n",
       "                                RandomForestClassifier(random_state=0))],\n",
       "                   final_estimator=Pipeline(steps=[(&#x27;imputer&#x27;,\n",
       "                                                    SimpleImputer(strategy=&#x27;median&#x27;)),\n",
       "                                                   (&#x27;l1&#x27;,\n",
       "                                                    LogisticRegression(n_jobs=-1,\n",
       "                                                                       random_state=0))]),\n",
       "                   n_jobs=-1)</pre></div></div></div><div class=\"sk-serial\"><div class=\"sk-item\"><div class=\"sk-parallel\"><div class=\"sk-parallel-item\"><div class=\"sk-item\"><div class=\"sk-label-container\"><div class=\"sk-label sk-toggleable\"><label>logistic</label></div></div><div class=\"sk-serial\"><div class=\"sk-item\"><div class=\"sk-estimator sk-toggleable\"><input class=\"sk-toggleable__control sk-hidden--visually\" id=\"sk-estimator-id-9\" type=\"checkbox\" ><label for=\"sk-estimator-id-9\" class=\"sk-toggleable__label sk-toggleable__label-arrow\">LogisticRegression</label><div class=\"sk-toggleable__content\"><pre>LogisticRegression(multi_class=&#x27;multinomial&#x27;, solver=&#x27;saga&#x27;)</pre></div></div></div></div></div></div><div class=\"sk-parallel-item\"><div class=\"sk-item\"><div class=\"sk-label-container\"><div class=\"sk-label sk-toggleable\"><label>lasso</label></div></div><div class=\"sk-serial\"><div class=\"sk-item\"><div class=\"sk-estimator sk-toggleable\"><input class=\"sk-toggleable__control sk-hidden--visually\" id=\"sk-estimator-id-10\" type=\"checkbox\" ><label for=\"sk-estimator-id-10\" class=\"sk-toggleable__label sk-toggleable__label-arrow\">LogisticRegression</label><div class=\"sk-toggleable__content\"><pre>LogisticRegression(penalty=&#x27;l1&#x27;, solver=&#x27;liblinear&#x27;)</pre></div></div></div></div></div></div><div class=\"sk-parallel-item\"><div class=\"sk-item\"><div class=\"sk-label-container\"><div class=\"sk-label sk-toggleable\"><label>random_forest</label></div></div><div class=\"sk-serial\"><div class=\"sk-item\"><div class=\"sk-estimator sk-toggleable\"><input class=\"sk-toggleable__control sk-hidden--visually\" id=\"sk-estimator-id-11\" type=\"checkbox\" ><label for=\"sk-estimator-id-11\" class=\"sk-toggleable__label sk-toggleable__label-arrow\">RandomForestClassifier</label><div class=\"sk-toggleable__content\"><pre>RandomForestClassifier(random_state=0)</pre></div></div></div></div></div></div></div></div><div class=\"sk-item\"><div class=\"sk-parallel\"><div class=\"sk-parallel-item\"><div class=\"sk-item\"><div class=\"sk-label-container\"><div class=\"sk-label sk-toggleable\"><label>final_estimator</label></div></div><div class=\"sk-serial\"><div class=\"sk-item\"><div class=\"sk-serial\"><div class=\"sk-item\"><div class=\"sk-estimator sk-toggleable\"><input class=\"sk-toggleable__control sk-hidden--visually\" id=\"sk-estimator-id-12\" type=\"checkbox\" ><label for=\"sk-estimator-id-12\" class=\"sk-toggleable__label sk-toggleable__label-arrow\">SimpleImputer</label><div class=\"sk-toggleable__content\"><pre>SimpleImputer(strategy=&#x27;median&#x27;)</pre></div></div></div><div class=\"sk-item\"><div class=\"sk-estimator sk-toggleable\"><input class=\"sk-toggleable__control sk-hidden--visually\" id=\"sk-estimator-id-13\" type=\"checkbox\" ><label for=\"sk-estimator-id-13\" class=\"sk-toggleable__label sk-toggleable__label-arrow\">LogisticRegression</label><div class=\"sk-toggleable__content\"><pre>LogisticRegression(n_jobs=-1, random_state=0)</pre></div></div></div></div></div></div></div></div></div></div></div></div></div></div></div></div></div><div class=\"sk-parallel-item\"><div class=\"sk-item\"><div class=\"sk-label-container\"><div class=\"sk-label sk-toggleable\"><label>mrna</label></div></div><div class=\"sk-serial\"><div class=\"sk-item\"><div class=\"sk-serial\"><div class=\"sk-item\"><div class=\"sk-estimator sk-toggleable\"><input class=\"sk-toggleable__control sk-hidden--visually\" id=\"sk-estimator-id-14\" type=\"checkbox\" ><label for=\"sk-estimator-id-14\" class=\"sk-toggleable__label sk-toggleable__label-arrow\">ColumnSelector</label><div class=\"sk-toggleable__content\"><pre>ColumnSelector(cols=Index([&#x27;A1BG_mrna&#x27;, &#x27;A2M_mrna&#x27;, &#x27;A2MP1_mrna&#x27;, &#x27;NAT1_mrna&#x27;, &#x27;NAT2_mrna&#x27;,\n",
       "       &#x27;SERPINA3_mrna&#x27;, &#x27;AAMP_mrna&#x27;, &#x27;AANAT_mrna&#x27;, &#x27;AARS_mrna&#x27;, &#x27;ABAT_mrna&#x27;,\n",
       "       ...\n",
       "       &#x27;RNU6-516P_mrna&#x27;, &#x27;RNU6-531P_mrna&#x27;, &#x27;RNU6-925P_mrna&#x27;, &#x27;PTGES3P4_mrna&#x27;,\n",
       "       &#x27;RN7SL689P_mrna&#x27;, &#x27;RNU6-415P_mrna&#x27;, &#x27;RNU6-529P_mrna&#x27;, &#x27;RNU2-11P_mrna&#x27;,\n",
       "       &#x27;RNU4ATAC18P_mrna&#x27;, &#x27;NOP56P3_mrna&#x27;],\n",
       "      dtype=&#x27;object&#x27;, length=17939))</pre></div></div></div><div class=\"sk-item\"><div class=\"sk-label-container\"><div class=\"sk-label sk-toggleable\"><input class=\"sk-toggleable__control sk-hidden--visually\" id=\"sk-estimator-id-15\" type=\"checkbox\" ><label for=\"sk-estimator-id-15\" class=\"sk-toggleable__label sk-toggleable__label-arrow\">stacking: StackingClassifier</label><div class=\"sk-toggleable__content\"><pre>StackingClassifier(cv=StratifiedKFold(n_splits=3, random_state=0, shuffle=True),\n",
       "                   estimators=[(&#x27;logistic&#x27;,\n",
       "                                LogisticRegression(multi_class=&#x27;multinomial&#x27;,\n",
       "                                                   solver=&#x27;saga&#x27;)),\n",
       "                               (&#x27;lasso&#x27;,\n",
       "                                LogisticRegression(penalty=&#x27;l1&#x27;,\n",
       "                                                   solver=&#x27;liblinear&#x27;)),\n",
       "                               (&#x27;random_forest&#x27;,\n",
       "                                RandomForestClassifier(random_state=0)),\n",
       "                               (&#x27;svc&#x27;,\n",
       "                                CalibratedClassifierCV(estimator=LinearSVC(C=10)))],\n",
       "                   final_estimator=Pipeline(steps=[(&#x27;imputer&#x27;,\n",
       "                                                    SimpleImputer(strategy=&#x27;median&#x27;)),\n",
       "                                                   (&#x27;l1&#x27;,\n",
       "                                                    LogisticRegression(n_jobs=-1,\n",
       "                                                                       random_state=0))]),\n",
       "                   n_jobs=-1)</pre></div></div></div><div class=\"sk-serial\"><div class=\"sk-item\"><div class=\"sk-parallel\"><div class=\"sk-parallel-item\"><div class=\"sk-item\"><div class=\"sk-label-container\"><div class=\"sk-label sk-toggleable\"><label>logistic</label></div></div><div class=\"sk-serial\"><div class=\"sk-item\"><div class=\"sk-estimator sk-toggleable\"><input class=\"sk-toggleable__control sk-hidden--visually\" id=\"sk-estimator-id-16\" type=\"checkbox\" ><label for=\"sk-estimator-id-16\" class=\"sk-toggleable__label sk-toggleable__label-arrow\">LogisticRegression</label><div class=\"sk-toggleable__content\"><pre>LogisticRegression(multi_class=&#x27;multinomial&#x27;, solver=&#x27;saga&#x27;)</pre></div></div></div></div></div></div><div class=\"sk-parallel-item\"><div class=\"sk-item\"><div class=\"sk-label-container\"><div class=\"sk-label sk-toggleable\"><label>lasso</label></div></div><div class=\"sk-serial\"><div class=\"sk-item\"><div class=\"sk-estimator sk-toggleable\"><input class=\"sk-toggleable__control sk-hidden--visually\" id=\"sk-estimator-id-17\" type=\"checkbox\" ><label for=\"sk-estimator-id-17\" class=\"sk-toggleable__label sk-toggleable__label-arrow\">LogisticRegression</label><div class=\"sk-toggleable__content\"><pre>LogisticRegression(penalty=&#x27;l1&#x27;, solver=&#x27;liblinear&#x27;)</pre></div></div></div></div></div></div><div class=\"sk-parallel-item\"><div class=\"sk-item\"><div class=\"sk-label-container\"><div class=\"sk-label sk-toggleable\"><label>random_forest</label></div></div><div class=\"sk-serial\"><div class=\"sk-item\"><div class=\"sk-estimator sk-toggleable\"><input class=\"sk-toggleable__control sk-hidden--visually\" id=\"sk-estimator-id-18\" type=\"checkbox\" ><label for=\"sk-estimator-id-18\" class=\"sk-toggleable__label sk-toggleable__label-arrow\">RandomForestClassifier</label><div class=\"sk-toggleable__content\"><pre>RandomForestClassifier(random_state=0)</pre></div></div></div></div></div></div><div class=\"sk-parallel-item\"><div class=\"sk-item\"><div class=\"sk-label-container\"><div class=\"sk-label sk-toggleable\"><label>svc</label></div></div><div class=\"sk-serial\"><div class=\"sk-item sk-dashed-wrapped\"><div class=\"sk-parallel\"><div class=\"sk-parallel-item\"><div class=\"sk-item\"><div class=\"sk-label-container\"><div class=\"sk-label sk-toggleable\"><input class=\"sk-toggleable__control sk-hidden--visually\" id=\"sk-estimator-id-19\" type=\"checkbox\" ><label for=\"sk-estimator-id-19\" class=\"sk-toggleable__label sk-toggleable__label-arrow\">estimator: LinearSVC</label><div class=\"sk-toggleable__content\"><pre>LinearSVC(C=10)</pre></div></div></div><div class=\"sk-serial\"><div class=\"sk-item\"><div class=\"sk-estimator sk-toggleable\"><input class=\"sk-toggleable__control sk-hidden--visually\" id=\"sk-estimator-id-20\" type=\"checkbox\" ><label for=\"sk-estimator-id-20\" class=\"sk-toggleable__label sk-toggleable__label-arrow\">LinearSVC</label><div class=\"sk-toggleable__content\"><pre>LinearSVC(C=10)</pre></div></div></div></div></div></div></div></div></div></div></div></div></div><div class=\"sk-item\"><div class=\"sk-parallel\"><div class=\"sk-parallel-item\"><div class=\"sk-item\"><div class=\"sk-label-container\"><div class=\"sk-label sk-toggleable\"><label>final_estimator</label></div></div><div class=\"sk-serial\"><div class=\"sk-item\"><div class=\"sk-serial\"><div class=\"sk-item\"><div class=\"sk-estimator sk-toggleable\"><input class=\"sk-toggleable__control sk-hidden--visually\" id=\"sk-estimator-id-21\" type=\"checkbox\" ><label for=\"sk-estimator-id-21\" class=\"sk-toggleable__label sk-toggleable__label-arrow\">SimpleImputer</label><div class=\"sk-toggleable__content\"><pre>SimpleImputer(strategy=&#x27;median&#x27;)</pre></div></div></div><div class=\"sk-item\"><div class=\"sk-estimator sk-toggleable\"><input class=\"sk-toggleable__control sk-hidden--visually\" id=\"sk-estimator-id-22\" type=\"checkbox\" ><label for=\"sk-estimator-id-22\" class=\"sk-toggleable__label sk-toggleable__label-arrow\">LogisticRegression</label><div class=\"sk-toggleable__content\"><pre>LogisticRegression(n_jobs=-1, random_state=0)</pre></div></div></div></div></div></div></div></div></div></div></div></div></div></div></div></div></div><div class=\"sk-parallel-item\"><div class=\"sk-item\"><div class=\"sk-label-container\"><div class=\"sk-label sk-toggleable\"><label>prot</label></div></div><div class=\"sk-serial\"><div class=\"sk-item\"><div class=\"sk-serial\"><div class=\"sk-item\"><div class=\"sk-estimator sk-toggleable\"><input class=\"sk-toggleable__control sk-hidden--visually\" id=\"sk-estimator-id-23\" type=\"checkbox\" ><label for=\"sk-estimator-id-23\" class=\"sk-toggleable__label sk-toggleable__label-arrow\">ColumnSelector</label><div class=\"sk-toggleable__content\"><pre>ColumnSelector(cols=Index([&#x27;A1BG_prot&#x27;, &#x27;A2M_prot&#x27;, &#x27;A2ML1_prot&#x27;, &#x27;AAAS_prot&#x27;, &#x27;AACS_prot&#x27;,\n",
       "       &#x27;AAGAB_prot&#x27;, &#x27;AAK1_prot&#x27;, &#x27;AAMDC_prot&#x27;, &#x27;AAMP_prot&#x27;, &#x27;AAR2_prot&#x27;,\n",
       "       ...\n",
       "       &#x27;ZRSR2_prot&#x27;, &#x27;ZSCAN18_prot&#x27;, &#x27;ZSWIM8_prot&#x27;, &#x27;ZW10_prot&#x27;, &#x27;ZWILCH_prot&#x27;,\n",
       "       &#x27;ZWINT_prot&#x27;, &#x27;ZYG11B_prot&#x27;, &#x27;ZYX_prot&#x27;, &#x27;ZZEF1_prot&#x27;, &#x27;ZZZ3_prot&#x27;],\n",
       "      dtype=&#x27;object&#x27;, length=8092))</pre></div></div></div><div class=\"sk-item\"><div class=\"sk-label-container\"><div class=\"sk-label sk-toggleable\"><input class=\"sk-toggleable__control sk-hidden--visually\" id=\"sk-estimator-id-24\" type=\"checkbox\" ><label for=\"sk-estimator-id-24\" class=\"sk-toggleable__label sk-toggleable__label-arrow\">stacking: StackingClassifier</label><div class=\"sk-toggleable__content\"><pre>StackingClassifier(cv=StratifiedKFold(n_splits=3, random_state=0, shuffle=True),\n",
       "                   estimators=[(&#x27;logistic&#x27;,\n",
       "                                LogisticRegression(multi_class=&#x27;multinomial&#x27;,\n",
       "                                                   solver=&#x27;saga&#x27;)),\n",
       "                               (&#x27;random_forest&#x27;,\n",
       "                                RandomForestClassifier(random_state=0)),\n",
       "                               (&#x27;svc&#x27;,\n",
       "                                CalibratedClassifierCV(estimator=LinearSVC(C=10)))],\n",
       "                   final_estimator=Pipeline(steps=[(&#x27;imputer&#x27;,\n",
       "                                                    SimpleImputer(strategy=&#x27;median&#x27;)),\n",
       "                                                   (&#x27;l1&#x27;,\n",
       "                                                    LogisticRegression(n_jobs=-1,\n",
       "                                                                       random_state=0))]),\n",
       "                   n_jobs=-1)</pre></div></div></div><div class=\"sk-serial\"><div class=\"sk-item\"><div class=\"sk-parallel\"><div class=\"sk-parallel-item\"><div class=\"sk-item\"><div class=\"sk-label-container\"><div class=\"sk-label sk-toggleable\"><label>logistic</label></div></div><div class=\"sk-serial\"><div class=\"sk-item\"><div class=\"sk-estimator sk-toggleable\"><input class=\"sk-toggleable__control sk-hidden--visually\" id=\"sk-estimator-id-25\" type=\"checkbox\" ><label for=\"sk-estimator-id-25\" class=\"sk-toggleable__label sk-toggleable__label-arrow\">LogisticRegression</label><div class=\"sk-toggleable__content\"><pre>LogisticRegression(multi_class=&#x27;multinomial&#x27;, solver=&#x27;saga&#x27;)</pre></div></div></div></div></div></div><div class=\"sk-parallel-item\"><div class=\"sk-item\"><div class=\"sk-label-container\"><div class=\"sk-label sk-toggleable\"><label>random_forest</label></div></div><div class=\"sk-serial\"><div class=\"sk-item\"><div class=\"sk-estimator sk-toggleable\"><input class=\"sk-toggleable__control sk-hidden--visually\" id=\"sk-estimator-id-26\" type=\"checkbox\" ><label for=\"sk-estimator-id-26\" class=\"sk-toggleable__label sk-toggleable__label-arrow\">RandomForestClassifier</label><div class=\"sk-toggleable__content\"><pre>RandomForestClassifier(random_state=0)</pre></div></div></div></div></div></div><div class=\"sk-parallel-item\"><div class=\"sk-item\"><div class=\"sk-label-container\"><div class=\"sk-label sk-toggleable\"><label>svc</label></div></div><div class=\"sk-serial\"><div class=\"sk-item sk-dashed-wrapped\"><div class=\"sk-parallel\"><div class=\"sk-parallel-item\"><div class=\"sk-item\"><div class=\"sk-label-container\"><div class=\"sk-label sk-toggleable\"><input class=\"sk-toggleable__control sk-hidden--visually\" id=\"sk-estimator-id-27\" type=\"checkbox\" ><label for=\"sk-estimator-id-27\" class=\"sk-toggleable__label sk-toggleable__label-arrow\">estimator: LinearSVC</label><div class=\"sk-toggleable__content\"><pre>LinearSVC(C=10)</pre></div></div></div><div class=\"sk-serial\"><div class=\"sk-item\"><div class=\"sk-estimator sk-toggleable\"><input class=\"sk-toggleable__control sk-hidden--visually\" id=\"sk-estimator-id-28\" type=\"checkbox\" ><label for=\"sk-estimator-id-28\" class=\"sk-toggleable__label sk-toggleable__label-arrow\">LinearSVC</label><div class=\"sk-toggleable__content\"><pre>LinearSVC(C=10)</pre></div></div></div></div></div></div></div></div></div></div></div></div></div><div class=\"sk-item\"><div class=\"sk-parallel\"><div class=\"sk-parallel-item\"><div class=\"sk-item\"><div class=\"sk-label-container\"><div class=\"sk-label sk-toggleable\"><label>final_estimator</label></div></div><div class=\"sk-serial\"><div class=\"sk-item\"><div class=\"sk-serial\"><div class=\"sk-item\"><div class=\"sk-estimator sk-toggleable\"><input class=\"sk-toggleable__control sk-hidden--visually\" id=\"sk-estimator-id-29\" type=\"checkbox\" ><label for=\"sk-estimator-id-29\" class=\"sk-toggleable__label sk-toggleable__label-arrow\">SimpleImputer</label><div class=\"sk-toggleable__content\"><pre>SimpleImputer(strategy=&#x27;median&#x27;)</pre></div></div></div><div class=\"sk-item\"><div class=\"sk-estimator sk-toggleable\"><input class=\"sk-toggleable__control sk-hidden--visually\" id=\"sk-estimator-id-30\" type=\"checkbox\" ><label for=\"sk-estimator-id-30\" class=\"sk-toggleable__label sk-toggleable__label-arrow\">LogisticRegression</label><div class=\"sk-toggleable__content\"><pre>LogisticRegression(n_jobs=-1, random_state=0)</pre></div></div></div></div></div></div></div></div></div></div></div></div></div></div></div></div></div></div></div><div class=\"sk-item\"><div class=\"sk-parallel\"><div class=\"sk-parallel-item\"><div class=\"sk-item\"><div class=\"sk-label-container\"><div class=\"sk-label sk-toggleable\"><label>final_estimator</label></div></div><div class=\"sk-serial\"><div class=\"sk-item\"><div class=\"sk-serial\"><div class=\"sk-item\"><div class=\"sk-estimator sk-toggleable\"><input class=\"sk-toggleable__control sk-hidden--visually\" id=\"sk-estimator-id-31\" type=\"checkbox\" ><label for=\"sk-estimator-id-31\" class=\"sk-toggleable__label sk-toggleable__label-arrow\">SimpleImputer</label><div class=\"sk-toggleable__content\"><pre>SimpleImputer(strategy=&#x27;median&#x27;)</pre></div></div></div><div class=\"sk-item\"><div class=\"sk-estimator sk-toggleable\"><input class=\"sk-toggleable__control sk-hidden--visually\" id=\"sk-estimator-id-32\" type=\"checkbox\" ><label for=\"sk-estimator-id-32\" class=\"sk-toggleable__label sk-toggleable__label-arrow\">LogisticRegression</label><div class=\"sk-toggleable__content\"><pre>LogisticRegression(n_jobs=-1, random_state=0)</pre></div></div></div></div></div></div></div></div></div></div></div></div></div></div>"
      ],
      "text/plain": [
       "StackingClassifier(cv=StratifiedKFold(n_splits=3, random_state=0, shuffle=True),\n",
       "                   estimators=[('cnv',\n",
       "                                Pipeline(steps=[('column_selector',\n",
       "                                                 ColumnSelector(cols=Index(['A1BG_cnv', 'A2M_cnv', 'NAT1_cnv', 'NAT2_cnv', 'SERPINA3_cnv',\n",
       "       'AADAC_cnv', 'AAMP_cnv', 'AANAT_cnv', 'AARS_cnv', 'ABAT_cnv',\n",
       "       ...\n",
       "       'LOC105376430_cnv', 'LOC105376575_cnv', 'LOC105376887_cnv',\n",
       "       'LOC105376948_cn...\n",
       "                                                                                 RandomForestClassifier(random_state=0)),\n",
       "                                                                                ('svc',\n",
       "                                                                                 CalibratedClassifierCV(estimator=LinearSVC(C=10)))],\n",
       "                                                                    final_estimator=Pipeline(steps=[('imputer',\n",
       "                                                                                                     SimpleImputer(strategy='median')),\n",
       "                                                                                                    ('l1',\n",
       "                                                                                                     LogisticRegression(n_jobs=-1,\n",
       "                                                                                                                        random_state=0))]),\n",
       "                                                                    n_jobs=-1))]))],\n",
       "                   final_estimator=Pipeline(steps=[('imputer',\n",
       "                                                    SimpleImputer(strategy='median')),\n",
       "                                                   ('l2',\n",
       "                                                    LogisticRegression(n_jobs=-1,\n",
       "                                                                       random_state=0))]),\n",
       "                   n_jobs=-1)"
      ]
     },
     "execution_count": 82,
     "metadata": {},
     "output_type": "execute_result"
    }
   ],
   "source": [
    "meta_ensemble.pipeline_"
   ]
  },
  {
   "cell_type": "code",
   "execution_count": 9,
   "metadata": {},
   "outputs": [
    {
     "name": "stderr",
     "output_type": "stream",
     "text": [
      "[Parallel(n_jobs=-1)]: Using backend LokyBackend with 8 concurrent workers.\n"
     ]
    },
    {
     "name": "stdout",
     "output_type": "stream",
     "text": [
      "[CV] END .................................................... total time= 6.9min\n",
      "[CV] END .................................................... total time= 7.0min\n"
     ]
    },
    {
     "name": "stderr",
     "output_type": "stream",
     "text": [
      "[Parallel(n_jobs=-1)]: Done   2 out of   5 | elapsed:  7.0min remaining: 10.5min\n"
     ]
    },
    {
     "name": "stdout",
     "output_type": "stream",
     "text": [
      "[CV] END .................................................... total time= 7.0min\n",
      "[CV] END .................................................... total time= 7.1min\n",
      "[CV] END .................................................... total time= 7.1min\n"
     ]
    },
    {
     "name": "stderr",
     "output_type": "stream",
     "text": [
      "[Parallel(n_jobs=-1)]: Done   5 out of   5 | elapsed:  7.2min remaining:    0.0s\n",
      "[Parallel(n_jobs=-1)]: Done   5 out of   5 | elapsed:  7.2min finished\n"
     ]
    }
   ],
   "source": [
    "integration_scores, integration_metrics = get_cross_metrics(meta_ensemble, merged_X, y, name='Integration Model', cv=5, verbose=2, fit_params={'column_names': column_names})"
   ]
  },
  {
   "cell_type": "code",
   "execution_count": 10,
   "metadata": {},
   "outputs": [
    {
     "data": {
      "text/html": [
       "<div>\n",
       "<style scoped>\n",
       "    .dataframe tbody tr th:only-of-type {\n",
       "        vertical-align: middle;\n",
       "    }\n",
       "\n",
       "    .dataframe tbody tr th {\n",
       "        vertical-align: top;\n",
       "    }\n",
       "\n",
       "    .dataframe thead th {\n",
       "        text-align: right;\n",
       "    }\n",
       "</style>\n",
       "<table border=\"1\" class=\"dataframe\">\n",
       "  <thead>\n",
       "    <tr style=\"text-align: right;\">\n",
       "      <th></th>\n",
       "      <th>f1</th>\n",
       "      <th>accuracy</th>\n",
       "    </tr>\n",
       "  </thead>\n",
       "  <tbody>\n",
       "    <tr>\n",
       "      <th>Integration Model</th>\n",
       "      <td>0.835 +/- 0.088</td>\n",
       "      <td>0.843 +/- 0.086</td>\n",
       "    </tr>\n",
       "  </tbody>\n",
       "</table>\n",
       "</div>"
      ],
      "text/plain": [
       "                                f1         accuracy\n",
       "Integration Model  0.835 +/- 0.088  0.843 +/- 0.086"
      ]
     },
     "execution_count": 10,
     "metadata": {},
     "output_type": "execute_result"
    }
   ],
   "source": [
    "integration_metrics"
   ]
  },
  {
   "cell_type": "markdown",
   "metadata": {},
   "source": [
    "We see that currently, the Integration Model is performing at a similar accuracy as just mRNA by itself."
   ]
  },
  {
   "cell_type": "code",
   "execution_count": 11,
   "metadata": {},
   "outputs": [],
   "source": [
    "names = ['cnv', 'mrna', 'prot', 'integration']"
   ]
  },
  {
   "cell_type": "code",
   "execution_count": 25,
   "metadata": {},
   "outputs": [],
   "source": [
    "integration = []\n",
    "integration.append(scores['cnv'])\n",
    "integration.append(scores['mrna'])\n",
    "integration.append(scores['prot'])\n",
    "integration.append(integration_scores)"
   ]
  },
  {
   "cell_type": "markdown",
   "metadata": {},
   "source": []
  },
  {
   "cell_type": "code",
   "execution_count": 28,
   "metadata": {},
   "outputs": [
    {
     "data": {
      "image/png": "[encoded data removed]",
      "text/plain": [
       "<Figure size 640x480 with 1 Axes>"
      ]
     },
     "metadata": {},
     "output_type": "display_data"
    },
    {
     "data": {
      "image/png": "[encoded data removed]",
      "text/plain": [
       "<Figure size 640x480 with 1 Axes>"
      ]
     },
     "metadata": {},
     "output_type": "display_data"
    }
   ],
   "source": [
    "plot_scores(names, integration)"
   ]
  }
 ],
 "metadata": {
  "kernelspec": {
   "display_name": "sklearn-venv",
   "language": "python",
   "name": "python3"
  },
  "language_info": {
   "codemirror_mode": {
    "name": "ipython",
    "version": 3
   },
   "file_extension": ".py",
   "mimetype": "text/x-python",
   "name": "python",
   "nbconvert_exporter": "python",
   "pygments_lexer": "ipython3",
   "version": "3.8.8"
  },
  "orig_nbformat": 4
 },
 "nbformat": 4,
 "nbformat_minor": 2
}
