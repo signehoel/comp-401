{
 "cells": [
  {
   "cell_type": "code",
   "execution_count": null,
   "metadata": {},
   "outputs": [],
   "source": [
    "from multi_omics_integration.func import *\n",
    "from multi_omics_integration.classification_pipeline import *\n",
    "from multi_omics_integration.processing import *\n",
    "from multi_omics_integration.evaluation import *\n",
    "import warnings\n",
    "from pandas.errors import SettingWithCopyWarning\n",
    "from sklearn.exceptions import ConvergenceWarning\n",
    "\n",
    "warnings.simplefilter(action=\"ignore\", category=SettingWithCopyWarning)\n",
    "warnings.simplefilter(action=\"ignore\", category=FutureWarning)\n",
    "warnings.simplefilter(action=\"ignore\", category=ConvergenceWarning)"
   ]
  },
  {
   "cell_type": "code",
   "execution_count": null,
   "metadata": {},
   "outputs": [],
   "source": [
    "datasets = {\n",
    "            'rna': '../data/breast/RNASeq.csv',\n",
    "            'mirna': '../data/breast/miRNASeq.csv',\n",
    "            'methylation': '../data/breast/Methylation.csv',\n",
    "}\n",
    "        \n",
    "labels = '../data/breast/Clinical.csv'"
   ]
  },
  {
   "cell_type": "code",
   "execution_count": null,
   "metadata": {},
   "outputs": [],
   "source": []
  }
 ],
 "metadata": {
  "language_info": {
   "name": "python"
  }
 },
 "nbformat": 4,
 "nbformat_minor": 2
}
